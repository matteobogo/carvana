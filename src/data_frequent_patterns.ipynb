{
 "cells": [
  {
   "cell_type": "code",
   "execution_count": 1,
   "metadata": {
    "collapsed": true
   },
   "outputs": [],
   "source": [
    "%matplotlib inline\n",
    "\n",
    "import math\n",
    "import subprocess\n",
    "import numpy as np\n",
    "import pandas as pd\n",
    "import scipy.stats as stats\n",
    "import matplotlib.pyplot as plt\n",
    "\n",
    "from collections import defaultdict\n",
    "from scipy.stats.stats import pearsonr"
   ]
  },
  {
   "cell_type": "code",
   "execution_count": null,
   "metadata": {
    "collapsed": true
   },
   "outputs": [],
   "source": [
    "def tra2rel(fileinput, fileoutput, delimiter=',', has_header=True):\n",
    "    data = open(fileinput, 'r')\n",
    "    if has_header:\n",
    "        data.readline()\n",
    "    baskets = defaultdict(list)\n",
    "\n",
    "    for row in data:\n",
    "        basket_id = row.replace('\\r\\n', '').split(delimiter)[0]\n",
    "        item_id = row.replace('\\r\\n', '').split(delimiter)[1]\n",
    "        baskets[basket_id].append(item_id)\n",
    "\n",
    "    data.close()\n",
    "\n",
    "    out = open(fileoutput, 'w')\n",
    "    for k, v in baskets.iteritems():\n",
    "        s = '%s' % k\n",
    "        for item in v:\n",
    "            s += ',%s' % item\n",
    "        out.write('%s\\n' % s)\n",
    "    out.close()\n",
    "    \n",
    "    return baskets"
   ]
  },
  {
   "cell_type": "code",
   "execution_count": null,
   "metadata": {
    "collapsed": true
   },
   "outputs": [],
   "source": []
  }
 ],
 "metadata": {
  "anaconda-cloud": {},
  "kernelspec": {
   "display_name": "Python [default]",
   "language": "python",
   "name": "python2"
  },
  "language_info": {
   "codemirror_mode": {
    "name": "ipython",
    "version": 2
   },
   "file_extension": ".py",
   "mimetype": "text/x-python",
   "name": "python",
   "nbconvert_exporter": "python",
   "pygments_lexer": "ipython2",
   "version": "2.7.12"
  }
 },
 "nbformat": 4,
 "nbformat_minor": 1
}
