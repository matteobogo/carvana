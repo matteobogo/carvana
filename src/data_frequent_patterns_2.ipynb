{
 "cells": [
  {
   "cell_type": "code",
   "execution_count": 1,
   "metadata": {
    "collapsed": true
   },
   "outputs": [],
   "source": [
    "%matplotlib inline\n",
    "\n",
    "import math\n",
    "import subprocess\n",
    "import numpy as np\n",
    "import pandas as pd\n",
    "import scipy.stats as stats\n",
    "import matplotlib.pyplot as plt\n",
    "\n",
    "from collections import defaultdict\n",
    "from scipy.stats.stats import pearsonr\n"
   ]
  },
  {
   "cell_type": "code",
   "execution_count": 2,
   "metadata": {
    "collapsed": false
   },
   "outputs": [],
   "source": [
    "def tra2rel(fileinput, fileoutput, delimiter=',', has_header=True):\n",
    "    data = open(fileinput, 'r')\n",
    "    if has_header:\n",
    "        data.readline()\n",
    "    baskets = defaultdict(list)\n",
    "\n",
    "    for row in data:\n",
    "        basket_id = row.replace('\\r\\n', '').split(delimiter)[0]\n",
    "        item_id = row.replace('\\r\\n', '').split(delimiter)[1]\n",
    "        baskets[basket_id].append(item_id)\n",
    "\n",
    "    data.close()\n",
    "\n",
    "    out = open(fileoutput, 'w')\n",
    "    for k, v in baskets.iteritems():\n",
    "        s = '%s' % k\n",
    "        for item in v:\n",
    "            s += ',%s' % item\n",
    "        out.write('%s\\n' % s)\n",
    "    out.close()\n",
    "    \n",
    "    return baskets"
   ]
  },
  {
   "cell_type": "code",
   "execution_count": 3,
   "metadata": {
    "collapsed": false
   },
   "outputs": [],
   "source": [
    "def call_apriori(fileinput, fileoutput, delimiter=',', target_type='s', \n",
    "                 min_nbr_items=1, min_sup=2, min_conf=2):\n",
    "    # apriori\n",
    "    # -t# {m: maximal, c: closed, s: frequent, r: association rules}\n",
    "    # -m# minimum number of items per item set/association rule\n",
    "    # -s# minimum support of an item set, positive: percentage, negative: absolute\n",
    "    # -c# minimum confidence rule percentage\n",
    "    # -b# line delimiter (,)\n",
    "    # The default additional information output format for rules is \" (%X, %C)\"\n",
    "    # %X relative body set support as a percentage\n",
    "    # %C rule confidence as a percentage\n",
    "    # %L lift\n",
    "\n",
    "    if target_type == 'r':\n",
    "        call_cmd = ['./apriori', '-b%s' % delimiter, '-t%s' % target_type, '-m%s' % min_nbr_items, \n",
    "                    '-s%s' % min_sup, '-c%s' % min_conf, '-v (%X, %C, %L)', \n",
    "                    fileinput, fileoutput]\n",
    "    else:\n",
    "        call_cmd = ['./apriori', '-b%s' % delimiter, '-t%s' % target_type, \n",
    "                           '-m%s' % min_nbr_items, '-s%s' % min_sup, fileinput, fileoutput]\n",
    "\n",
    "    ret = subprocess.call(call_cmd,  stdout=open('apriori_stdout.txt', 'w'), \n",
    "                          stderr=open('apriori_stderr.txt', 'w'))\n",
    "    return ret"
   ]
  },
  {
   "cell_type": "code",
   "execution_count": 4,
   "metadata": {
    "collapsed": true
   },
   "outputs": [],
   "source": [
    "def read_rules(filename):\n",
    "    data = open(filename, 'r')\n",
    "    rules = list()\n",
    "    for row in data:\n",
    "        fileds = row.rstrip('\\n\\r').split(' <- ')\n",
    "        cons = fileds[0]\n",
    "        other = fileds[1].split(' (')\n",
    "        ant = other[0].split(' ')\n",
    "        other2 = other[1].split(', ')\n",
    "        sup = float(other2[0])\n",
    "        conf = float(other2[1])\n",
    "        lift = float(other2[2].replace(')', ''))\n",
    "        rule = {\n",
    "            'ant': ant,\n",
    "            'cons': cons,\n",
    "            'sup': sup,\n",
    "            'conf': conf,\n",
    "            'lift': lift\n",
    "        }\n",
    "        rules.append(rule)\n",
    "    data.close()\n",
    "    return rules"
   ]
  },
  {
   "cell_type": "code",
   "execution_count": 5,
   "metadata": {
    "collapsed": true
   },
   "outputs": [],
   "source": [
    "# Frequent Pattern Mining on Titanic Dataset"
   ]
  },
  {
   "cell_type": "code",
   "execution_count": 6,
   "metadata": {
    "collapsed": false
   },
   "outputs": [],
   "source": [
    "df = pd.read_csv(\"training.csv\")"
   ]
  },
  {
   "cell_type": "code",
   "execution_count": 7,
   "metadata": {
    "collapsed": false
   },
   "outputs": [],
   "source": [
    "def clean_data(df):\n",
    "    \n",
    "    ages = sorted(df['VehicleAge'].unique())\n",
    "    ages_mapping = dict(zip(ages, range(0, len(ages) + 1)))\n",
    "    df['VehicleAge_Val'] = df['VehicleAge'].map(ages_mapping).astype(int)\n",
    "    \n",
    "    aucguarts = sorted(df['AUCGUART'].unique())\n",
    "    aucguart_mapping = dict(zip(aucguarts, range(0, len(aucguarts) + 1)))\n",
    "    df['AUCGUART_Val'] = df['AUCGUART'].map(aucguart_mapping).astype(int)\n",
    "    \n",
    "    df.replace({'VNZIP1' : { np.nan : 48796}}, inplace=True)\n",
    "    df.replace({'VehBCost' : { np.nan : 6802}}, inplace=True)\n",
    "    df.replace({'WarrantyCost' : { np.nan : 1297}}, inplace=True)\n",
    "    \n",
    "    df.dtypes[df.dtypes.map(lambda x: x == 'object')]\n",
    "    \n",
    "    df_train = df.drop(['PurchDate','Auction','Make','Model','Trim','SubModel','Color','Transmission','WheelType','Nationality','Size','TopThreeAmericanName','PRIMEUNIT','AUCGUART','VNST'], axis=1)\n",
    "    df_train = df_train.drop(['RefId','VehYear','WheelTypeID','MMRAcquisitionAuctionAveragePrice','MMRAcquisitionAuctionCleanPrice','MMRAcquisitionRetailAveragePrice','MMRAcquisitonRetailCleanPrice','MMRCurrentAuctionAveragePrice','MMRCurrentAuctionCleanPrice','MMRCurrentRetailAveragePrice','MMRCurrentRetailCleanPrice','BYRNO','IsOnlineSale'], axis=1)\n",
    "\n",
    "    \n",
    "    return df_train"
   ]
  },
  {
   "cell_type": "code",
   "execution_count": 30,
   "metadata": {
    "collapsed": false
   },
   "outputs": [],
   "source": [
    "df2 = clean_data(df)"
   ]
  },
  {
   "cell_type": "code",
   "execution_count": 31,
   "metadata": {
    "collapsed": false
   },
   "outputs": [
    {
     "data": {
      "text/html": [
       "<div>\n",
       "<table border=\"1\" class=\"dataframe\">\n",
       "  <thead>\n",
       "    <tr style=\"text-align: right;\">\n",
       "      <th></th>\n",
       "      <th>IsBadBuy</th>\n",
       "      <th>VehicleAge</th>\n",
       "      <th>VehOdo</th>\n",
       "      <th>VNZIP1</th>\n",
       "      <th>VehBCost</th>\n",
       "      <th>WarrantyCost</th>\n",
       "      <th>VehicleAge_Val</th>\n",
       "      <th>AUCGUART_Val</th>\n",
       "    </tr>\n",
       "  </thead>\n",
       "  <tbody>\n",
       "    <tr>\n",
       "      <th>0</th>\n",
       "      <td>0</td>\n",
       "      <td>3</td>\n",
       "      <td>89046</td>\n",
       "      <td>33619.0</td>\n",
       "      <td>7100.0</td>\n",
       "      <td>1113.0</td>\n",
       "      <td>2</td>\n",
       "      <td>0</td>\n",
       "    </tr>\n",
       "    <tr>\n",
       "      <th>1</th>\n",
       "      <td>0</td>\n",
       "      <td>5</td>\n",
       "      <td>93593</td>\n",
       "      <td>33619.0</td>\n",
       "      <td>7600.0</td>\n",
       "      <td>1053.0</td>\n",
       "      <td>4</td>\n",
       "      <td>0</td>\n",
       "    </tr>\n",
       "    <tr>\n",
       "      <th>2</th>\n",
       "      <td>0</td>\n",
       "      <td>4</td>\n",
       "      <td>73807</td>\n",
       "      <td>33619.0</td>\n",
       "      <td>4900.0</td>\n",
       "      <td>1389.0</td>\n",
       "      <td>3</td>\n",
       "      <td>0</td>\n",
       "    </tr>\n",
       "    <tr>\n",
       "      <th>3</th>\n",
       "      <td>0</td>\n",
       "      <td>5</td>\n",
       "      <td>65617</td>\n",
       "      <td>33619.0</td>\n",
       "      <td>4100.0</td>\n",
       "      <td>630.0</td>\n",
       "      <td>4</td>\n",
       "      <td>0</td>\n",
       "    </tr>\n",
       "    <tr>\n",
       "      <th>4</th>\n",
       "      <td>0</td>\n",
       "      <td>4</td>\n",
       "      <td>69367</td>\n",
       "      <td>33619.0</td>\n",
       "      <td>4000.0</td>\n",
       "      <td>1020.0</td>\n",
       "      <td>3</td>\n",
       "      <td>0</td>\n",
       "    </tr>\n",
       "  </tbody>\n",
       "</table>\n",
       "</div>"
      ],
      "text/plain": [
       "   IsBadBuy  VehicleAge  VehOdo   VNZIP1  VehBCost  WarrantyCost  \\\n",
       "0         0           3   89046  33619.0    7100.0        1113.0   \n",
       "1         0           5   93593  33619.0    7600.0        1053.0   \n",
       "2         0           4   73807  33619.0    4900.0        1389.0   \n",
       "3         0           5   65617  33619.0    4100.0         630.0   \n",
       "4         0           4   69367  33619.0    4000.0        1020.0   \n",
       "\n",
       "   VehicleAge_Val  AUCGUART_Val  \n",
       "0               2             0  \n",
       "1               4             0  \n",
       "2               3             0  \n",
       "3               4             0  \n",
       "4               3             0  "
      ]
     },
     "execution_count": 31,
     "metadata": {},
     "output_type": "execute_result"
    }
   ],
   "source": [
    "df2.head()"
   ]
  },
  {
   "cell_type": "code",
   "execution_count": 32,
   "metadata": {
    "collapsed": false
   },
   "outputs": [],
   "source": [
    "df2['VehOdoGroup'] = pd.cut(df2['VehOdo'], bins=range(0, 100005, 10000), right=False, labels=range(0, 100000, 10000))"
   ]
  },
  {
   "cell_type": "code",
   "execution_count": 33,
   "metadata": {
    "collapsed": false
   },
   "outputs": [
    {
     "data": {
      "text/html": [
       "<div>\n",
       "<table border=\"1\" class=\"dataframe\">\n",
       "  <thead>\n",
       "    <tr style=\"text-align: right;\">\n",
       "      <th></th>\n",
       "      <th>IsBadBuy</th>\n",
       "      <th>VehicleAge</th>\n",
       "      <th>VehOdo</th>\n",
       "      <th>VNZIP1</th>\n",
       "      <th>VehBCost</th>\n",
       "      <th>WarrantyCost</th>\n",
       "      <th>VehicleAge_Val</th>\n",
       "      <th>AUCGUART_Val</th>\n",
       "      <th>VehOdoGroup</th>\n",
       "    </tr>\n",
       "  </thead>\n",
       "  <tbody>\n",
       "    <tr>\n",
       "      <th>0</th>\n",
       "      <td>0</td>\n",
       "      <td>3</td>\n",
       "      <td>89046</td>\n",
       "      <td>33619.0</td>\n",
       "      <td>7100.0</td>\n",
       "      <td>1113.0</td>\n",
       "      <td>2</td>\n",
       "      <td>0</td>\n",
       "      <td>80000</td>\n",
       "    </tr>\n",
       "    <tr>\n",
       "      <th>1</th>\n",
       "      <td>0</td>\n",
       "      <td>5</td>\n",
       "      <td>93593</td>\n",
       "      <td>33619.0</td>\n",
       "      <td>7600.0</td>\n",
       "      <td>1053.0</td>\n",
       "      <td>4</td>\n",
       "      <td>0</td>\n",
       "      <td>90000</td>\n",
       "    </tr>\n",
       "    <tr>\n",
       "      <th>2</th>\n",
       "      <td>0</td>\n",
       "      <td>4</td>\n",
       "      <td>73807</td>\n",
       "      <td>33619.0</td>\n",
       "      <td>4900.0</td>\n",
       "      <td>1389.0</td>\n",
       "      <td>3</td>\n",
       "      <td>0</td>\n",
       "      <td>70000</td>\n",
       "    </tr>\n",
       "    <tr>\n",
       "      <th>3</th>\n",
       "      <td>0</td>\n",
       "      <td>5</td>\n",
       "      <td>65617</td>\n",
       "      <td>33619.0</td>\n",
       "      <td>4100.0</td>\n",
       "      <td>630.0</td>\n",
       "      <td>4</td>\n",
       "      <td>0</td>\n",
       "      <td>60000</td>\n",
       "    </tr>\n",
       "    <tr>\n",
       "      <th>4</th>\n",
       "      <td>0</td>\n",
       "      <td>4</td>\n",
       "      <td>69367</td>\n",
       "      <td>33619.0</td>\n",
       "      <td>4000.0</td>\n",
       "      <td>1020.0</td>\n",
       "      <td>3</td>\n",
       "      <td>0</td>\n",
       "      <td>60000</td>\n",
       "    </tr>\n",
       "  </tbody>\n",
       "</table>\n",
       "</div>"
      ],
      "text/plain": [
       "   IsBadBuy  VehicleAge  VehOdo   VNZIP1  VehBCost  WarrantyCost  \\\n",
       "0         0           3   89046  33619.0    7100.0        1113.0   \n",
       "1         0           5   93593  33619.0    7600.0        1053.0   \n",
       "2         0           4   73807  33619.0    4900.0        1389.0   \n",
       "3         0           5   65617  33619.0    4100.0         630.0   \n",
       "4         0           4   69367  33619.0    4000.0        1020.0   \n",
       "\n",
       "   VehicleAge_Val  AUCGUART_Val VehOdoGroup  \n",
       "0               2             0       80000  \n",
       "1               4             0       90000  \n",
       "2               3             0       70000  \n",
       "3               4             0       60000  \n",
       "4               3             0       60000  "
      ]
     },
     "execution_count": 33,
     "metadata": {},
     "output_type": "execute_result"
    }
   ],
   "source": [
    "df2.head()"
   ]
  },
  {
   "cell_type": "code",
   "execution_count": 34,
   "metadata": {
    "collapsed": false
   },
   "outputs": [],
   "source": [
    "df2['WarrantyCost'] = pd.cut(df2['WarrantyCost'], bins=range(0, 3005, 500), right=False, labels=range(0, 3000, 500))"
   ]
  },
  {
   "cell_type": "code",
   "execution_count": 35,
   "metadata": {
    "collapsed": false
   },
   "outputs": [
    {
     "data": {
      "text/html": [
       "<div>\n",
       "<table border=\"1\" class=\"dataframe\">\n",
       "  <thead>\n",
       "    <tr style=\"text-align: right;\">\n",
       "      <th></th>\n",
       "      <th>IsBadBuy</th>\n",
       "      <th>VehicleAge</th>\n",
       "      <th>VNZIP1</th>\n",
       "      <th>VehBCost</th>\n",
       "      <th>AUCGUART_Val</th>\n",
       "      <th>VehOdoGroup</th>\n",
       "    </tr>\n",
       "  </thead>\n",
       "  <tbody>\n",
       "    <tr>\n",
       "      <th>0</th>\n",
       "      <td>0</td>\n",
       "      <td>3</td>\n",
       "      <td>33619.0</td>\n",
       "      <td>7100.0</td>\n",
       "      <td>0</td>\n",
       "      <td>80000</td>\n",
       "    </tr>\n",
       "    <tr>\n",
       "      <th>1</th>\n",
       "      <td>0</td>\n",
       "      <td>5</td>\n",
       "      <td>33619.0</td>\n",
       "      <td>7600.0</td>\n",
       "      <td>0</td>\n",
       "      <td>90000</td>\n",
       "    </tr>\n",
       "    <tr>\n",
       "      <th>2</th>\n",
       "      <td>0</td>\n",
       "      <td>4</td>\n",
       "      <td>33619.0</td>\n",
       "      <td>4900.0</td>\n",
       "      <td>0</td>\n",
       "      <td>70000</td>\n",
       "    </tr>\n",
       "    <tr>\n",
       "      <th>3</th>\n",
       "      <td>0</td>\n",
       "      <td>5</td>\n",
       "      <td>33619.0</td>\n",
       "      <td>4100.0</td>\n",
       "      <td>0</td>\n",
       "      <td>60000</td>\n",
       "    </tr>\n",
       "    <tr>\n",
       "      <th>4</th>\n",
       "      <td>0</td>\n",
       "      <td>4</td>\n",
       "      <td>33619.0</td>\n",
       "      <td>4000.0</td>\n",
       "      <td>0</td>\n",
       "      <td>60000</td>\n",
       "    </tr>\n",
       "  </tbody>\n",
       "</table>\n",
       "</div>"
      ],
      "text/plain": [
       "   IsBadBuy  VehicleAge   VNZIP1  VehBCost  AUCGUART_Val VehOdoGroup\n",
       "0         0           3  33619.0    7100.0             0       80000\n",
       "1         0           5  33619.0    7600.0             0       90000\n",
       "2         0           4  33619.0    4900.0             0       70000\n",
       "3         0           5  33619.0    4100.0             0       60000\n",
       "4         0           4  33619.0    4000.0             0       60000"
      ]
     },
     "execution_count": 35,
     "metadata": {},
     "output_type": "execute_result"
    }
   ],
   "source": [
    "df2.drop(['VehOdo', 'WarrantyCost', 'VehicleAge_Val'], axis=1, inplace=True)\n",
    "df2.head()"
   ]
  },
  {
   "cell_type": "code",
   "execution_count": 36,
   "metadata": {
    "collapsed": false
   },
   "outputs": [],
   "source": [
    "df3 = df2\n",
    "df3['IsBadBuy'] = df2['IsBadBuy'].astype(str) + '_IBD'\n",
    "df3['VehicleAge'] = df2['VehicleAge'].astype(str) + '_VA'\n",
    "df3['VNZIP1'] = df2['VNZIP1'].astype(str) + '_ZIP'\n",
    "df3['VehBCost'] = df2['VehBCost'].astype(str) + '_VBC'\n",
    "df3['AUCGUART_Val'] = df2['AUCGUART_Val'].astype(str) + '_AUC'\n",
    "df3['VehOdoGroup'] = df2['VehOdoGroup'].astype(str) + '_ODO'"
   ]
  },
  {
   "cell_type": "code",
   "execution_count": 37,
   "metadata": {
    "collapsed": false
   },
   "outputs": [
    {
     "data": {
      "text/html": [
       "<div>\n",
       "<table border=\"1\" class=\"dataframe\">\n",
       "  <thead>\n",
       "    <tr style=\"text-align: right;\">\n",
       "      <th></th>\n",
       "      <th>IsBadBuy</th>\n",
       "      <th>VehicleAge</th>\n",
       "      <th>VNZIP1</th>\n",
       "      <th>VehBCost</th>\n",
       "      <th>AUCGUART_Val</th>\n",
       "      <th>VehOdoGroup</th>\n",
       "    </tr>\n",
       "  </thead>\n",
       "  <tbody>\n",
       "    <tr>\n",
       "      <th>0</th>\n",
       "      <td>0_IBD</td>\n",
       "      <td>3_VA</td>\n",
       "      <td>33619.0_ZIP</td>\n",
       "      <td>7100.0_VBC</td>\n",
       "      <td>0_AUC</td>\n",
       "      <td>80000.0_ODO</td>\n",
       "    </tr>\n",
       "    <tr>\n",
       "      <th>1</th>\n",
       "      <td>0_IBD</td>\n",
       "      <td>5_VA</td>\n",
       "      <td>33619.0_ZIP</td>\n",
       "      <td>7600.0_VBC</td>\n",
       "      <td>0_AUC</td>\n",
       "      <td>90000.0_ODO</td>\n",
       "    </tr>\n",
       "    <tr>\n",
       "      <th>2</th>\n",
       "      <td>0_IBD</td>\n",
       "      <td>4_VA</td>\n",
       "      <td>33619.0_ZIP</td>\n",
       "      <td>4900.0_VBC</td>\n",
       "      <td>0_AUC</td>\n",
       "      <td>70000.0_ODO</td>\n",
       "    </tr>\n",
       "    <tr>\n",
       "      <th>3</th>\n",
       "      <td>0_IBD</td>\n",
       "      <td>5_VA</td>\n",
       "      <td>33619.0_ZIP</td>\n",
       "      <td>4100.0_VBC</td>\n",
       "      <td>0_AUC</td>\n",
       "      <td>60000.0_ODO</td>\n",
       "    </tr>\n",
       "    <tr>\n",
       "      <th>4</th>\n",
       "      <td>0_IBD</td>\n",
       "      <td>4_VA</td>\n",
       "      <td>33619.0_ZIP</td>\n",
       "      <td>4000.0_VBC</td>\n",
       "      <td>0_AUC</td>\n",
       "      <td>60000.0_ODO</td>\n",
       "    </tr>\n",
       "  </tbody>\n",
       "</table>\n",
       "</div>"
      ],
      "text/plain": [
       "  IsBadBuy VehicleAge       VNZIP1    VehBCost AUCGUART_Val  VehOdoGroup\n",
       "0    0_IBD       3_VA  33619.0_ZIP  7100.0_VBC        0_AUC  80000.0_ODO\n",
       "1    0_IBD       5_VA  33619.0_ZIP  7600.0_VBC        0_AUC  90000.0_ODO\n",
       "2    0_IBD       4_VA  33619.0_ZIP  4900.0_VBC        0_AUC  70000.0_ODO\n",
       "3    0_IBD       5_VA  33619.0_ZIP  4100.0_VBC        0_AUC  60000.0_ODO\n",
       "4    0_IBD       4_VA  33619.0_ZIP  4000.0_VBC        0_AUC  60000.0_ODO"
      ]
     },
     "execution_count": 37,
     "metadata": {},
     "output_type": "execute_result"
    }
   ],
   "source": [
    "df3.head()"
   ]
  },
  {
   "cell_type": "code",
   "execution_count": 38,
   "metadata": {
    "collapsed": false
   },
   "outputs": [],
   "source": [
    "df2.to_csv('for_pattern.csv', header=False)"
   ]
  },
  {
   "cell_type": "code",
   "execution_count": 39,
   "metadata": {
    "collapsed": true
   },
   "outputs": [],
   "source": [
    "delimiter=','\n",
    "target_type='s'\n",
    "min_nbr_items=2\n",
    "min_sup=2\n",
    "min_conf=2\n",
    "\n",
    "ret_val = call_apriori('for_pattern.csv', 'patterns.txt', \n",
    "                       delimiter, target_type, min_nbr_items, min_sup, min_conf)"
   ]
  },
  {
   "cell_type": "code",
   "execution_count": 40,
   "metadata": {
    "collapsed": true
   },
   "outputs": [],
   "source": [
    "delimiter=','\n",
    "target_type='r'\n",
    "min_nbr_items=2\n",
    "min_sup=2\n",
    "min_conf=25\n",
    "\n",
    "ret_val = call_apriori('for_pattern.csv', 'rules.txt', delimiter, target_type, \n",
    "                       min_nbr_items, min_sup, min_conf)"
   ]
  },
  {
   "cell_type": "code",
   "execution_count": 41,
   "metadata": {
    "collapsed": false
   },
   "outputs": [
    {
     "name": "stdout",
     "output_type": "stream",
     "text": [
      "['60445.0_ZIP'] --> 1_IBD  lift 213.951  conf 26.2712\n",
      "['60445.0_ZIP'] --> 3_VA  lift 129.032  conf 28.8136\n",
      "['60445.0_ZIP'] --> 4_VA  lift 119.334  conf 27.9661\n",
      "['60445.0_ZIP'] --> 80000.0_ODO  lift 111.767  conf 27.1186\n",
      "['60445.0_ZIP'] --> 0_IBD  lift 84.0493  conf 73.7288\n",
      "['60445.0_ZIP'] --> 0_AUC  lift 87.5967  conf 81.3559\n",
      "['17406.0_ZIP', '0_IBD'] --> 60000.0_ODO  lift 122.597  conf 25.2101\n",
      "['17406.0_ZIP', '0_IBD'] --> 70000.0_ODO  lift 127.472  conf 35.2941\n",
      "['17406.0_ZIP', '0_AUC'] --> 70000.0_ODO  lift 126.974  conf 35.1562\n",
      "['17406.0_ZIP'] --> 70000.0_ODO  lift 129.917  conf 35.9712\n",
      "['17406.0_ZIP', '0_IBD'] --> 0_AUC  lift 97.7182  conf 90.7563\n",
      "['17406.0_ZIP', '0_AUC'] --> 0_IBD  lift 96.1857  conf 84.375\n",
      "['17406.0_ZIP'] --> 0_IBD  lift 97.5953  conf 85.6115\n",
      "['17406.0_ZIP'] --> 0_AUC  lift 99.1502  conf 92.0863\n",
      "['60440.0_ZIP', '0_IBD', '0_AUC'] --> 3_VA  lift 158.052  conf 35.2941\n",
      "['60440.0_ZIP', '0_IBD'] --> 3_VA  lift 149.272  conf 33.3333\n",
      "['60440.0_ZIP', '0_AUC'] --> 3_VA  lift 159.092  conf 35.5263\n",
      "['60440.0_ZIP'] --> 3_VA  lift 150.978  conf 33.7143\n",
      "['60440.0_ZIP', '0_IBD', '0_AUC'] --> 4_VA  lift 116.09  conf 27.2059\n",
      "['60440.0_ZIP', '0_AUC'] --> 4_VA  lift 112.292  conf 26.3158\n",
      "['60440.0_ZIP', '0_IBD', '0_AUC'] --> 80000.0_ODO  lift 121.218  conf 29.4118\n",
      "['60440.0_ZIP', '0_IBD'] --> 80000.0_ODO  lift 119.235  conf 28.9308\n",
      "['60440.0_ZIP', '0_AUC'] --> 80000.0_ODO  lift 122.015  conf 29.6053\n",
      "['60440.0_ZIP'] --> 80000.0_ODO  lift 120.109  conf 29.1429\n",
      "['60440.0_ZIP', '0_IBD', '0_AUC'] --> 70000.0_ODO  lift 106.227  conf 29.4118\n",
      "['60440.0_ZIP', '0_IBD'] --> 70000.0_ODO  lift 99.9465  conf 27.673\n",
      "['60440.0_ZIP', '0_AUC'] --> 70000.0_ODO  lift 104.549  conf 28.9474\n",
      "['60440.0_ZIP'] --> 70000.0_ODO  lift 99.0638  conf 27.4286\n",
      "['60440.0_ZIP', '0_IBD'] --> 0_AUC  lift 92.0959  conf 85.5346\n",
      "['60440.0_ZIP', '0_AUC'] --> 0_IBD  lift 101.998  conf 89.4737\n",
      "['60440.0_ZIP'] --> 0_IBD  lift 103.575  conf 90.8571\n",
      "['60440.0_ZIP'] --> 0_AUC  lift 93.5199  conf 86.8571\n",
      "['8_VA', '0_IBD', '0_AUC'] --> 33619.0_ZIP  lift 210.355  conf 32.2581\n",
      "['8_VA', '0_IBD'] --> 33619.0_ZIP  lift 193.74  conf 29.7101\n",
      "['8_VA', '0_AUC'] --> 33619.0_ZIP  lift 193.654  conf 29.697\n",
      "['8_VA'] --> 33619.0_ZIP  lift 181.139  conf 27.7778\n",
      "['8_VA', '0_IBD', '0_AUC'] --> 80000.0_ODO  lift 106.359  conf 25.8065\n",
      "['8_VA', '0_IBD'] --> 80000.0_ODO  lift 104.528  conf 25.3623\n",
      "['8_VA', '0_AUC'] --> 80000.0_ODO  lift 117.397  conf 28.4848\n",
      "['8_VA'] --> 80000.0_ODO  lift 114.483  conf 27.7778\n",
      "['8_VA', '0_IBD'] --> 0_AUC  lift 96.7478  conf 89.8551\n",
      "['8_VA', '0_AUC'] --> 0_IBD  lift 85.6712  conf 75.1515\n",
      "['8_VA'] --> 0_IBD  lift 87.3984  conf 76.6667\n",
      "['8_VA'] --> 0_AUC  lift 98.6984  conf 91.6667\n",
      "['38118.0_ZIP'] --> 3_VA  lift 114.767  conf 25.6281\n",
      "['38118.0_ZIP', '0_IBD'] --> 0_AUC  lift 94.1352  conf 87.4286\n",
      "['38118.0_ZIP', '0_AUC'] --> 0_IBD  lift 98.5406  conf 86.4407\n",
      "['38118.0_ZIP'] --> 0_IBD  lift 100.249  conf 87.9397\n",
      "['38118.0_ZIP'] --> 0_AUC  lift 95.7676  conf 88.9447\n",
      "['34203.0_ZIP', '0_IBD', '0_AUC'] --> 70000.0_ODO  lift 101.22  conf 28.0255\n",
      "['34203.0_ZIP', '0_IBD'] --> 70000.0_ODO  lift 97.4938  conf 26.9939\n",
      "['34203.0_ZIP', '0_AUC'] --> 70000.0_ODO  lift 96.6769  conf 26.7677\n",
      "['34203.0_ZIP'] --> 70000.0_ODO  lift 93.8334  conf 25.9804\n",
      "['34203.0_ZIP', '0_IBD'] --> 0_AUC  lift 103.708  conf 96.319\n",
      "['34203.0_ZIP', '0_AUC'] --> 0_IBD  lift 90.3923  conf 79.2929\n",
      "['34203.0_ZIP'] --> 0_IBD  lift 91.0866  conf 79.902\n",
      "['34203.0_ZIP'] --> 0_AUC  lift 104.504  conf 97.0588\n",
      "['40000.0_ODO', '0_IBD', '0_AUC'] --> 85040.0_ZIP  lift 202.685  conf 30.5221\n",
      "['40000.0_ODO', '0_IBD'] --> 85040.0_ZIP  lift 196.375  conf 29.572\n",
      "['40000.0_ODO', '0_AUC'] --> 85040.0_ZIP  lift 191.419  conf 28.8256\n",
      "['40000.0_ODO'] --> 85040.0_ZIP  lift 186.12  conf 28.0277\n",
      "['40000.0_ODO', '0_IBD', '0_AUC'] --> 3_VA  lift 120.496  conf 26.9076\n",
      "['40000.0_ODO', '0_IBD'] --> 3_VA  lift 120.231  conf 26.8482\n",
      "['40000.0_ODO', '0_AUC'] --> 3_VA  lift 117.93  conf 26.3345\n",
      "['40000.0_ODO'] --> 3_VA  lift 117.765  conf 26.2976\n",
      "['40000.0_ODO', '0_IBD', '0_AUC'] --> 4_VA  lift 119.958  conf 28.1124\n",
      "['40000.0_ODO', '0_IBD'] --> 4_VA  lift 116.224  conf 27.2374\n",
      "['40000.0_ODO', '0_AUC'] --> 4_VA  lift 115.409  conf 27.0463\n",
      "['40000.0_ODO'] --> 4_VA  lift 112.214  conf 26.2976\n",
      "['40000.0_ODO', '0_IBD'] --> 0_AUC  lift 104.319  conf 96.8872\n",
      "['40000.0_ODO', '0_AUC'] --> 0_IBD  lift 101.016  conf 88.6121\n",
      "['40000.0_ODO'] --> 0_IBD  lift 101.375  conf 88.9273\n",
      "['40000.0_ODO'] --> 0_AUC  lift 104.69  conf 97.2318\n",
      "['7_VA', '0_AUC'] --> 1_IBD  lift 208.819  conf 25.641\n",
      "['7_VA', '0_IBD', '0_AUC'] --> 80000.0_ODO  lift 115.47  conf 28.0172\n",
      "['7_VA', '0_IBD'] --> 80000.0_ODO  lift 111.389  conf 27.027\n",
      "['7_VA', '0_AUC'] --> 80000.0_ODO  lift 113.603  conf 27.5641\n",
      "['7_VA'] --> 80000.0_ODO  lift 109.984  conf 26.6862\n",
      "['7_VA', '0_IBD'] --> 0_AUC  lift 96.4466  conf 89.5753\n",
      "['7_VA', '0_AUC'] --> 0_IBD  lift 84.7677  conf 74.359\n",
      "['7_VA'] --> 0_IBD  lift 86.5849  conf 75.9531\n",
      "['7_VA'] --> 0_AUC  lift 98.5142  conf 91.4956\n",
      "['1_AUC', '0_IBD'] --> 80000.0_ODO  lift 116.188  conf 28.1915\n",
      "['1_AUC'] --> 80000.0_ODO  lift 114.664  conf 27.8215\n",
      "['1_AUC'] --> 0_IBD  lift 112.502  conf 98.6877\n",
      "['75061.0_ZIP', '70000.0_ODO', '0_AUC'] --> 4_VA  lift 131.007  conf 30.7018\n",
      "['75061.0_ZIP', '70000.0_ODO'] --> 4_VA  lift 130.182  conf 30.5085\n",
      "['75061.0_ZIP', '80000.0_ODO', '0_IBD'] --> 0_AUC  lift 100.819  conf 93.6364\n",
      "['75061.0_ZIP', '80000.0_ODO', '0_AUC'] --> 0_IBD  lift 95.4617  conf 83.7398\n",
      "['75061.0_ZIP', '0_IBD', '0_AUC'] --> 80000.0_ODO  lift 135.624  conf 32.9073\n",
      "['75061.0_ZIP', '80000.0_ODO'] --> 0_IBD  lift 96.4598  conf 84.6154\n",
      "['75061.0_ZIP', '0_IBD'] --> 80000.0_ODO  lift 137.38  conf 33.3333\n",
      "['75061.0_ZIP', '80000.0_ODO'] --> 0_AUC  lift 101.873  conf 94.6154\n",
      "['75061.0_ZIP', '0_AUC'] --> 80000.0_ODO  lift 137.753  conf 33.4239\n",
      "['75061.0_ZIP'] --> 80000.0_ODO  lift 139.164  conf 33.7662\n",
      "['75061.0_ZIP', '70000.0_ODO', '0_AUC'] --> 0_IBD  lift 99.9982  conf 87.7193\n",
      "['75061.0_ZIP', '0_IBD', '0_AUC'] --> 70000.0_ODO  lift 115.39  conf 31.9489\n",
      "['75061.0_ZIP', '70000.0_ODO'] --> 0_IBD  lift 100.473  conf 88.1356\n",
      "['75061.0_ZIP', '0_IBD'] --> 70000.0_ODO  lift 113.823  conf 31.5152\n",
      "['75061.0_ZIP', '70000.0_ODO'] --> 0_AUC  lift 104.021  conf 96.6102\n"
     ]
    }
   ],
   "source": [
    "rules = read_rules('rules.txt')\n",
    "for r in rules[:100]:\n",
    "    print r['ant'], '-->', r['cons'], ' lift', r['lift'], ' conf', r['conf']"
   ]
  },
  {
   "cell_type": "code",
   "execution_count": 42,
   "metadata": {
    "collapsed": false
   },
   "outputs": [],
   "source": [
    "rulse_cons_S = list()\n",
    "for r in rules:\n",
    "    if r['cons'].endswith('_S'):\n",
    "        rulse_cons_S.append(r)"
   ]
  },
  {
   "cell_type": "code",
   "execution_count": 43,
   "metadata": {
    "collapsed": false
   },
   "outputs": [
    {
     "name": "stdout",
     "output_type": "stream",
     "text": [
      "0\n"
     ]
    }
   ],
   "source": [
    "print len(rulse_cons_S)"
   ]
  },
  {
   "cell_type": "code",
   "execution_count": 44,
   "metadata": {
    "collapsed": true
   },
   "outputs": [],
   "source": [
    "sorted_rules_cons_S = sorted(rulse_cons_S, key=lambda r: r['conf'], reverse=True)"
   ]
  },
  {
   "cell_type": "code",
   "execution_count": 45,
   "metadata": {
    "collapsed": false
   },
   "outputs": [],
   "source": [
    "for r in sorted_rules_cons_S[:10]:\n",
    "    print r['ant'], '-->', r['cons'], ' lift', r['lift'], ' conf', r['conf']"
   ]
  },
  {
   "cell_type": "code",
   "execution_count": 46,
   "metadata": {
    "collapsed": false
   },
   "outputs": [
    {
     "data": {
      "text/plain": [
       "array(['0_IBD', '3_VA', '33619.0_ZIP', '7100.0_VBC', '0_AUC', '80000.0_ODO'], dtype=object)"
      ]
     },
     "execution_count": 46,
     "metadata": {},
     "output_type": "execute_result"
    }
   ],
   "source": [
    "df3.values[0]"
   ]
  },
  {
   "cell_type": "code",
   "execution_count": 47,
   "metadata": {
    "collapsed": false
   },
   "outputs": [],
   "source": [
    "passenger_test = df3.values[0]"
   ]
  },
  {
   "cell_type": "code",
   "execution_count": 48,
   "metadata": {
    "collapsed": false
   },
   "outputs": [
    {
     "name": "stdout",
     "output_type": "stream",
     "text": [
      "['33619.0_ZIP', '80000.0_ODO', '0_IBD', '0_AUC'] --> 5_VA\n",
      "['33619.0_ZIP', '80000.0_ODO', '0_IBD'] --> 5_VA\n",
      "['33619.0_ZIP', '80000.0_ODO', '0_AUC'] --> 5_VA\n",
      "['33619.0_ZIP', '80000.0_ODO'] --> 5_VA\n",
      "['33619.0_ZIP', '3_VA', '0_AUC'] --> 0_IBD\n",
      "['33619.0_ZIP', '3_VA'] --> 0_IBD\n",
      "['33619.0_ZIP', '3_VA'] --> 0_AUC\n",
      "['33619.0_ZIP', '80000.0_ODO', '0_IBD'] --> 0_AUC\n",
      "['33619.0_ZIP', '80000.0_ODO', '0_AUC'] --> 0_IBD\n",
      "['33619.0_ZIP', '80000.0_ODO'] --> 0_IBD\n",
      "['33619.0_ZIP', '80000.0_ODO'] --> 0_AUC\n",
      "['33619.0_ZIP', '0_IBD', '0_AUC'] --> 70000.0_ODO\n",
      "['33619.0_ZIP', '0_IBD'] --> 70000.0_ODO\n",
      "['33619.0_ZIP', '0_AUC'] --> 70000.0_ODO\n",
      "['33619.0_ZIP'] --> 70000.0_ODO\n",
      "['33619.0_ZIP', '0_IBD'] --> 0_AUC\n",
      "['33619.0_ZIP', '0_AUC'] --> 0_IBD\n",
      "['33619.0_ZIP'] --> 0_IBD\n",
      "['33619.0_ZIP'] --> 0_AUC\n",
      "['3_VA', '80000.0_ODO', '0_IBD'] --> 0_AUC\n",
      "['3_VA', '80000.0_ODO', '0_AUC'] --> 0_IBD\n",
      "['3_VA', '80000.0_ODO'] --> 0_IBD\n",
      "['3_VA', '80000.0_ODO'] --> 0_AUC\n",
      "['3_VA', '0_IBD', '0_AUC'] --> 70000.0_ODO\n",
      "['3_VA', '0_IBD'] --> 70000.0_ODO\n",
      "['3_VA', '0_AUC'] --> 70000.0_ODO\n",
      "['3_VA'] --> 70000.0_ODO\n",
      "['3_VA', '0_IBD'] --> 0_AUC\n",
      "['3_VA', '0_AUC'] --> 0_IBD\n",
      "['3_VA'] --> 0_IBD\n",
      "['3_VA'] --> 0_AUC\n",
      "['80000.0_ODO', '0_IBD'] --> 0_AUC\n",
      "['80000.0_ODO', '0_AUC'] --> 0_IBD\n",
      "['80000.0_ODO'] --> 0_IBD\n",
      "['80000.0_ODO'] --> 0_AUC\n",
      "['0_IBD', '0_AUC'] --> 70000.0_ODO\n",
      "['0_IBD'] --> 70000.0_ODO\n",
      "['0_AUC'] --> 70000.0_ODO\n",
      "['0_IBD'] --> 0_AUC\n",
      "['0_AUC'] --> 0_IBD\n"
     ]
    }
   ],
   "source": [
    "for r in rules:\n",
    "    if set(r['ant']) < set(passenger_test):\n",
    "        print r['ant'], '-->', r['cons']"
   ]
  },
  {
   "cell_type": "code",
   "execution_count": null,
   "metadata": {
    "collapsed": true
   },
   "outputs": [],
   "source": []
  }
 ],
 "metadata": {
  "anaconda-cloud": {},
  "kernelspec": {
   "display_name": "Python [default]",
   "language": "python",
   "name": "python2"
  },
  "language_info": {
   "codemirror_mode": {
    "name": "ipython",
    "version": 2
   },
   "file_extension": ".py",
   "mimetype": "text/x-python",
   "name": "python",
   "nbconvert_exporter": "python",
   "pygments_lexer": "ipython2",
   "version": "2.7.12"
  }
 },
 "nbformat": 4,
 "nbformat_minor": 0
}
