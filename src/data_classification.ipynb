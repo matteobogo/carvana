{
 "cells": [
  {
   "cell_type": "code",
   "execution_count": 1,
   "metadata": {
    "collapsed": false
   },
   "outputs": [],
   "source": [
    "%matplotlib inline\n",
    "import math\n",
    "import random\n",
    "import numpy as np\n",
    "import pandas as pd\n",
    "import scipy.stats as stats\n",
    "import matplotlib.pyplot as plt\n",
    "from collections import defaultdict\n",
    "from scipy.stats.stats import pearsonr\n",
    "\n",
    "from sklearn import tree\n",
    "from sklearn import metrics\n",
    "from sklearn.tree import export_graphviz\n",
    "from sklearn.ensemble import RandomForestClassifier, ExtraTreesClassifier\n",
    "from sklearn.metrics import confusion_matrix\n",
    "from sklearn.cross_validation import train_test_split\n",
    "from sklearn import cross_validation\n",
    "from sklearn.cross_validation import cross_val_score\n",
    "from sklearn import neighbors\n",
    "from sklearn import linear_model\n",
    "from sklearn.naive_bayes import GaussianNB\n",
    "from sklearn import svm\n",
    "\n",
    "# Data Normalization\n",
    "from sklearn import preprocessing"
   ]
  },
  {
   "cell_type": "code",
   "execution_count": 2,
   "metadata": {
    "collapsed": true
   },
   "outputs": [],
   "source": [
    "df = pd.read_csv(\"dataset/training.csv\") "
   ]
  },
  {
   "cell_type": "code",
   "execution_count": 3,
   "metadata": {
    "collapsed": false
   },
   "outputs": [
    {
     "name": "stdout",
     "output_type": "stream",
     "text": [
      "Check Missing Values pre-replacement\n",
      "\n",
      "RefId                                    0\n",
      "IsBadBuy                                 0\n",
      "PurchDate                                0\n",
      "Auction                                  0\n",
      "VehYear                                  0\n",
      "VehicleAge                               0\n",
      "Make                                     0\n",
      "Model                                    0\n",
      "Trim                                  2360\n",
      "SubModel                                 8\n",
      "Color                                    8\n",
      "Transmission                             9\n",
      "WheelTypeID                           3169\n",
      "WheelType                             3174\n",
      "VehOdo                                   0\n",
      "Nationality                              5\n",
      "Size                                     5\n",
      "TopThreeAmericanName                     5\n",
      "MMRAcquisitionAuctionAveragePrice       18\n",
      "MMRAcquisitionAuctionCleanPrice         18\n",
      "MMRAcquisitionRetailAveragePrice        18\n",
      "MMRAcquisitonRetailCleanPrice           18\n",
      "MMRCurrentAuctionAveragePrice          315\n",
      "MMRCurrentAuctionCleanPrice            315\n",
      "MMRCurrentRetailAveragePrice           315\n",
      "MMRCurrentRetailCleanPrice             315\n",
      "PRIMEUNIT                            69564\n",
      "AUCGUART                             69564\n",
      "BYRNO                                    0\n",
      "VNZIP1                                   0\n",
      "VNST                                     0\n",
      "VehBCost                                 0\n",
      "IsOnlineSale                             0\n",
      "WarrantyCost                             0\n",
      "dtype: int64\n",
      "# # # # # # # # # # # # # # #\n",
      "\n",
      "Transmission Ambiguity\n",
      "\n",
      "['AUTO' 'MANUAL' 'NS' 'Manual']\n",
      "\n",
      "['AUTO' 'MANUAL' 'NS']\n",
      "\n",
      "Resolve ambiguities done\n",
      "\n",
      "# # # # # # # # # # # # # # #\n",
      "\n",
      "Redundant and not necessary Attributes\n",
      "\n",
      "PurchDate dropped\n",
      "\n",
      "VehYear is redundant, dropped\n",
      "\n",
      "WheelTypeID [0.0, 1.0, 2.0, 3.0, 'NS']\n",
      "WheelTypeID is redudant, dropped\n",
      "\n",
      "TopThreeAmericanName dropped\n",
      "\n",
      "BYRNO (ID assigned to buyer) dropped\n",
      "\n",
      "# # # # # # # # # # # # # # #\n",
      "\n",
      "Replace NS Nationality with appropriate nationality based on Make\n",
      "\n",
      "DODGE => AMERICAN | GMC => AMERICAN | JEEP => AMERICAN | HYUNDAI => OTHER ASIAN\n",
      "\n",
      "Nationalities replacement done!\n",
      "\n",
      "Check if there are NS nationalities...\n",
      "\n",
      "All NS nationalities are replaced!\n",
      "\n",
      "# # # # # # # # # # # # # # #\n",
      "\n",
      "Replace NS Sizes with appropriate size based on Make and Model\n",
      "\n",
      "Sizes replacement done!\n",
      "\n",
      "Check if there are NS Sizes\n",
      "\n",
      "All NS sizes are replaced!\n",
      "\n",
      "# # # # # # # # # # # # # # #\n",
      "\n",
      "\n",
      "Check Missing Values post-replacement and without dropped attributes\n",
      "\n",
      "RefId                                0\n",
      "IsBadBuy                             0\n",
      "Auction                              0\n",
      "VehicleAge                           0\n",
      "Make                                 0\n",
      "Model                                0\n",
      "Trim                                 0\n",
      "SubModel                             0\n",
      "Color                                0\n",
      "Transmission                         0\n",
      "WheelType                            0\n",
      "VehOdo                               0\n",
      "Nationality                          0\n",
      "Size                                 0\n",
      "MMRAcquisitionAuctionAveragePrice    0\n",
      "MMRAcquisitionAuctionCleanPrice      0\n",
      "MMRAcquisitionRetailAveragePrice     0\n",
      "MMRAcquisitonRetailCleanPrice        0\n",
      "MMRCurrentAuctionAveragePrice        0\n",
      "MMRCurrentAuctionCleanPrice          0\n",
      "MMRCurrentRetailAveragePrice         0\n",
      "MMRCurrentRetailCleanPrice           0\n",
      "PRIMEUNIT                            0\n",
      "AUCGUART                             0\n",
      "VNZIP1                               0\n",
      "VNST                                 0\n",
      "VehBCost                             0\n",
      "IsOnlineSale                         0\n",
      "WarrantyCost                         0\n",
      "dtype: int64\n"
     ]
    }
   ],
   "source": [
    "# Missing Values Replacement\n",
    "print \"Check Missing Values pre-replacement\\n\"\n",
    "print df.isnull().sum()\n",
    "\n",
    "# Replacement Missing Values with NS\n",
    "df.replace({'Trim' : { np.nan : 'NS'}}, inplace=True)\n",
    "df.replace({'SubModel' : { np.nan : 'NS'}}, inplace=True)\n",
    "df.replace({'Color' : { np.nan : 'NS'}}, inplace=True)\n",
    "df.replace({'Transmission' : { np.nan : 'NS'}}, inplace=True)\n",
    "df.replace({'WheelTypeID' : { np.nan : 'NS'}}, inplace=True)\n",
    "df.replace({'WheelType' : { np.nan : 'NS'}}, inplace=True)\n",
    "df.replace({'Nationality' : { np.nan : 'NS'}}, inplace=True)\n",
    "df.replace({'Size' : { np.nan : 'NS'}}, inplace=True)\n",
    "df.replace({'TopThreeAmericanName' : { np.nan : 'NS'}}, inplace=True)\n",
    "df.replace({'MMRAcquisitionAuctionAveragePrice' : { np.nan : 'NS'}}, inplace=True)\n",
    "df.replace({'MMRAcquisitionAuctionCleanPrice' : { np.nan : 'NS'}}, inplace=True)\n",
    "df.replace({'MMRAcquisitionRetailAveragePrice' : { np.nan : 'NS'}}, inplace=True)\n",
    "df.replace({'MMRAcquisitonRetailCleanPrice' : { np.nan : 'NS'}}, inplace=True)\n",
    "df.replace({'MMRCurrentAuctionAveragePrice' : { np.nan : 'NS'}}, inplace=True)\n",
    "df.replace({'MMRCurrentAuctionCleanPrice' : { np.nan : 'NS'}}, inplace=True)\n",
    "df.replace({'MMRCurrentRetailAveragePrice' : { np.nan : 'NS'}}, inplace=True)\n",
    "df.replace({'MMRCurrentRetailCleanPrice' : { np.nan : 'NS'}}, inplace=True)\n",
    "df.replace({'PRIMEUNIT' : { np.nan : 'NS'}}, inplace=True)\n",
    "df.replace({'AUCGUART' : { np.nan : 'NS'}}, inplace=True)\n",
    "\n",
    "# Resolve Ambiguity of some attributes and drop not necessary attributes\n",
    "# Transmission => 'Manual' and 'MANUAL'\n",
    "print \"# # # # # # # # # # # # # # #\\n\"\n",
    "print \"Transmission Ambiguity\\n\"\n",
    "print df['Transmission'].unique()\n",
    "\n",
    "df['Transmission'] = df['Transmission'].str.upper()\n",
    "\n",
    "print \"\\n\", df['Transmission'].unique()\n",
    "print \"\\nResolve ambiguities done\\n\"\n",
    "\n",
    "# Drop Vehicle Year because is redundant with Vehicle Age\n",
    "print \"# # # # # # # # # # # # # # #\\n\"\n",
    "print \"Redundant and not necessary Attributes\\n\"\n",
    "\n",
    "df = df.drop('PurchDate', axis=1)\n",
    "\n",
    "print \"PurchDate dropped\\n\"\n",
    "\n",
    "df = df.drop('VehYear',axis=1)\n",
    "\n",
    "print \"VehYear is redundant, dropped\\n\"\n",
    "\n",
    "print \"WheelTypeID\", sorted(df['WheelTypeID'].unique())\n",
    "\n",
    "df = df.drop('WheelTypeID', axis=1)\n",
    "\n",
    "print \"WheelTypeID is redudant, dropped\\n\"\n",
    "\n",
    "df = df.drop('TopThreeAmericanName', axis=1)\n",
    "\n",
    "print \"TopThreeAmericanName dropped\\n\"\n",
    "\n",
    "df = df.drop('BYRNO', axis=1)\n",
    "\n",
    "print \"BYRNO (ID assigned to buyer) dropped\\n\"\n",
    "\n",
    "# Replace NS Nationality for Manufactures with the appropriate nationality\n",
    "# DODGE => AMERICAN\n",
    "# GMC => AMERICAN\n",
    "# JEEP => AMERICAN\n",
    "# HYUNDAI => OTHER ASIAN\n",
    "\n",
    "print \"# # # # # # # # # # # # # # #\\n\"\n",
    "print \"Replace NS Nationality with appropriate nationality based on Make\\n\"\n",
    "\n",
    "print \"DODGE => AMERICAN | GMC => AMERICAN | JEEP => AMERICAN | HYUNDAI => OTHER ASIAN\\n\"\n",
    "\n",
    "# Replace DODGE\n",
    "df.ix[(df.Make == 'DODGE') & (df.Nationality == 'NS'),'Nationality'] = 'AMERICAN'\n",
    "# Replace GMC\n",
    "df.ix[(df.Make == 'GMC') & (df.Nationality == 'NS'),'Nationality'] = 'AMERICAN'\n",
    "# Replace JEEP\n",
    "df.ix[(df.Make == 'JEEP') & (df.Nationality == 'NS'),'Nationality'] = 'AMERICAN'\n",
    "# Replace HYNDAI\n",
    "df.ix[(df.Make == 'HYUNDAI') & (df.Nationality == 'NS'),'Nationality'] = 'OTHER ASIAN'\n",
    "\n",
    "print \"Nationalities replacement done!\\n\"\n",
    "print \"Check if there are NS nationalities...\\n\"\n",
    "\n",
    "if df[df['Nationality'] == 'NS'].empty:\n",
    "    print \"All NS nationalities are replaced!\\n\"\n",
    "else:\n",
    "    print \"There are NS nationalities need to be replaced!\\n\"\n",
    "\n",
    "# Replace NS Sizes for Model with the appropriate Size\n",
    "\n",
    "print \"# # # # # # # # # # # # # # #\\n\"\n",
    "print \"Replace NS Sizes with appropriate size based on Make and Model\\n\"\n",
    "\n",
    "# GMC SIERRA => LARGE TRUCK\n",
    "df.ix[(df.Make == 'GMC') & (df['Model'].str.contains('SIERRA')),'Size'] = 'LARGE TRUCK'\n",
    "# DODGE NITRO => MEDIUM SUV\n",
    "df.ix[(df.Make == 'DODGE') & (df['Model'].str.contains('NITRO')),'Size'] = 'MEDIUM SUV'\n",
    "# HYUNDAI ELANTRA => MEDIUM\n",
    "df.ix[(df.Make == 'HYUNDAI') & (df['Model'].str.contains('ELANTRA')),'Size'] = 'MEDIUM'\n",
    "# JEEP PATRIOT => SMALL SUV\n",
    "df.ix[(df.Make == 'JEEP') & (df['Model'].str.contains('PATRIOT')),'Size'] = 'SMALL SUV'\n",
    "\n",
    "print \"Sizes replacement done!\\n\"\n",
    "print \"Check if there are NS Sizes\\n\"\n",
    "\n",
    "if df[df['Size'] == 'NS'].empty:\n",
    "    print \"All NS sizes are replaced!\\n\"\n",
    "else:\n",
    "    print \"There are NS sizes need to be replaced!\\n\"\n",
    "\n",
    "print \"# # # # # # # # # # # # # # #\\n\"\n",
    "print \"\\nCheck Missing Values post-replacement and without dropped attributes\\n\"\n",
    "print df.isnull().sum()"
   ]
  },
  {
   "cell_type": "code",
   "execution_count": 4,
   "metadata": {
    "collapsed": false
   },
   "outputs": [
    {
     "data": {
      "text/plain": [
       "RefId                                  int64\n",
       "IsBadBuy                               int64\n",
       "Auction                               object\n",
       "VehicleAge                             int64\n",
       "Make                                  object\n",
       "Model                                 object\n",
       "Trim                                  object\n",
       "SubModel                              object\n",
       "Color                                 object\n",
       "Transmission                          object\n",
       "WheelType                             object\n",
       "VehOdo                                 int64\n",
       "Nationality                           object\n",
       "Size                                  object\n",
       "MMRAcquisitionAuctionAveragePrice     object\n",
       "MMRAcquisitionAuctionCleanPrice       object\n",
       "MMRAcquisitionRetailAveragePrice      object\n",
       "MMRAcquisitonRetailCleanPrice         object\n",
       "MMRCurrentAuctionAveragePrice         object\n",
       "MMRCurrentAuctionCleanPrice           object\n",
       "MMRCurrentRetailAveragePrice          object\n",
       "MMRCurrentRetailCleanPrice            object\n",
       "PRIMEUNIT                             object\n",
       "AUCGUART                              object\n",
       "VNZIP1                                 int64\n",
       "VNST                                  object\n",
       "VehBCost                             float64\n",
       "IsOnlineSale                           int64\n",
       "WarrantyCost                           int64\n",
       "dtype: object"
      ]
     },
     "execution_count": 4,
     "metadata": {},
     "output_type": "execute_result"
    }
   ],
   "source": [
    "df.dtypes"
   ]
  },
  {
   "cell_type": "code",
   "execution_count": 5,
   "metadata": {
    "collapsed": false
   },
   "outputs": [
    {
     "name": "stdout",
     "output_type": "stream",
     "text": [
      "Sample of sorted unique rows for each attribute\n",
      "\n",
      "['ADESA', 'MANHEIM', 'OTHER'] \n",
      "[0, 1, 2, 3, 4] \n",
      "['ACURA', 'BUICK', 'CADILLAC', 'CHEVROLET', 'CHRYSLER'] \n",
      "['1500 RAM PICKUP 2WD', '1500 RAM PICKUP 4WD', '1500 SIERRA PICKUP 2', '1500 SIERRA PICKUP 4', '1500 SILVERADO PICKU'] \n",
      "['1', '150', '2', '250', '3'] \n",
      "['2D CONVERTIBLE', '2D CONVERTIBLE DREAM CRUISER', '2D CONVERTIBLE GL', '2D CONVERTIBLE GLS', '2D CONVERTIBLE GT'] \n",
      "['BEIGE', 'BLACK', 'BLUE', 'BROWN', 'GOLD'] \n",
      "['AUTO', 'MANUAL', 'NS'] \n",
      "['Alloy', 'Covers', 'NS', 'Special'] \n",
      "[4825, 5368, 8706, 9446, 9878] \n",
      "['AMERICAN', 'OTHER', 'OTHER ASIAN', 'TOP LINE ASIAN'] \n",
      "['COMPACT', 'CROSSOVER', 'LARGE', 'LARGE SUV', 'LARGE TRUCK'] \n",
      "['NO', 'NS', 'YES'] \n",
      "['GREEN', 'NS', 'RED'] \n",
      "[2764, 3106, 8505, 12552, 16066] \n",
      "['AL', 'AR', 'AZ', 'CA', 'CO'] \n",
      "[1.0, 225.0, 1400.0, 1620.0, 1720.0] \n",
      "[0, 1] \n",
      "[462, 482, 505, 522, 533] \n",
      "\n"
     ]
    }
   ],
   "source": [
    "# Attributes Arrays and Samples\n",
    "\n",
    "# RefId not considered\n",
    "# IsBadBuy not considered\n",
    "# PurchDate dropped\n",
    "auctions = sorted(df['Auction'].unique())\n",
    "# VehYear dropped\n",
    "vehicleAges = sorted(df['VehicleAge'].unique())\n",
    "makes = sorted(df['Make'].unique())\n",
    "models = sorted(df['Model'].unique())\n",
    "trims = sorted(df['Trim'].unique())\n",
    "subModels = sorted(df['SubModel'].unique())\n",
    "colors = sorted(df['Color'].unique())\n",
    "transmissions = sorted(df['Transmission'].unique())\n",
    "# WheelTypeID dropped\n",
    "wheeltypes = sorted(df['WheelType'].unique())\n",
    "vehOdos = sorted(df['VehOdo'].unique())\n",
    "nationalities = sorted(df['Nationality'].unique())\n",
    "sizes = sorted(df['Size'].unique())\n",
    "# TopThreeAmericanName dropped\n",
    "# MMRAcquisitionAuctionAveragePrice not considered\n",
    "# MMRAcquisitionAuctionCleanPrice not considered\n",
    "# MMRAcquisitionRetailAveragePrice not considered\n",
    "# MMRAcquisitonRetailCleanPrice not considered\n",
    "# MMRCurrentAuctionAveragePrice not considered\n",
    "# MMRCurrentAuctionCleanPrice not considered\n",
    "# MMRCurrentRetailAveragePrice not considered\n",
    "# MMRCurrentRetailCleanPrice not considered\n",
    "demands = sorted(df['PRIMEUNIT'].unique())\n",
    "guarantees = sorted(df['AUCGUART'].unique())\n",
    "# BYRNO dropped \n",
    "zipcodes = sorted(df['VNZIP1'].unique())    #VNZIP1\n",
    "states = sorted(df['VNST'].unique())        #VNST\n",
    "vehcosts = sorted(df['VehBCost'].unique())\n",
    "onlinesales = sorted(df['IsOnlineSale'].unique())\n",
    "warranties = sorted(df['WarrantyCost'].unique())\n",
    "\n",
    "# Samples\n",
    "print \"Sample of sorted unique rows for each attribute\\n\"\n",
    "print auctions[:5],\"\\n\",vehicleAges[:5],\"\\n\",makes[:5],\"\\n\",models[:5],\"\\n\",trims[:5],\"\\n\",subModels[:5],\"\\n\",colors[:5],\"\\n\",transmissions[:5],\"\\n\",\\\n",
    "    wheeltypes[:5],\"\\n\",vehOdos[:5],\"\\n\",nationalities[:5],\"\\n\",sizes[:5],\"\\n\",demands[:5],\"\\n\",guarantees[:5],\"\\n\",zipcodes[:5],\"\\n\",states[:5],\"\\n\", \\\n",
    "    vehcosts[:5],\"\\n\",onlinesales[:5],\"\\n\",warranties[:5],\"\\n\""
   ]
  },
  {
   "cell_type": "code",
   "execution_count": 6,
   "metadata": {
    "collapsed": false
   },
   "outputs": [
    {
     "name": "stdout",
     "output_type": "stream",
     "text": [
      "\n",
      "not-numeric attributes\n",
      "\n",
      "Auction                              object\n",
      "Make                                 object\n",
      "Model                                object\n",
      "Trim                                 object\n",
      "SubModel                             object\n",
      "Color                                object\n",
      "Transmission                         object\n",
      "WheelType                            object\n",
      "Nationality                          object\n",
      "Size                                 object\n",
      "MMRAcquisitionAuctionAveragePrice    object\n",
      "MMRAcquisitionAuctionCleanPrice      object\n",
      "MMRAcquisitionRetailAveragePrice     object\n",
      "MMRAcquisitonRetailCleanPrice        object\n",
      "MMRCurrentAuctionAveragePrice        object\n",
      "MMRCurrentAuctionCleanPrice          object\n",
      "MMRCurrentRetailAveragePrice         object\n",
      "MMRCurrentRetailCleanPrice           object\n",
      "PRIMEUNIT                            object\n",
      "AUCGUART                             object\n",
      "VNST                                 object\n",
      "dtype: object\n",
      "\n",
      " Dictionaries for mapping object attributes (Samples)\n",
      "\n",
      "{'OTHER': 2, 'MANHEIM': 1, 'ADESA': 0} \n",
      "{'HUMMER': 9, 'DODGE': 5, 'SATURN': 25, 'ACURA': 0, 'VOLVO': 32} \n",
      "{'CARAVAN SE': 171, 'AVALON 3.0L V6 EFI D': 100, '300C 5.7L V8 SFI / S': 24, 'YUKON 4WD V8 5.3L V8': 1054, 'SENTRA 1.8L I 4 NA D': 827} \n",
      "{'W/T': 111, 'Har': 41, 'ZTW': 125, 'Val': 110, 'Z71': 122} \n",
      "{'4D SEDAN VALUE AUTO': 300, 'MINIVAN 3.8L LIMITED': 718, 'REG CAB 5.7L SLT': 846, '2D SUV 4.0L SPORT': 85, '4D SEDAN CARTIER': 183} \n",
      "{'BLUE': 2, 'BROWN': 3, 'NS': 9, 'GOLD': 4, 'PURPLE': 12} \n",
      "{'AUTO': 0, 'NS': 2, 'MANUAL': 1} \n",
      "{'Alloy': 0, 'NS': 2, 'Covers': 1, 'Special': 3} \n",
      "{'AMERICAN': 0, 'OTHER': 1, 'OTHER ASIAN': 2, 'TOP LINE ASIAN': 3} \n",
      "{'COMPACT': 0, 'LARGE SUV': 3, 'MEDIUM': 5, 'VAN': 11, 'SPECIALTY': 9} \n",
      "{'YES': 2, 'NS': 1, 'NO': 0} \n",
      "{'NS': 1, 'GREEN': 0, 'RED': 2} \n",
      "{3067.5: 125, 1.0: 0, 8195.0: 1267, 8316.5: 1293, 8200.0: 1268} \n",
      "{29697: 28, 89506: 135, 80011: 111, 32772: 40, 33809: 49} \n",
      "{'NH': 21, 'WV': 36, 'NJ': 22, 'FL': 5, 'WA': 35} \n",
      "{2571: 223, 522: 3, 2731: 231, 1028: 58, 1543: 135} \n",
      "\n",
      "Mapping dictionaries to new attribute columns, done.\n",
      "\n"
     ]
    }
   ],
   "source": [
    "# Dictionaries with integer values mapping for no-integer attributes\n",
    "\n",
    "print \"\\nnot-numeric attributes\\n\"\n",
    "print df.dtypes[df.dtypes.map(lambda x: x == 'object')]\n",
    "\n",
    "# Assign to no-integer parameters integer values (assign an integer ID)\n",
    "# Need for clustering algorithms because they working only with numeric values\n",
    "auctionsDictionary = dict(zip(auctions,range(0, len(auctions)+1)))\n",
    "makesDictionary = dict(zip(makes,range(0, len(makes)+1)))\n",
    "modelsDictionary = dict(zip(models,range(0, len(models)+1)))\n",
    "trimsDictionary = dict(zip(trims,range(0, len(trims)+1)))\n",
    "subModelsDictionary = dict(zip(subModels,range(0, len(subModels)+1)))\n",
    "colorsDictionary = dict(zip(colors,range(0, len(colors)+1)))\n",
    "transmissionsDictionary = dict(zip(transmissions,range(0, len(transmissions)+1)))\n",
    "wheeltypesDictionary = dict(zip(wheeltypes,range(0, len(wheeltypes)+1)))\n",
    "nationalitiesDictionary = dict(zip(nationalities,range(0, len(nationalities)+1)))\n",
    "sizesDictionary = dict(zip(sizes,range(0, len(sizes)+1)))\n",
    "demandsDictionary = dict(zip(demands,range(0, len(demands)+1)))\n",
    "guaranteesDictionary = dict(zip(guarantees,range(0, len(guarantees)+1)))\n",
    "vehcostsDictionary = dict(zip(vehcosts,range(0, len(vehcosts)+1)))  #not object but mapped as dictionary\n",
    "zipcodesDictionary = dict(zip(zipcodes,range(0, len(zipcodes)+1)))  #not object but mapped as dictionary\n",
    "statesDictionary = dict(zip(states,range(0, len(states)+1)))\n",
    "warrantiesDictionary = dict(zip(warranties,range(0, len(warranties)+1)))    #not object but mapped as dictionary\n",
    "\n",
    "print \"\\n Dictionaries for mapping object attributes (Samples)\\n\"\n",
    "print \\\n",
    "    dict(auctionsDictionary.items()[0:5]),\\\n",
    "    \"\\n\",\\\n",
    "    dict(makesDictionary.items()[0:5]),\\\n",
    "    \"\\n\",\\\n",
    "    dict(modelsDictionary.items()[0:5]),\\\n",
    "    \"\\n\",\\\n",
    "    dict(trimsDictionary.items()[0:5]),\\\n",
    "    \"\\n\",\\\n",
    "    dict(subModelsDictionary.items()[0:5]),\\\n",
    "    \"\\n\",\\\n",
    "    dict(colorsDictionary.items()[0:5]),\\\n",
    "    \"\\n\",\\\n",
    "    dict(transmissionsDictionary.items()[0:5]),\\\n",
    "    \"\\n\",\\\n",
    "    dict(wheeltypesDictionary.items()[0:5]),\\\n",
    "    \"\\n\",\\\n",
    "    dict(nationalitiesDictionary.items()[0:5]),\\\n",
    "    \"\\n\",\\\n",
    "    dict(sizesDictionary.items()[0:5]),\\\n",
    "    \"\\n\",\\\n",
    "    dict(demandsDictionary.items()[0:5]),\\\n",
    "    \"\\n\",\\\n",
    "    dict(guaranteesDictionary.items()[0:5]),\\\n",
    "    \"\\n\",\\\n",
    "    dict(vehcostsDictionary.items()[0:5]),\\\n",
    "    \"\\n\",\\\n",
    "    dict(zipcodesDictionary.items()[0:5]),\\\n",
    "    \"\\n\",\\\n",
    "    dict(statesDictionary.items()[0:5]),\\\n",
    "    \"\\n\",\\\n",
    "    dict(warrantiesDictionary.items()[0:5]),\\\n",
    "    \"\\n\",\\\n",
    "\n",
    "#Mapping Dictionaries to main DataFrame\n",
    "df['AuctionVal'] = df['Auction'].map(auctionsDictionary)\n",
    "df['MakeVal'] = df['Make'].map(makesDictionary)\n",
    "df['ModelVal'] = df['Model'].map(modelsDictionary)\n",
    "df['TrimVal'] = df['Trim'].map(trimsDictionary)\n",
    "df['SubModelVal'] = df['SubModel'].map(subModelsDictionary)\n",
    "df['ColorVal'] = df['Color'].map(colorsDictionary)\n",
    "df['TransmissionVal'] = df['Transmission'].map(transmissionsDictionary)\n",
    "df['WheelTypeVal'] = df['WheelType'].map(wheeltypesDictionary)\n",
    "df['NationalityVal'] = df['Nationality'].map(nationalitiesDictionary)\n",
    "df['SizeVal'] = df['Size'].map(sizesDictionary)\n",
    "df['PRIMEUNITVal'] = df['PRIMEUNIT'].map(demandsDictionary)\n",
    "df['AUCGUARTVal'] = df['AUCGUART'].map(guaranteesDictionary)\n",
    "df['VehBCostVal'] = df['VehBCost'].map(vehcostsDictionary)\n",
    "df['VNZIP1Val'] = df['VNZIP1'].map(zipcodesDictionary)\n",
    "df['VNSTVal'] = df['VNST'].map(statesDictionary)\n",
    "df['WarrantyCostVal'] = df['WarrantyCost'].map(warrantiesDictionary)\n",
    "\n",
    "print \"\\nMapping dictionaries to new attribute columns, done.\\n\"\n",
    "\n",
    "# NOTA\n",
    "# DataFrame['X'].map() per ogni elemento i della colonna X cerca nel dizionario passato come argomento a map()\n",
    "# il valore associato all'elemento i (utilizzato come chiave di ricerca) e restituisce una serie. (Dizionario => \"key\" : \"value\")\n",
    "# la serie viene poi assegnata ad una nuova colonna del dataframe."
   ]
  },
  {
   "cell_type": "code",
   "execution_count": 8,
   "metadata": {
    "collapsed": false
   },
   "outputs": [
    {
     "name": "stdout",
     "output_type": "stream",
     "text": [
      "Model 1\n",
      "Index([u'IsBadBuy', u'VehicleAge', u'VehOdo', u'IsOnlineSale', u'AuctionVal',\n",
      "       u'MakeVal', u'ModelVal', u'TrimVal', u'SubModelVal', u'ColorVal',\n",
      "       u'TransmissionVal', u'WheelTypeVal', u'NationalityVal', u'SizeVal',\n",
      "       u'PRIMEUNITVal', u'AUCGUARTVal', u'VehBCostVal', u'VNZIP1Val',\n",
      "       u'VNSTVal', u'WarrantyCostVal'],\n",
      "      dtype='object')\n",
      "Model 2\n",
      "Index([u'VehicleAge', u'VehOdo', u'AuctionVal', u'MakeVal', u'NationalityVal',\n",
      "       u'VNSTVal', u'WarrantyCostVal', u'IsBadBuy', u'VehBCost',\n",
      "       u'WheelTypeVal'],\n",
      "      dtype='object')\n"
     ]
    }
   ],
   "source": [
    "# Models for Clustering\n",
    "\n",
    "# Model 1\n",
    "dfCluster1 = pd.concat([\n",
    "    df['IsBadBuy'],\n",
    "    df['VehicleAge'],\n",
    "    df['VehOdo'],\n",
    "    df['IsOnlineSale'],\n",
    "    df['AuctionVal'],\n",
    "    df['MakeVal'],\n",
    "    df['ModelVal'],\n",
    "    df['TrimVal'],\n",
    "    df['SubModelVal'],\n",
    "    df['ColorVal'],\n",
    "    df['TransmissionVal'],\n",
    "    df['WheelTypeVal'],\n",
    "    df['NationalityVal'],\n",
    "    df['SizeVal'],\n",
    "    df['PRIMEUNITVal'],\n",
    "    df['AUCGUARTVal'],\n",
    "    df['VehBCostVal'],\n",
    "    df['VNZIP1Val'],\n",
    "    df['VNSTVal'],\n",
    "    df['WarrantyCostVal']\n",
    "    ],\n",
    "    axis=1)\n",
    "\n",
    "# Number of Parameters in Model 1\n",
    "nParams1 = len(dfCluster1.columns)\n",
    "\n",
    "# Model 2\n",
    "dfCluster2 = pd.concat([\n",
    "    df['VehicleAge'],\n",
    "    df['VehOdo'],\n",
    "    df['AuctionVal'],\n",
    "    df['MakeVal'],\n",
    "    df['NationalityVal'],\n",
    "    df['VNSTVal'],\n",
    "    df['WarrantyCostVal'],\n",
    "    df['IsBadBuy'],  #label class\n",
    "    df['VehBCost'],\n",
    "    df['WheelTypeVal']\n",
    "    ],\n",
    "    axis=1)\n",
    "\n",
    "# Number of Parameters in Model 2\n",
    "nParams2 = len(dfCluster2.columns)\n",
    "\n",
    "print \"Model 1\\n\", dfCluster1.columns\n",
    "print \"Model 2\\n\", dfCluster2.columns\n",
    "\n",
    "# tip: to use with weka, go to http://ikuz.eu/csv2arff/ e convert csv in arff file before uploading to weka\n",
    "\n",
    "# export to csv\n",
    "dfCluster1.to_csv('model1.csv')\n",
    "dfCluster2.to_csv('model2.csv')"
   ]
  },
  {
   "cell_type": "code",
   "execution_count": 12,
   "metadata": {
    "collapsed": false
   },
   "outputs": [],
   "source": [
    "#TEST dataset\n",
    "df_test = pd.read_csv(\"dataset/test.csv\") \n",
    "\n",
    "# RefId not considered\n",
    "# IsBadBuy not considered\n",
    "# PurchDate dropped\n",
    "auctions = sorted(df_test['Auction'].unique())\n",
    "# VehYear dropped\n",
    "vehicleAges = sorted(df_test['VehicleAge'].unique())\n",
    "makes = sorted(df_test['Make'].unique())\n",
    "models = sorted(df_test['Model'].unique())\n",
    "trims = sorted(df_test['Trim'].unique())\n",
    "subModels = sorted(df_test['SubModel'].unique())\n",
    "colors = sorted(df_test['Color'].unique())\n",
    "transmissions = sorted(df_test['Transmission'].unique())\n",
    "# WheelTypeID dropped\n",
    "wheeltypes = sorted(df_test['WheelType'].unique())\n",
    "vehOdos = sorted(df_test['VehOdo'].unique())\n",
    "nationalities = sorted(df_test['Nationality'].unique())\n",
    "sizes = sorted(df_test['Size'].unique())\n",
    "# TopThreeAmericanName dropped\n",
    "# MMRAcquisitionAuctionAveragePrice not considered\n",
    "# MMRAcquisitionAuctionCleanPrice not considered\n",
    "# MMRAcquisitionRetailAveragePrice not considered\n",
    "# MMRAcquisitonRetailCleanPrice not considered\n",
    "# MMRCurrentAuctionAveragePrice not considered\n",
    "# MMRCurrentAuctionCleanPrice not considered\n",
    "# MMRCurrentRetailAveragePrice not considered\n",
    "# MMRCurrentRetailCleanPrice not considered\n",
    "demands = sorted(df_test['PRIMEUNIT'].unique())\n",
    "guarantees = sorted(df_test['AUCGUART'].unique())\n",
    "# BYRNO dropped \n",
    "zipcodes = sorted(df_test['VNZIP1'].unique())    #VNZIP1\n",
    "states = sorted(df_test['VNST'].unique())        #VNST\n",
    "vehcosts = sorted(df_test['VehBCost'].unique())\n",
    "onlinesales = sorted(df_test['IsOnlineSale'].unique())\n",
    "warranties = sorted(df_test['WarrantyCost'].unique())\n",
    "\n",
    "# Data Normalization - Part 1\n",
    "# Dictionaries with integer values mapping for no-integer attributes\n",
    "\n",
    "# Assign to no-integer parameters integer values (assign an integer ID)\n",
    "# Need for clustering algorithms because they working only with numeric values\n",
    "auctionsDictionary = dict(zip(auctions,range(0, len(auctions)+1)))\n",
    "makesDictionary = dict(zip(makes,range(0, len(makes)+1)))\n",
    "modelsDictionary = dict(zip(models,range(0, len(models)+1)))\n",
    "trimsDictionary = dict(zip(trims,range(0, len(trims)+1)))\n",
    "subModelsDictionary = dict(zip(subModels,range(0, len(subModels)+1)))\n",
    "colorsDictionary = dict(zip(colors,range(0, len(colors)+1)))\n",
    "transmissionsDictionary = dict(zip(transmissions,range(0, len(transmissions)+1)))\n",
    "wheeltypesDictionary = dict(zip(wheeltypes,range(0, len(wheeltypes)+1)))\n",
    "nationalitiesDictionary = dict(zip(nationalities,range(0, len(nationalities)+1)))\n",
    "sizesDictionary = dict(zip(sizes,range(0, len(sizes)+1)))\n",
    "demandsDictionary = dict(zip(demands,range(0, len(demands)+1)))\n",
    "guaranteesDictionary = dict(zip(guarantees,range(0, len(guarantees)+1)))\n",
    "vehcostsDictionary = dict(zip(vehcosts,range(0, len(vehcosts)+1)))  #not object but mapped as dictionary\n",
    "zipcodesDictionary = dict(zip(zipcodes,range(0, len(zipcodes)+1)))  #not object but mapped as dictionary\n",
    "statesDictionary = dict(zip(states,range(0, len(states)+1)))\n",
    "warrantiesDictionary = dict(zip(warranties,range(0, len(warranties)+1)))    #not object but mapped as dictionary\n",
    "\n",
    "#Mapping Dictionaries to main DataFrame\n",
    "df_test['AuctionVal'] = df_test['Auction'].map(auctionsDictionary)\n",
    "df_test['MakeVal'] = df_test['Make'].map(makesDictionary)\n",
    "df_test['ModelVal'] = df_test['Model'].map(modelsDictionary)\n",
    "df_test['TrimVal'] = df_test['Trim'].map(trimsDictionary)\n",
    "df_test['SubModelVal'] = df_test['SubModel'].map(subModelsDictionary)\n",
    "df_test['ColorVal'] = df_test['Color'].map(colorsDictionary)\n",
    "df_test['TransmissionVal'] = df_test['Transmission'].map(transmissionsDictionary)\n",
    "df_test['WheelTypeVal'] = df_test['WheelType'].map(wheeltypesDictionary)\n",
    "df_test['NationalityVal'] = df_test['Nationality'].map(nationalitiesDictionary)\n",
    "df_test['SizeVal'] = df_test['Size'].map(sizesDictionary)\n",
    "df_test['PRIMEUNITVal'] = df_test['PRIMEUNIT'].map(demandsDictionary)\n",
    "df_test['AUCGUARTVal'] = df_test['AUCGUART'].map(guaranteesDictionary)\n",
    "df_test['VehBCostVal'] = df_test['VehBCost'].map(vehcostsDictionary)\n",
    "df_test['VNZIP1Val'] = df_test['VNZIP1'].map(zipcodesDictionary)\n",
    "df_test['VNSTVal'] = df_test['VNST'].map(statesDictionary)\n",
    "df_test['WarrantyCostVal'] = df_test['WarrantyCost'].map(warrantiesDictionary)\n",
    "\n",
    "df_test['IsBadBuy']='?' # '?' nan in weka\n",
    "\n",
    "df_test_final = pd.concat([\n",
    "    df_test['VehicleAge'],\n",
    "    #df_test['VehOdo'],\n",
    "    df_test['AuctionVal'],\n",
    "    df_test['MakeVal'],\n",
    "    df_test['NationalityVal'],\n",
    "    #df_test['VNZIP1Val'],\n",
    "    df_test['VNSTVal'],\n",
    "    df_test['WarrantyCostVal'],\n",
    "    df_test['IsBadBuy'] #label class\n",
    "    ],\n",
    "    axis=1)\n",
    "\n",
    "df_test_final.to_csv('model_test.csv')\n",
    "# validate with CSV Lint (google it!)"
   ]
  },
  {
   "cell_type": "code",
   "execution_count": 26,
   "metadata": {
    "collapsed": false
   },
   "outputs": [
    {
     "data": {
      "text/plain": [
       "IsBadBuy           int64\n",
       "VehicleAge         int64\n",
       "VehOdo             int64\n",
       "AuctionVal         int64\n",
       "MakeVal            int64\n",
       "NationalityVal     int64\n",
       "VNZIP1Val          int64\n",
       "VNSTVal            int64\n",
       "WarrantyCostVal    int64\n",
       "dtype: object"
      ]
     },
     "execution_count": 26,
     "metadata": {},
     "output_type": "execute_result"
    }
   ],
   "source": [
    "dfCluster2.dtypes"
   ]
  },
  {
   "cell_type": "code",
   "execution_count": 27,
   "metadata": {
    "collapsed": false
   },
   "outputs": [
    {
     "name": "stdout",
     "output_type": "stream",
     "text": [
      "\n",
      "Numpy Arrays for clustering Data with sk-learn library\n",
      "\n",
      "Model 1\n",
      "\n",
      "[[    0     3 89046     0     0    17     0     0     2     5     1     1\n",
      "     47     5    70]]\n",
      "\n",
      "Model 2\n",
      "\n",
      "[[    0     3 89046     0    17     2    47     5    70]]\n"
     ]
    }
   ],
   "source": [
    "# Convert from DataFrame to Numpy Array\n",
    "# sklearn library use Numpy Arrays in clustering data\n",
    "\n",
    "# Model 1\n",
    "cluster1Array = dfCluster1.values\n",
    "# Model 2\n",
    "cluster2Array = dfCluster2.values\n",
    "\n",
    "print \"\\nNumpy Arrays for clustering Data with sk-learn library\\n\"\n",
    "print \"Model 1\\n\"\n",
    "print cluster1Array[:1]\n",
    "print \"\\nModel 2\\n\"\n",
    "print cluster2Array[:1]"
   ]
  },
  {
   "cell_type": "code",
   "execution_count": 28,
   "metadata": {
    "collapsed": false
   },
   "outputs": [
    {
     "name": "stdout",
     "output_type": "stream",
     "text": [
      "[[    3 89046     0 ...,    47     5    70]\n",
      " [    5 93593     0 ...,    47     5    61]\n",
      " [    4 73807     0 ...,    47     5   114]\n",
      " ..., \n",
      " [    4 88500     0 ...,    30     6   176]\n",
      " [    3 79554     0 ...,    30     6   186]\n",
      " [    3 66855     0 ...,    30     6   103]] [0 0 0 ..., 0 0 0]\n",
      "[[    3 89046     0 ...,    47     5    70]\n",
      " [    5 93593     0 ...,    47     5    61]\n",
      " [    4 73807     0 ...,    47     5   114]\n",
      " ..., \n",
      " [    4 88500     0 ...,    30     6   176]\n",
      " [    3 79554     0 ...,    30     6   186]\n",
      " [    3 66855     0 ...,    30     6   103]] [0 0 0 ..., 0 0 0]\n"
     ]
    }
   ],
   "source": [
    "#\n",
    "\n",
    "array_features_cluster1 = cluster1Array[:, 1:]\n",
    "array_target_cluster1 = cluster1Array[:,0]\n",
    "\n",
    "print array_features_cluster1,array_target_cluster1\n",
    "\n",
    "array_features_cluster2 = cluster2Array[:, 1:]\n",
    "array_target_cluster2 = cluster2Array[:,0]\n",
    "\n",
    "print array_features_cluster2,array_target_cluster2"
   ]
  },
  {
   "cell_type": "code",
   "execution_count": null,
   "metadata": {
    "collapsed": true
   },
   "outputs": [],
   "source": [
    "# Classification\n",
    "# Decision Tree Classifier\n",
    "# DecisionTreeClassifier takes as input two arrays: an array X, sparse or dense, of size [n_samples, n_features] holding \n",
    "# the training samples, and an array Y of integer values, size [n_samples], holding the class labels for the training samples\n",
    "\n",
    "clf = tree.DecisionTreeClassifier(\n",
    "        criterion='gini',  # gini or entropy, measure the quality of a split\n",
    "        splitter='best',  # best or random, strategy used to choose the split at each node\n",
    "        max_features=None,  # number of features to consider when looking for the best split\n",
    "        max_depth=None,  # Maximum depth of the tree\n",
    "        min_samples_split=2,  # Minimum number of samples required to split an internal node\n",
    "        \n",
    ")"
   ]
  },
  {
   "cell_type": "code",
   "execution_count": null,
   "metadata": {
    "collapsed": true
   },
   "outputs": [],
   "source": []
  },
  {
   "cell_type": "code",
   "execution_count": null,
   "metadata": {
    "collapsed": true
   },
   "outputs": [],
   "source": []
  },
  {
   "cell_type": "code",
   "execution_count": null,
   "metadata": {
    "collapsed": true
   },
   "outputs": [],
   "source": []
  },
  {
   "cell_type": "code",
   "execution_count": null,
   "metadata": {
    "collapsed": true
   },
   "outputs": [],
   "source": []
  },
  {
   "cell_type": "code",
   "execution_count": null,
   "metadata": {
    "collapsed": true
   },
   "outputs": [],
   "source": []
  },
  {
   "cell_type": "code",
   "execution_count": 29,
   "metadata": {
    "collapsed": false
   },
   "outputs": [],
   "source": [
    "# Fit the model to our training data\n",
    "clf = tree.DecisionTreeClassifier(criterion='gini', splitter='best', max_depth=None, \n",
    "                                  min_samples_split=2, min_samples_leaf=2, class_weight='balanced')\n",
    "clf = clf.fit(array_features_cluster2, array_target_cluster2)"
   ]
  },
  {
   "cell_type": "code",
   "execution_count": 30,
   "metadata": {
    "collapsed": false
   },
   "outputs": [
    {
     "data": {
      "text/plain": [
       "array([ 0.08141249,  0.45330596,  0.02407027,  0.09378187,  0.01566811,\n",
       "        0.13648019,  0.0558093 ,  0.13947181])"
      ]
     },
     "execution_count": 30,
     "metadata": {},
     "output_type": "execute_result"
    }
   ],
   "source": [
    "clf.feature_importances_"
   ]
  },
  {
   "cell_type": "code",
   "execution_count": 31,
   "metadata": {
    "collapsed": false
   },
   "outputs": [
    {
     "name": "stdout",
     "output_type": "stream",
     "text": [
      "0.959223968533\n",
      "0.938999493033\n",
      "0.943961396894\n",
      "0.938999493033\n",
      "(array([ 1.        ,  0.66845398]), array([ 0.93044511,  1.        ]), array([ 0.96396951,  0.80128548]), array([64007,  8976]))\n"
     ]
    }
   ],
   "source": [
    "pred_target = clf.predict(array_features_cluster2)\n",
    "\n",
    "print metrics.precision_score(array_target_cluster2, pred_target, average='weighted')\n",
    "print metrics.recall_score(array_target_cluster2, pred_target, average='weighted')\n",
    "print metrics.f1_score(array_target_cluster2, pred_target, average='weighted')\n",
    "print metrics.accuracy_score(array_target_cluster2, pred_target)\n",
    "print metrics.precision_recall_fscore_support(array_target_cluster2, pred_target)"
   ]
  },
  {
   "cell_type": "code",
   "execution_count": 32,
   "metadata": {
    "collapsed": false
   },
   "outputs": [
    {
     "data": {
      "text/plain": [
       "72983"
      ]
     },
     "execution_count": 32,
     "metadata": {},
     "output_type": "execute_result"
    }
   ],
   "source": [
    "len(cluster2Array)"
   ]
  },
  {
   "cell_type": "code",
   "execution_count": 33,
   "metadata": {
    "collapsed": true
   },
   "outputs": [],
   "source": [
    "train_x, test_x, train_y, test_y = train_test_split(array_features_cluster2, \n",
    "                                                    array_target_cluster2, \n",
    "                                                    test_size=0.20, \n",
    "                                                    random_state=0)"
   ]
  },
  {
   "cell_type": "code",
   "execution_count": 34,
   "metadata": {
    "collapsed": false
   },
   "outputs": [
    {
     "data": {
      "text/plain": [
       "((58386, 8), (14597, 8))"
      ]
     },
     "execution_count": 34,
     "metadata": {},
     "output_type": "execute_result"
    }
   ],
   "source": [
    "train_x.shape, test_x.shape"
   ]
  },
  {
   "cell_type": "code",
   "execution_count": 35,
   "metadata": {
    "collapsed": false
   },
   "outputs": [
    {
     "data": {
      "text/plain": [
       "(58386, 14597, 72983)"
      ]
     },
     "execution_count": 35,
     "metadata": {},
     "output_type": "execute_result"
    }
   ],
   "source": [
    "len(train_x), len(test_x), len(train_x) + len(test_x)"
   ]
  },
  {
   "cell_type": "code",
   "execution_count": 36,
   "metadata": {
    "collapsed": false
   },
   "outputs": [],
   "source": [
    "clf = tree.DecisionTreeClassifier(criterion='gini', \n",
    "                                  splitter='random', \n",
    "                                  max_depth=5, \n",
    "                                  min_samples_split=20, \n",
    "                                  min_samples_leaf=2)\n",
    "clf = clf.fit(train_x, train_y)"
   ]
  },
  {
   "cell_type": "code",
   "execution_count": 37,
   "metadata": {
    "collapsed": true
   },
   "outputs": [],
   "source": [
    "train_pred = clf.predict(train_x)\n",
    "test_pred = clf.predict(test_x)"
   ]
  },
  {
   "cell_type": "code",
   "execution_count": 38,
   "metadata": {
    "collapsed": false
   },
   "outputs": [
    {
     "name": "stdout",
     "output_type": "stream",
     "text": [
      "0.877093823862\n",
      "0.876824004933\n"
     ]
    }
   ],
   "source": [
    "print metrics.accuracy_score(train_y, train_pred)\n",
    "print metrics.accuracy_score(test_y, test_pred)"
   ]
  },
  {
   "cell_type": "code",
   "execution_count": 39,
   "metadata": {
    "collapsed": false
   },
   "outputs": [
    {
     "data": {
      "text/plain": [
       "True"
      ]
     },
     "execution_count": 39,
     "metadata": {},
     "output_type": "execute_result"
    }
   ],
   "source": [
    "import pydotplus \n",
    "from sklearn.externals.six import StringIO  \n",
    "import pydot\n",
    "from IPython.display import Image  \n",
    "\n",
    "dot_data = StringIO() \n",
    "\n",
    "tree.export_graphviz(clf, \n",
    "                    out_file=dot_data, \n",
    "                    feature_names=list(dfCluster1.columns[1:]),  \n",
    "                    class_names=['GoodBuy', 'BadBuy'],  \n",
    "                    filled=True, rounded=True,  \n",
    "                    special_characters=True)  \n",
    "graph = pydotplus.graph_from_dot_data(dot_data.getvalue())  \n",
    "Image(graph.create_png())\n",
    "graph.write_pdf(\"saved_trees/decision_tree.pdf\") "
   ]
  },
  {
   "cell_type": "code",
   "execution_count": 40,
   "metadata": {
    "collapsed": false
   },
   "outputs": [
    {
     "name": "stdout",
     "output_type": "stream",
     "text": [
      "[[12798     1]\n",
      " [ 1797     1]]\n"
     ]
    }
   ],
   "source": [
    "cm = confusion_matrix(test_y, test_pred)\n",
    "print cm"
   ]
  },
  {
   "cell_type": "code",
   "execution_count": 41,
   "metadata": {
    "collapsed": false
   },
   "outputs": [
    {
     "data": {
      "image/png": "[encoded data removed]",
      "text/plain": [
       "<matplotlib.figure.Figure at 0x7f480099ce50>"
      ]
     },
     "metadata": {},
     "output_type": "display_data"
    }
   ],
   "source": [
    "plt.matshow(cm)\n",
    "plt.title('Confusion matrix')\n",
    "plt.colorbar()\n",
    "plt.ylabel('True label')\n",
    "plt.xlabel('Predicted label')\n",
    "plt.show()"
   ]
  },
  {
   "cell_type": "code",
   "execution_count": 42,
   "metadata": {
    "collapsed": false
   },
   "outputs": [
    {
     "name": "stdout",
     "output_type": "stream",
     "text": [
      "             precision    recall  f1-score   support\n",
      "\n",
      "    GoodBuy       0.88      1.00      0.93     12799\n",
      "     BadBuy       0.50      0.00      0.00      1798\n",
      "\n",
      "avg / total       0.83      0.88      0.82     14597\n",
      "\n"
     ]
    }
   ],
   "source": [
    "from sklearn.metrics import classification_report\n",
    "print(classification_report(test_y, \n",
    "                            test_pred, \n",
    "                            target_names=['GoodBuy', 'BadBuy']))"
   ]
  },
  {
   "cell_type": "code",
   "execution_count": 44,
   "metadata": {
    "collapsed": false
   },
   "outputs": [
    {
     "name": "stdout",
     "output_type": "stream",
     "text": [
      "Accuracy: 0.88 (+/- 0.00)\n"
     ]
    }
   ],
   "source": [
    "# cross validation\n",
    "scores = cross_validation.cross_val_score(clf, array_features_cluster2, array_target_cluster2, cv=10)\n",
    "print 'Accuracy: %0.2f (+/- %0.2f)' % (scores.mean(), scores.std() * 2)"
   ]
  },
  {
   "cell_type": "code",
   "execution_count": 45,
   "metadata": {
    "collapsed": false
   },
   "outputs": [
    {
     "name": "stdout",
     "output_type": "stream",
     "text": [
      "Accuracy: 0.83 (+/- 0.14)\n"
     ]
    }
   ],
   "source": [
    "# Random Forest\n",
    "\n",
    "clf = RandomForestClassifier(n_estimators=30, \n",
    "                             criterion='gini',\n",
    "                             max_features=None,\n",
    "                             max_depth=None, \n",
    "                             min_samples_split=2,\n",
    "                             min_samples_leaf=5,\n",
    "                             bootstrap=True,\n",
    "                             oob_score=False,\n",
    "                             random_state=None,\n",
    "                             class_weight=None) #balanced\n",
    "scores = cross_validation.cross_val_score(clf, array_features_cluster2, array_target_cluster2, cv=10)\n",
    "print 'Accuracy: %0.2f (+/- %0.2f)' % (scores.mean(), scores.std() * 2)"
   ]
  },
  {
   "cell_type": "code",
   "execution_count": 47,
   "metadata": {
    "collapsed": false
   },
   "outputs": [
    {
     "ename": "AttributeError",
     "evalue": "'RandomForestClassifier' object has no attribute 'best_estimator_'",
     "output_type": "error",
     "traceback": [
      "\u001b[0;31m---------------------------------------------------------------------------\u001b[0m",
      "\u001b[0;31mAttributeError\u001b[0m                            Traceback (most recent call last)",
      "\u001b[0;32m<ipython-input-47-2d39bdb4c6dd>\u001b[0m in \u001b[0;36m<module>\u001b[0;34m()\u001b[0m\n\u001b[0;32m----> 1\u001b[0;31m \u001b[0mclf\u001b[0m\u001b[0;34m.\u001b[0m\u001b[0mbest_estimator_\u001b[0m\u001b[0;34m\u001b[0m\u001b[0m\n\u001b[0m",
      "\u001b[0;31mAttributeError\u001b[0m: 'RandomForestClassifier' object has no attribute 'best_estimator_'"
     ]
    }
   ],
   "source": [
    "clf.best_estimator_"
   ]
  },
  {
   "cell_type": "code",
   "execution_count": 49,
   "metadata": {
    "collapsed": false
   },
   "outputs": [
    {
     "name": "stdout",
     "output_type": "stream",
     "text": [
      "Accuracy: 0.87 (+/- 0.00)\n"
     ]
    }
   ],
   "source": [
    "lf = neighbors.KNeighborsClassifier(10, weights='distance')\n",
    "scores = cross_validation.cross_val_score(lf, array_features_cluster2, array_target_cluster2, cv=10)\n",
    "print 'Accuracy: %0.2f (+/- %0.2f)' % (scores.mean(), scores.std() * 2)"
   ]
  },
  {
   "cell_type": "code",
   "execution_count": 50,
   "metadata": {
    "collapsed": true
   },
   "outputs": [],
   "source": [
    "from scipy.stats import randint as sp_randint\n",
    "\n",
    "from sklearn.ensemble import RandomForestClassifier\n",
    "from sklearn.model_selection import RandomizedSearchCV\n",
    "from sklearn.model_selection import GridSearchCV\n",
    "\n",
    "from sklearn.metrics import make_scorer\n",
    "from sklearn.metrics import accuracy_score"
   ]
  },
  {
   "cell_type": "code",
   "execution_count": 51,
   "metadata": {
    "collapsed": true
   },
   "outputs": [],
   "source": [
    "def report(results, n_top=3):\n",
    "    for i in range(1, n_top + 1):\n",
    "        candidates = np.flatnonzero(results['rank_test_score'] == i)\n",
    "        for candidate in candidates:\n",
    "            print(\"Model with rank: {0}\".format(i))\n",
    "            print(\"Mean validation score: {0:.3f} (std: {1:.3f})\".format(\n",
    "                  results['mean_test_score'][candidate],\n",
    "                  results['std_test_score'][candidate]))\n",
    "            print(\"Parameters: {0}\".format(results['params'][candidate]))\n",
    "            print(\"\")"
   ]
  },
  {
   "cell_type": "code",
   "execution_count": 52,
   "metadata": {
    "collapsed": true
   },
   "outputs": [],
   "source": [
    "clf = RandomForestClassifier(n_estimators=20)"
   ]
  },
  {
   "cell_type": "code",
   "execution_count": 53,
   "metadata": {
    "collapsed": true
   },
   "outputs": [],
   "source": [
    "param_dist = {\"max_depth\": [2,3,4,5,6,7,8,9,10,11,12,None],\n",
    "              \"max_features\": sp_randint(1, len(train_x[0]) + 1),\n",
    "              \"min_samples_split\": sp_randint(10, 51),\n",
    "              \"min_samples_leaf\": sp_randint(10, 51),\n",
    "              \"bootstrap\": [True],\n",
    "              \"criterion\": [\"entropy\", \"gini\"],\n",
    "              \"class_weight\":['balanced', None, {0: 0.3, 1: 0.7}]}\n",
    "\n",
    "n_iter_search = 100\n",
    "search = RandomizedSearchCV(clf, param_distributions=param_dist, n_iter=n_iter_search, \n",
    "                            n_jobs=10, scoring=make_scorer(accuracy_score))"
   ]
  },
  {
   "cell_type": "code",
   "execution_count": 55,
   "metadata": {
    "collapsed": false
   },
   "outputs": [
    {
     "data": {
      "text/plain": [
       "RandomizedSearchCV(cv=None, error_score='raise',\n",
       "          estimator=RandomForestClassifier(bootstrap=True, class_weight=None, criterion='gini',\n",
       "            max_depth=None, max_features='auto', max_leaf_nodes=None,\n",
       "            min_impurity_split=1e-07, min_samples_leaf=1,\n",
       "            min_samples_split=2, min_weight_fraction_leaf=0.0,\n",
       "            n_estimators=20, n_jobs=1, oob_score=False, random_state=None,\n",
       "            verbose=0, warm_start=False),\n",
       "          fit_params={}, iid=True, n_iter=100, n_jobs=10,\n",
       "          param_distributions={'bootstrap': [True], 'min_samples_leaf': <scipy.stats._distn_infrastructure.rv_frozen object at 0x7f47fc7fa610>, 'min_samples_split': <scipy.stats._distn_infrastructure.rv_frozen object at 0x7f47fc7fa650>, 'criterion': ['entropy', 'gini'], 'max_features': <scipy.stats._distn_infrastructure.rv_frozen object at 0x7f47fc7faf90>, 'max_depth': [2, 3, 4, 5, 6, 7, 8, 9, 10, 11, 12, None], 'class_weight': ['balanced', None, {0: 0.3, 1: 0.7}]},\n",
       "          pre_dispatch='2*n_jobs', random_state=None, refit=True,\n",
       "          return_train_score=True, scoring=make_scorer(accuracy_score),\n",
       "          verbose=0)"
      ]
     },
     "execution_count": 55,
     "metadata": {},
     "output_type": "execute_result"
    }
   ],
   "source": [
    "search.fit(array_features_cluster2, array_target_cluster2)"
   ]
  },
  {
   "cell_type": "code",
   "execution_count": 56,
   "metadata": {
    "collapsed": false
   },
   "outputs": [
    {
     "name": "stdout",
     "output_type": "stream",
     "text": [
      "Model with rank: 1\n",
      "Mean validation score: 0.877 (std: 0.000)\n",
      "Parameters: {'bootstrap': True, 'min_samples_leaf': 47, 'min_samples_split': 26, 'criterion': 'gini', 'max_features': 2, 'max_depth': 4, 'class_weight': {0: 0.3, 1: 0.7}}\n",
      "\n",
      "Model with rank: 2\n",
      "Mean validation score: 0.877 (std: 0.000)\n",
      "Parameters: {'bootstrap': True, 'min_samples_leaf': 44, 'min_samples_split': 23, 'criterion': 'gini', 'max_features': 7, 'max_depth': 8, 'class_weight': None}\n",
      "\n",
      "Model with rank: 2\n",
      "Mean validation score: 0.877 (std: 0.000)\n",
      "Parameters: {'bootstrap': True, 'min_samples_leaf': 33, 'min_samples_split': 24, 'criterion': 'gini', 'max_features': 5, 'max_depth': 3, 'class_weight': {0: 0.3, 1: 0.7}}\n",
      "\n",
      "Model with rank: 2\n",
      "Mean validation score: 0.877 (std: 0.000)\n",
      "Parameters: {'bootstrap': True, 'min_samples_leaf': 28, 'min_samples_split': 47, 'criterion': 'gini', 'max_features': 8, 'max_depth': 6, 'class_weight': None}\n",
      "\n",
      "Model with rank: 2\n",
      "Mean validation score: 0.877 (std: 0.000)\n",
      "Parameters: {'bootstrap': True, 'min_samples_leaf': 19, 'min_samples_split': 37, 'criterion': 'gini', 'max_features': 2, 'max_depth': 2, 'class_weight': {0: 0.3, 1: 0.7}}\n",
      "\n",
      "Model with rank: 2\n",
      "Mean validation score: 0.877 (std: 0.000)\n",
      "Parameters: {'bootstrap': True, 'min_samples_leaf': 38, 'min_samples_split': 25, 'criterion': 'gini', 'max_features': 5, 'max_depth': 10, 'class_weight': None}\n",
      "\n",
      "Model with rank: 2\n",
      "Mean validation score: 0.877 (std: 0.000)\n",
      "Parameters: {'bootstrap': True, 'min_samples_leaf': 17, 'min_samples_split': 10, 'criterion': 'gini', 'max_features': 2, 'max_depth': 4, 'class_weight': None}\n",
      "\n",
      "Model with rank: 2\n",
      "Mean validation score: 0.877 (std: 0.000)\n",
      "Parameters: {'bootstrap': True, 'min_samples_leaf': 38, 'min_samples_split': 42, 'criterion': 'gini', 'max_features': 5, 'max_depth': 4, 'class_weight': None}\n",
      "\n",
      "Model with rank: 2\n",
      "Mean validation score: 0.877 (std: 0.000)\n",
      "Parameters: {'bootstrap': True, 'min_samples_leaf': 43, 'min_samples_split': 12, 'criterion': 'entropy', 'max_features': 4, 'max_depth': None, 'class_weight': None}\n",
      "\n",
      "Model with rank: 2\n",
      "Mean validation score: 0.877 (std: 0.000)\n",
      "Parameters: {'bootstrap': True, 'min_samples_leaf': 40, 'min_samples_split': 48, 'criterion': 'gini', 'max_features': 1, 'max_depth': 5, 'class_weight': None}\n",
      "\n",
      "Model with rank: 2\n",
      "Mean validation score: 0.877 (std: 0.000)\n",
      "Parameters: {'bootstrap': True, 'min_samples_leaf': 18, 'min_samples_split': 44, 'criterion': 'entropy', 'max_features': 4, 'max_depth': 2, 'class_weight': None}\n",
      "\n",
      "Model with rank: 2\n",
      "Mean validation score: 0.877 (std: 0.000)\n",
      "Parameters: {'bootstrap': True, 'min_samples_leaf': 47, 'min_samples_split': 28, 'criterion': 'entropy', 'max_features': 3, 'max_depth': 10, 'class_weight': None}\n",
      "\n",
      "Model with rank: 2\n",
      "Mean validation score: 0.877 (std: 0.000)\n",
      "Parameters: {'bootstrap': True, 'min_samples_leaf': 33, 'min_samples_split': 25, 'criterion': 'gini', 'max_features': 3, 'max_depth': 8, 'class_weight': None}\n",
      "\n",
      "Model with rank: 2\n",
      "Mean validation score: 0.877 (std: 0.000)\n",
      "Parameters: {'bootstrap': True, 'min_samples_leaf': 36, 'min_samples_split': 50, 'criterion': 'gini', 'max_features': 4, 'max_depth': 6, 'class_weight': None}\n",
      "\n",
      "Model with rank: 2\n",
      "Mean validation score: 0.877 (std: 0.000)\n",
      "Parameters: {'bootstrap': True, 'min_samples_leaf': 14, 'min_samples_split': 27, 'criterion': 'entropy', 'max_features': 2, 'max_depth': 5, 'class_weight': None}\n",
      "\n",
      "Model with rank: 2\n",
      "Mean validation score: 0.877 (std: 0.000)\n",
      "Parameters: {'bootstrap': True, 'min_samples_leaf': 31, 'min_samples_split': 27, 'criterion': 'gini', 'max_features': 4, 'max_depth': 5, 'class_weight': None}\n",
      "\n",
      "Model with rank: 2\n",
      "Mean validation score: 0.877 (std: 0.000)\n",
      "Parameters: {'bootstrap': True, 'min_samples_leaf': 38, 'min_samples_split': 42, 'criterion': 'entropy', 'max_features': 5, 'max_depth': 10, 'class_weight': None}\n",
      "\n",
      "Model with rank: 2\n",
      "Mean validation score: 0.877 (std: 0.000)\n",
      "Parameters: {'bootstrap': True, 'min_samples_leaf': 50, 'min_samples_split': 26, 'criterion': 'entropy', 'max_features': 3, 'max_depth': 4, 'class_weight': None}\n",
      "\n",
      "Model with rank: 2\n",
      "Mean validation score: 0.877 (std: 0.000)\n",
      "Parameters: {'bootstrap': True, 'min_samples_leaf': 16, 'min_samples_split': 48, 'criterion': 'gini', 'max_features': 8, 'max_depth': 5, 'class_weight': None}\n",
      "\n",
      "Model with rank: 2\n",
      "Mean validation score: 0.877 (std: 0.000)\n",
      "Parameters: {'bootstrap': True, 'min_samples_leaf': 46, 'min_samples_split': 38, 'criterion': 'entropy', 'max_features': 5, 'max_depth': 10, 'class_weight': None}\n",
      "\n",
      "Model with rank: 2\n",
      "Mean validation score: 0.877 (std: 0.000)\n",
      "Parameters: {'bootstrap': True, 'min_samples_leaf': 21, 'min_samples_split': 30, 'criterion': 'entropy', 'max_features': 1, 'max_depth': 3, 'class_weight': None}\n",
      "\n",
      "Model with rank: 2\n",
      "Mean validation score: 0.877 (std: 0.000)\n",
      "Parameters: {'bootstrap': True, 'min_samples_leaf': 45, 'min_samples_split': 24, 'criterion': 'gini', 'max_features': 6, 'max_depth': 2, 'class_weight': {0: 0.3, 1: 0.7}}\n",
      "\n",
      "Model with rank: 2\n",
      "Mean validation score: 0.877 (std: 0.000)\n",
      "Parameters: {'bootstrap': True, 'min_samples_leaf': 21, 'min_samples_split': 48, 'criterion': 'gini', 'max_features': 2, 'max_depth': 10, 'class_weight': None}\n",
      "\n",
      "Model with rank: 2\n",
      "Mean validation score: 0.877 (std: 0.000)\n",
      "Parameters: {'bootstrap': True, 'min_samples_leaf': 10, 'min_samples_split': 45, 'criterion': 'gini', 'max_features': 2, 'max_depth': 5, 'class_weight': None}\n",
      "\n",
      "Model with rank: 2\n",
      "Mean validation score: 0.877 (std: 0.000)\n",
      "Parameters: {'bootstrap': True, 'min_samples_leaf': 26, 'min_samples_split': 49, 'criterion': 'entropy', 'max_features': 2, 'max_depth': 10, 'class_weight': None}\n",
      "\n",
      "Model with rank: 2\n",
      "Mean validation score: 0.877 (std: 0.000)\n",
      "Parameters: {'bootstrap': True, 'min_samples_leaf': 14, 'min_samples_split': 29, 'criterion': 'gini', 'max_features': 1, 'max_depth': 4, 'class_weight': None}\n",
      "\n",
      "Model with rank: 2\n",
      "Mean validation score: 0.877 (std: 0.000)\n",
      "Parameters: {'bootstrap': True, 'min_samples_leaf': 25, 'min_samples_split': 46, 'criterion': 'gini', 'max_features': 3, 'max_depth': 8, 'class_weight': None}\n",
      "\n",
      "Model with rank: 2\n",
      "Mean validation score: 0.877 (std: 0.000)\n",
      "Parameters: {'bootstrap': True, 'min_samples_leaf': 16, 'min_samples_split': 29, 'criterion': 'gini', 'max_features': 4, 'max_depth': 4, 'class_weight': None}\n",
      "\n",
      "Model with rank: 2\n",
      "Mean validation score: 0.877 (std: 0.000)\n",
      "Parameters: {'bootstrap': True, 'min_samples_leaf': 25, 'min_samples_split': 48, 'criterion': 'entropy', 'max_features': 3, 'max_depth': 9, 'class_weight': None}\n",
      "\n",
      "Model with rank: 2\n",
      "Mean validation score: 0.877 (std: 0.000)\n",
      "Parameters: {'bootstrap': True, 'min_samples_leaf': 26, 'min_samples_split': 22, 'criterion': 'entropy', 'max_features': 6, 'max_depth': 5, 'class_weight': None}\n",
      "\n",
      "Model with rank: 2\n",
      "Mean validation score: 0.877 (std: 0.000)\n",
      "Parameters: {'bootstrap': True, 'min_samples_leaf': 34, 'min_samples_split': 19, 'criterion': 'entropy', 'max_features': 7, 'max_depth': 7, 'class_weight': None}\n",
      "\n",
      "Model with rank: 2\n",
      "Mean validation score: 0.877 (std: 0.000)\n",
      "Parameters: {'bootstrap': True, 'min_samples_leaf': 31, 'min_samples_split': 14, 'criterion': 'gini', 'max_features': 3, 'max_depth': 10, 'class_weight': None}\n",
      "\n"
     ]
    }
   ],
   "source": [
    "report(search.cv_results_, 3) #search.best_estimator_.estimators_[0]"
   ]
  },
  {
   "cell_type": "code",
   "execution_count": 57,
   "metadata": {
    "collapsed": true
   },
   "outputs": [],
   "source": [
    "param_grid = {\"max_depth\": [2,3,4,5,6]}\n",
    "search = GridSearchCV(clf, param_grid=param_grid, scoring=make_scorer(accuracy_score))"
   ]
  },
  {
   "cell_type": "code",
   "execution_count": 58,
   "metadata": {
    "collapsed": false
   },
   "outputs": [
    {
     "data": {
      "text/plain": [
       "GridSearchCV(cv=None, error_score='raise',\n",
       "       estimator=RandomForestClassifier(bootstrap=True, class_weight=None, criterion='gini',\n",
       "            max_depth=None, max_features='auto', max_leaf_nodes=None,\n",
       "            min_impurity_split=1e-07, min_samples_leaf=1,\n",
       "            min_samples_split=2, min_weight_fraction_leaf=0.0,\n",
       "            n_estimators=20, n_jobs=1, oob_score=False, random_state=None,\n",
       "            verbose=0, warm_start=False),\n",
       "       fit_params={}, iid=True, n_jobs=1,\n",
       "       param_grid={'max_depth': [2, 3, 4, 5, 6]}, pre_dispatch='2*n_jobs',\n",
       "       refit=True, return_train_score=True,\n",
       "       scoring=make_scorer(accuracy_score), verbose=0)"
      ]
     },
     "execution_count": 58,
     "metadata": {},
     "output_type": "execute_result"
    }
   ],
   "source": [
    "search.fit(array_features_cluster2, array_target_cluster2)"
   ]
  },
  {
   "cell_type": "code",
   "execution_count": 59,
   "metadata": {
    "collapsed": false
   },
   "outputs": [
    {
     "name": "stdout",
     "output_type": "stream",
     "text": [
      "Model with rank: 1\n",
      "Mean validation score: 0.877 (std: 0.000)\n",
      "Parameters: {'max_depth': 2}\n",
      "\n",
      "Model with rank: 1\n",
      "Mean validation score: 0.877 (std: 0.000)\n",
      "Parameters: {'max_depth': 3}\n",
      "\n",
      "Model with rank: 1\n",
      "Mean validation score: 0.877 (std: 0.000)\n",
      "Parameters: {'max_depth': 4}\n",
      "\n",
      "Model with rank: 1\n",
      "Mean validation score: 0.877 (std: 0.000)\n",
      "Parameters: {'max_depth': 5}\n",
      "\n"
     ]
    }
   ],
   "source": [
    "report(search.cv_results_, 3) #search.best_estimator_.estimators_[0]"
   ]
  },
  {
   "cell_type": "code",
   "execution_count": 60,
   "metadata": {
    "collapsed": false
   },
   "outputs": [
    {
     "data": {
      "text/plain": [
       "DecisionTreeClassifier(class_weight=None, criterion='gini', max_depth=2,\n",
       "            max_features='auto', max_leaf_nodes=None,\n",
       "            min_impurity_split=1e-07, min_samples_leaf=1,\n",
       "            min_samples_split=2, min_weight_fraction_leaf=0.0,\n",
       "            presort=False, random_state=520616013, splitter='best')"
      ]
     },
     "execution_count": 60,
     "metadata": {},
     "output_type": "execute_result"
    }
   ],
   "source": [
    "search.best_estimator_.estimators_[0]"
   ]
  },
  {
   "cell_type": "code",
   "execution_count": 62,
   "metadata": {
    "collapsed": false
   },
   "outputs": [
    {
     "data": {
      "image/png": "[encoded data removed]",
      "text/plain": [
       "<IPython.core.display.Image object>"
      ]
     },
     "execution_count": 62,
     "metadata": {},
     "output_type": "execute_result"
    }
   ],
   "source": [
    "import pydotplus \n",
    "from IPython.display import Image  \n",
    "dot_data = tree.export_graphviz(search.best_estimator_.estimators_[0], out_file=None, \n",
    "                         feature_names=list(dfCluster1.columns[1:]),  \n",
    "                         class_names=['GoodBuy', 'BadBuy'],  \n",
    "                         filled=True, rounded=True,  \n",
    "                         special_characters=True,\n",
    "                               max_depth=5)  \n",
    "graph = pydotplus.graph_from_dot_data(dot_data)  \n",
    "Image(graph.create_png())"
   ]
  },
  {
   "cell_type": "code",
   "execution_count": null,
   "metadata": {
    "collapsed": true
   },
   "outputs": [],
   "source": []
  },
  {
   "cell_type": "code",
   "execution_count": null,
   "metadata": {
    "collapsed": true
   },
   "outputs": [],
   "source": []
  },
  {
   "cell_type": "code",
   "execution_count": null,
   "metadata": {
    "collapsed": true
   },
   "outputs": [],
   "source": []
  },
  {
   "cell_type": "code",
   "execution_count": null,
   "metadata": {
    "collapsed": true
   },
   "outputs": [],
   "source": []
  },
  {
   "cell_type": "code",
   "execution_count": null,
   "metadata": {
    "collapsed": true
   },
   "outputs": [],
   "source": []
  }
 ],
 "metadata": {
  "anaconda-cloud": {},
  "kernelspec": {
   "display_name": "Python [default]",
   "language": "python",
   "name": "python2"
  },
  "language_info": {
   "codemirror_mode": {
    "name": "ipython",
    "version": 2
   },
   "file_extension": ".py",
   "mimetype": "text/x-python",
   "name": "python",
   "nbconvert_exporter": "python",
   "pygments_lexer": "ipython2",
   "version": "2.7.12"
  }
 },
 "nbformat": 4,
 "nbformat_minor": 1
}
