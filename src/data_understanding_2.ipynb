{
 "cells": [
  {
   "cell_type": "code",
   "execution_count": 2,
   "metadata": {
    "collapsed": true
   },
   "outputs": [],
   "source": [
    "%matplotlib inline\n",
    "import math\n",
    "import numpy as np\n",
    "import pandas as pd \n",
    "import scipy.stats as stats\n",
    "import matplotlib.pyplot as plt\n",
    "from collections import defaultdict\n",
    "from scipy.stats.stats import pearsonr"
   ]
  },
  {
   "cell_type": "code",
   "execution_count": 3,
   "metadata": {
    "collapsed": false
   },
   "outputs": [
    {
     "ename": "IOError",
     "evalue": "File training.csv does not exist",
     "output_type": "error",
     "traceback": [
      "\u001b[0;31m---------------------------------------------------------------------------\u001b[0m",
      "\u001b[0;31mIOError\u001b[0m                                   Traceback (most recent call last)",
      "\u001b[0;32m<ipython-input-3-3757ecc9b5de>\u001b[0m in \u001b[0;36m<module>\u001b[0;34m()\u001b[0m\n\u001b[0;32m----> 1\u001b[0;31m \u001b[0mdf\u001b[0m \u001b[0;34m=\u001b[0m \u001b[0mpd\u001b[0m\u001b[0;34m.\u001b[0m\u001b[0mread_csv\u001b[0m\u001b[0;34m(\u001b[0m\u001b[0;34m\"training.csv\"\u001b[0m\u001b[0;34m,\u001b[0m \u001b[0mdelimiter\u001b[0m\u001b[0;34m=\u001b[0m\u001b[0;34m','\u001b[0m\u001b[0;34m)\u001b[0m\u001b[0;34m\u001b[0m\u001b[0m\n\u001b[0m",
      "\u001b[0;32m/Users/Italo/anaconda/lib/python2.7/site-packages/pandas/io/parsers.pyc\u001b[0m in \u001b[0;36mparser_f\u001b[0;34m(filepath_or_buffer, sep, delimiter, header, names, index_col, usecols, squeeze, prefix, mangle_dupe_cols, dtype, engine, converters, true_values, false_values, skipinitialspace, skiprows, nrows, na_values, keep_default_na, na_filter, verbose, skip_blank_lines, parse_dates, infer_datetime_format, keep_date_col, date_parser, dayfirst, iterator, chunksize, compression, thousands, decimal, lineterminator, quotechar, quoting, escapechar, comment, encoding, dialect, tupleize_cols, error_bad_lines, warn_bad_lines, skipfooter, skip_footer, doublequote, delim_whitespace, as_recarray, compact_ints, use_unsigned, low_memory, buffer_lines, memory_map, float_precision)\u001b[0m\n\u001b[1;32m    643\u001b[0m                     skip_blank_lines=skip_blank_lines)\n\u001b[1;32m    644\u001b[0m \u001b[0;34m\u001b[0m\u001b[0m\n\u001b[0;32m--> 645\u001b[0;31m         \u001b[0;32mreturn\u001b[0m \u001b[0m_read\u001b[0m\u001b[0;34m(\u001b[0m\u001b[0mfilepath_or_buffer\u001b[0m\u001b[0;34m,\u001b[0m \u001b[0mkwds\u001b[0m\u001b[0;34m)\u001b[0m\u001b[0;34m\u001b[0m\u001b[0m\n\u001b[0m\u001b[1;32m    646\u001b[0m \u001b[0;34m\u001b[0m\u001b[0m\n\u001b[1;32m    647\u001b[0m     \u001b[0mparser_f\u001b[0m\u001b[0;34m.\u001b[0m\u001b[0m__name__\u001b[0m \u001b[0;34m=\u001b[0m \u001b[0mname\u001b[0m\u001b[0;34m\u001b[0m\u001b[0m\n",
      "\u001b[0;32m/Users/Italo/anaconda/lib/python2.7/site-packages/pandas/io/parsers.pyc\u001b[0m in \u001b[0;36m_read\u001b[0;34m(filepath_or_buffer, kwds)\u001b[0m\n\u001b[1;32m    386\u001b[0m \u001b[0;34m\u001b[0m\u001b[0m\n\u001b[1;32m    387\u001b[0m     \u001b[0;31m# Create the parser.\u001b[0m\u001b[0;34m\u001b[0m\u001b[0;34m\u001b[0m\u001b[0m\n\u001b[0;32m--> 388\u001b[0;31m     \u001b[0mparser\u001b[0m \u001b[0;34m=\u001b[0m \u001b[0mTextFileReader\u001b[0m\u001b[0;34m(\u001b[0m\u001b[0mfilepath_or_buffer\u001b[0m\u001b[0;34m,\u001b[0m \u001b[0;34m**\u001b[0m\u001b[0mkwds\u001b[0m\u001b[0;34m)\u001b[0m\u001b[0;34m\u001b[0m\u001b[0m\n\u001b[0m\u001b[1;32m    389\u001b[0m \u001b[0;34m\u001b[0m\u001b[0m\n\u001b[1;32m    390\u001b[0m     \u001b[0;32mif\u001b[0m \u001b[0;34m(\u001b[0m\u001b[0mnrows\u001b[0m \u001b[0;32mis\u001b[0m \u001b[0;32mnot\u001b[0m \u001b[0mNone\u001b[0m\u001b[0;34m)\u001b[0m \u001b[0;32mand\u001b[0m \u001b[0;34m(\u001b[0m\u001b[0mchunksize\u001b[0m \u001b[0;32mis\u001b[0m \u001b[0;32mnot\u001b[0m \u001b[0mNone\u001b[0m\u001b[0;34m)\u001b[0m\u001b[0;34m:\u001b[0m\u001b[0;34m\u001b[0m\u001b[0m\n",
      "\u001b[0;32m/Users/Italo/anaconda/lib/python2.7/site-packages/pandas/io/parsers.pyc\u001b[0m in \u001b[0;36m__init__\u001b[0;34m(self, f, engine, **kwds)\u001b[0m\n\u001b[1;32m    727\u001b[0m             \u001b[0mself\u001b[0m\u001b[0;34m.\u001b[0m\u001b[0moptions\u001b[0m\u001b[0;34m[\u001b[0m\u001b[0;34m'has_index_names'\u001b[0m\u001b[0;34m]\u001b[0m \u001b[0;34m=\u001b[0m \u001b[0mkwds\u001b[0m\u001b[0;34m[\u001b[0m\u001b[0;34m'has_index_names'\u001b[0m\u001b[0;34m]\u001b[0m\u001b[0;34m\u001b[0m\u001b[0m\n\u001b[1;32m    728\u001b[0m \u001b[0;34m\u001b[0m\u001b[0m\n\u001b[0;32m--> 729\u001b[0;31m         \u001b[0mself\u001b[0m\u001b[0;34m.\u001b[0m\u001b[0m_make_engine\u001b[0m\u001b[0;34m(\u001b[0m\u001b[0mself\u001b[0m\u001b[0;34m.\u001b[0m\u001b[0mengine\u001b[0m\u001b[0;34m)\u001b[0m\u001b[0;34m\u001b[0m\u001b[0m\n\u001b[0m\u001b[1;32m    730\u001b[0m \u001b[0;34m\u001b[0m\u001b[0m\n\u001b[1;32m    731\u001b[0m     \u001b[0;32mdef\u001b[0m \u001b[0mclose\u001b[0m\u001b[0;34m(\u001b[0m\u001b[0mself\u001b[0m\u001b[0;34m)\u001b[0m\u001b[0;34m:\u001b[0m\u001b[0;34m\u001b[0m\u001b[0m\n",
      "\u001b[0;32m/Users/Italo/anaconda/lib/python2.7/site-packages/pandas/io/parsers.pyc\u001b[0m in \u001b[0;36m_make_engine\u001b[0;34m(self, engine)\u001b[0m\n\u001b[1;32m    920\u001b[0m     \u001b[0;32mdef\u001b[0m \u001b[0m_make_engine\u001b[0m\u001b[0;34m(\u001b[0m\u001b[0mself\u001b[0m\u001b[0;34m,\u001b[0m \u001b[0mengine\u001b[0m\u001b[0;34m=\u001b[0m\u001b[0;34m'c'\u001b[0m\u001b[0;34m)\u001b[0m\u001b[0;34m:\u001b[0m\u001b[0;34m\u001b[0m\u001b[0m\n\u001b[1;32m    921\u001b[0m         \u001b[0;32mif\u001b[0m \u001b[0mengine\u001b[0m \u001b[0;34m==\u001b[0m \u001b[0;34m'c'\u001b[0m\u001b[0;34m:\u001b[0m\u001b[0;34m\u001b[0m\u001b[0m\n\u001b[0;32m--> 922\u001b[0;31m             \u001b[0mself\u001b[0m\u001b[0;34m.\u001b[0m\u001b[0m_engine\u001b[0m \u001b[0;34m=\u001b[0m \u001b[0mCParserWrapper\u001b[0m\u001b[0;34m(\u001b[0m\u001b[0mself\u001b[0m\u001b[0;34m.\u001b[0m\u001b[0mf\u001b[0m\u001b[0;34m,\u001b[0m \u001b[0;34m**\u001b[0m\u001b[0mself\u001b[0m\u001b[0;34m.\u001b[0m\u001b[0moptions\u001b[0m\u001b[0;34m)\u001b[0m\u001b[0;34m\u001b[0m\u001b[0m\n\u001b[0m\u001b[1;32m    923\u001b[0m         \u001b[0;32melse\u001b[0m\u001b[0;34m:\u001b[0m\u001b[0;34m\u001b[0m\u001b[0m\n\u001b[1;32m    924\u001b[0m             \u001b[0;32mif\u001b[0m \u001b[0mengine\u001b[0m \u001b[0;34m==\u001b[0m \u001b[0;34m'python'\u001b[0m\u001b[0;34m:\u001b[0m\u001b[0;34m\u001b[0m\u001b[0m\n",
      "\u001b[0;32m/Users/Italo/anaconda/lib/python2.7/site-packages/pandas/io/parsers.pyc\u001b[0m in \u001b[0;36m__init__\u001b[0;34m(self, src, **kwds)\u001b[0m\n\u001b[1;32m   1387\u001b[0m         \u001b[0mkwds\u001b[0m\u001b[0;34m[\u001b[0m\u001b[0;34m'allow_leading_cols'\u001b[0m\u001b[0;34m]\u001b[0m \u001b[0;34m=\u001b[0m \u001b[0mself\u001b[0m\u001b[0;34m.\u001b[0m\u001b[0mindex_col\u001b[0m \u001b[0;32mis\u001b[0m \u001b[0;32mnot\u001b[0m \u001b[0mFalse\u001b[0m\u001b[0;34m\u001b[0m\u001b[0m\n\u001b[1;32m   1388\u001b[0m \u001b[0;34m\u001b[0m\u001b[0m\n\u001b[0;32m-> 1389\u001b[0;31m         \u001b[0mself\u001b[0m\u001b[0;34m.\u001b[0m\u001b[0m_reader\u001b[0m \u001b[0;34m=\u001b[0m \u001b[0m_parser\u001b[0m\u001b[0;34m.\u001b[0m\u001b[0mTextReader\u001b[0m\u001b[0;34m(\u001b[0m\u001b[0msrc\u001b[0m\u001b[0;34m,\u001b[0m \u001b[0;34m**\u001b[0m\u001b[0mkwds\u001b[0m\u001b[0;34m)\u001b[0m\u001b[0;34m\u001b[0m\u001b[0m\n\u001b[0m\u001b[1;32m   1390\u001b[0m \u001b[0;34m\u001b[0m\u001b[0m\n\u001b[1;32m   1391\u001b[0m         \u001b[0;31m# XXX\u001b[0m\u001b[0;34m\u001b[0m\u001b[0;34m\u001b[0m\u001b[0m\n",
      "\u001b[0;32mpandas/parser.pyx\u001b[0m in \u001b[0;36mpandas.parser.TextReader.__cinit__ (pandas/parser.c:4019)\u001b[0;34m()\u001b[0m\n",
      "\u001b[0;32mpandas/parser.pyx\u001b[0m in \u001b[0;36mpandas.parser.TextReader._setup_parser_source (pandas/parser.c:7967)\u001b[0;34m()\u001b[0m\n",
      "\u001b[0;31mIOError\u001b[0m: File training.csv does not exist"
     ]
    }
   ],
   "source": [
    "df = pd.read_csv(\"training.csv\", delimiter=',')"
   ]
  },
  {
   "cell_type": "code",
   "execution_count": null,
   "metadata": {
    "collapsed": false
   },
   "outputs": [],
   "source": [
    "#Scrivere a cosa si riferiscono le variabili\n",
    "df.head()"
   ]
  },
  {
   "cell_type": "code",
   "execution_count": null,
   "metadata": {
    "collapsed": false
   },
   "outputs": [],
   "source": [
    "df2 = df[df[\"Make\"]==\"KIA\"]\n",
    "df2 = df2[df2[\"Model\"]==\"SPECTRA\"]\n",
    "df2 = df2[df2[\"SubModel\"]==\"4D SEDAN EX\"]\n",
    "\n",
    "df2[['RefId','IsBadBuy','VehYear','VehicleAge','Make','Model','SubModel','VehOdo','PurchDate','MMRAcquisitionAuctionAveragePrice','MMRAcquisitionAuctionCleanPrice','MMRAcquisitionRetailAveragePrice','MMRAcquisitonRetailCleanPrice','MMRCurrentAuctionAveragePrice','MMRCurrentAuctionCleanPrice','MMRCurrentRetailAveragePrice','MMRCurrentRetailCleanPrice','VehBCost']]"
   ]
  },
  {
   "cell_type": "code",
   "execution_count": null,
   "metadata": {
    "collapsed": false
   },
   "outputs": [],
   "source": [
    "df.dtypes"
   ]
  },
  {
   "cell_type": "code",
   "execution_count": 4,
   "metadata": {
    "collapsed": false,
    "scrolled": true
   },
   "outputs": [
    {
     "ename": "NameError",
     "evalue": "name 'df' is not defined",
     "output_type": "error",
     "traceback": [
      "\u001b[0;31m---------------------------------------------------------------------------\u001b[0m",
      "\u001b[0;31mNameError\u001b[0m                                 Traceback (most recent call last)",
      "\u001b[0;32m<ipython-input-4-1df40f932c9d>\u001b[0m in \u001b[0;36m<module>\u001b[0;34m()\u001b[0m\n\u001b[0;32m----> 1\u001b[0;31m \u001b[0mdf\u001b[0m\u001b[0;34m.\u001b[0m\u001b[0mdescribe\u001b[0m\u001b[0;34m(\u001b[0m\u001b[0;34m)\u001b[0m\u001b[0;34m\u001b[0m\u001b[0m\n\u001b[0m",
      "\u001b[0;31mNameError\u001b[0m: name 'df' is not defined"
     ]
    }
   ],
   "source": [
    "df.describe()"
   ]
  },
  {
   "cell_type": "code",
   "execution_count": 29,
   "metadata": {
    "collapsed": false
   },
   "outputs": [
    {
     "data": {
      "text/html": [
       "<div>\n",
       "<table border=\"1\" class=\"dataframe\">\n",
       "  <thead>\n",
       "    <tr style=\"text-align: right;\">\n",
       "      <th></th>\n",
       "      <th>RefId</th>\n",
       "      <th>IsBadBuy</th>\n",
       "      <th>VehYear</th>\n",
       "      <th>VehicleAge</th>\n",
       "      <th>WheelTypeID</th>\n",
       "      <th>VehOdo</th>\n",
       "      <th>MMRAcquisitionAuctionAveragePrice</th>\n",
       "      <th>MMRAcquisitionAuctionCleanPrice</th>\n",
       "      <th>MMRAcquisitionRetailAveragePrice</th>\n",
       "      <th>MMRAcquisitonRetailCleanPrice</th>\n",
       "      <th>MMRCurrentAuctionAveragePrice</th>\n",
       "      <th>MMRCurrentAuctionCleanPrice</th>\n",
       "      <th>MMRCurrentRetailAveragePrice</th>\n",
       "      <th>MMRCurrentRetailCleanPrice</th>\n",
       "      <th>BYRNO</th>\n",
       "      <th>VNZIP1</th>\n",
       "      <th>VehBCost</th>\n",
       "      <th>IsOnlineSale</th>\n",
       "      <th>WarrantyCost</th>\n",
       "    </tr>\n",
       "  </thead>\n",
       "  <tbody>\n",
       "    <tr>\n",
       "      <th>RefId</th>\n",
       "      <td>1.000000</td>\n",
       "      <td>-0.058917</td>\n",
       "      <td>0.087005</td>\n",
       "      <td>-0.136419</td>\n",
       "      <td>0.022189</td>\n",
       "      <td>-0.046968</td>\n",
       "      <td>0.081927</td>\n",
       "      <td>0.081251</td>\n",
       "      <td>0.005411</td>\n",
       "      <td>0.006895</td>\n",
       "      <td>0.094436</td>\n",
       "      <td>0.093831</td>\n",
       "      <td>0.025660</td>\n",
       "      <td>0.029618</td>\n",
       "      <td>-0.032782</td>\n",
       "      <td>0.712117</td>\n",
       "      <td>0.052257</td>\n",
       "      <td>-0.088285</td>\n",
       "      <td>-0.017651</td>\n",
       "    </tr>\n",
       "    <tr>\n",
       "      <th>IsBadBuy</th>\n",
       "      <td>-0.058917</td>\n",
       "      <td>1.000000</td>\n",
       "      <td>-0.140805</td>\n",
       "      <td>0.152069</td>\n",
       "      <td>-0.011643</td>\n",
       "      <td>0.049100</td>\n",
       "      <td>-0.116347</td>\n",
       "      <td>-0.114127</td>\n",
       "      <td>-0.089290</td>\n",
       "      <td>-0.089309</td>\n",
       "      <td>-0.123151</td>\n",
       "      <td>-0.120812</td>\n",
       "      <td>-0.112496</td>\n",
       "      <td>-0.113069</td>\n",
       "      <td>0.004729</td>\n",
       "      <td>-0.065446</td>\n",
       "      <td>-0.118423</td>\n",
       "      <td>0.008915</td>\n",
       "      <td>0.066842</td>\n",
       "    </tr>\n",
       "    <tr>\n",
       "      <th>VehYear</th>\n",
       "      <td>0.087005</td>\n",
       "      <td>-0.140805</td>\n",
       "      <td>1.000000</td>\n",
       "      <td>-0.956413</td>\n",
       "      <td>0.200205</td>\n",
       "      <td>-0.125991</td>\n",
       "      <td>0.601509</td>\n",
       "      <td>0.568213</td>\n",
       "      <td>0.596729</td>\n",
       "      <td>0.566206</td>\n",
       "      <td>0.611392</td>\n",
       "      <td>0.584125</td>\n",
       "      <td>0.608913</td>\n",
       "      <td>0.580166</td>\n",
       "      <td>0.018561</td>\n",
       "      <td>0.020544</td>\n",
       "      <td>0.385799</td>\n",
       "      <td>0.140237</td>\n",
       "      <td>-0.194767</td>\n",
       "    </tr>\n",
       "    <tr>\n",
       "      <th>VehicleAge</th>\n",
       "      <td>-0.136419</td>\n",
       "      <td>0.152069</td>\n",
       "      <td>-0.956413</td>\n",
       "      <td>1.000000</td>\n",
       "      <td>-0.218855</td>\n",
       "      <td>0.178204</td>\n",
       "      <td>-0.586476</td>\n",
       "      <td>-0.554756</td>\n",
       "      <td>-0.478138</td>\n",
       "      <td>-0.455792</td>\n",
       "      <td>-0.596844</td>\n",
       "      <td>-0.569319</td>\n",
       "      <td>-0.520099</td>\n",
       "      <td>-0.497416</td>\n",
       "      <td>0.009997</td>\n",
       "      <td>-0.098151</td>\n",
       "      <td>-0.351737</td>\n",
       "      <td>-0.101736</td>\n",
       "      <td>0.191328</td>\n",
       "    </tr>\n",
       "    <tr>\n",
       "      <th>WheelTypeID</th>\n",
       "      <td>0.022189</td>\n",
       "      <td>-0.011643</td>\n",
       "      <td>0.200205</td>\n",
       "      <td>-0.218855</td>\n",
       "      <td>1.000000</td>\n",
       "      <td>-0.205021</td>\n",
       "      <td>-0.114883</td>\n",
       "      <td>-0.137920</td>\n",
       "      <td>-0.126472</td>\n",
       "      <td>-0.146556</td>\n",
       "      <td>-0.102249</td>\n",
       "      <td>-0.125627</td>\n",
       "      <td>-0.124170</td>\n",
       "      <td>-0.141518</td>\n",
       "      <td>0.010137</td>\n",
       "      <td>0.036805</td>\n",
       "      <td>-0.174199</td>\n",
       "      <td>0.028566</td>\n",
       "      <td>-0.163193</td>\n",
       "    </tr>\n",
       "    <tr>\n",
       "      <th>VehOdo</th>\n",
       "      <td>-0.046968</td>\n",
       "      <td>0.049100</td>\n",
       "      <td>-0.125991</td>\n",
       "      <td>0.178204</td>\n",
       "      <td>-0.205021</td>\n",
       "      <td>1.000000</td>\n",
       "      <td>0.070888</td>\n",
       "      <td>0.088068</td>\n",
       "      <td>0.130316</td>\n",
       "      <td>0.142008</td>\n",
       "      <td>0.060168</td>\n",
       "      <td>0.077008</td>\n",
       "      <td>0.117720</td>\n",
       "      <td>0.129434</td>\n",
       "      <td>0.009688</td>\n",
       "      <td>-0.055387</td>\n",
       "      <td>-0.007124</td>\n",
       "      <td>-0.005880</td>\n",
       "      <td>0.402231</td>\n",
       "    </tr>\n",
       "    <tr>\n",
       "      <th>MMRAcquisitionAuctionAveragePrice</th>\n",
       "      <td>0.081927</td>\n",
       "      <td>-0.116347</td>\n",
       "      <td>0.601509</td>\n",
       "      <td>-0.586476</td>\n",
       "      <td>-0.114883</td>\n",
       "      <td>0.070888</td>\n",
       "      <td>1.000000</td>\n",
       "      <td>0.991998</td>\n",
       "      <td>0.911158</td>\n",
       "      <td>0.912530</td>\n",
       "      <td>0.939707</td>\n",
       "      <td>0.935734</td>\n",
       "      <td>0.878655</td>\n",
       "      <td>0.877418</td>\n",
       "      <td>0.028167</td>\n",
       "      <td>0.042776</td>\n",
       "      <td>0.795426</td>\n",
       "      <td>0.054969</td>\n",
       "      <td>0.001598</td>\n",
       "    </tr>\n",
       "    <tr>\n",
       "      <th>MMRAcquisitionAuctionCleanPrice</th>\n",
       "      <td>0.081251</td>\n",
       "      <td>-0.114127</td>\n",
       "      <td>0.568213</td>\n",
       "      <td>-0.554756</td>\n",
       "      <td>-0.137920</td>\n",
       "      <td>0.088068</td>\n",
       "      <td>0.991998</td>\n",
       "      <td>1.000000</td>\n",
       "      <td>0.904678</td>\n",
       "      <td>0.919137</td>\n",
       "      <td>0.929087</td>\n",
       "      <td>0.934977</td>\n",
       "      <td>0.872686</td>\n",
       "      <td>0.879606</td>\n",
       "      <td>0.032612</td>\n",
       "      <td>0.040791</td>\n",
       "      <td>0.786633</td>\n",
       "      <td>0.049126</td>\n",
       "      <td>0.020755</td>\n",
       "    </tr>\n",
       "    <tr>\n",
       "      <th>MMRAcquisitionRetailAveragePrice</th>\n",
       "      <td>0.005411</td>\n",
       "      <td>-0.089290</td>\n",
       "      <td>0.596729</td>\n",
       "      <td>-0.478138</td>\n",
       "      <td>-0.126472</td>\n",
       "      <td>0.130316</td>\n",
       "      <td>0.911158</td>\n",
       "      <td>0.904678</td>\n",
       "      <td>1.000000</td>\n",
       "      <td>0.990654</td>\n",
       "      <td>0.856885</td>\n",
       "      <td>0.855553</td>\n",
       "      <td>0.915954</td>\n",
       "      <td>0.908002</td>\n",
       "      <td>0.052286</td>\n",
       "      <td>-0.063901</td>\n",
       "      <td>0.754192</td>\n",
       "      <td>0.107583</td>\n",
       "      <td>0.006129</td>\n",
       "    </tr>\n",
       "    <tr>\n",
       "      <th>MMRAcquisitonRetailCleanPrice</th>\n",
       "      <td>0.006895</td>\n",
       "      <td>-0.089309</td>\n",
       "      <td>0.566206</td>\n",
       "      <td>-0.455792</td>\n",
       "      <td>-0.146556</td>\n",
       "      <td>0.142008</td>\n",
       "      <td>0.912530</td>\n",
       "      <td>0.919137</td>\n",
       "      <td>0.990654</td>\n",
       "      <td>1.000000</td>\n",
       "      <td>0.855041</td>\n",
       "      <td>0.861568</td>\n",
       "      <td>0.910469</td>\n",
       "      <td>0.911113</td>\n",
       "      <td>0.053924</td>\n",
       "      <td>-0.059167</td>\n",
       "      <td>0.753401</td>\n",
       "      <td>0.097319</td>\n",
       "      <td>0.026233</td>\n",
       "    </tr>\n",
       "    <tr>\n",
       "      <th>MMRCurrentAuctionAveragePrice</th>\n",
       "      <td>0.094436</td>\n",
       "      <td>-0.123151</td>\n",
       "      <td>0.611392</td>\n",
       "      <td>-0.596844</td>\n",
       "      <td>-0.102249</td>\n",
       "      <td>0.060168</td>\n",
       "      <td>0.939707</td>\n",
       "      <td>0.929087</td>\n",
       "      <td>0.856885</td>\n",
       "      <td>0.855041</td>\n",
       "      <td>1.000000</td>\n",
       "      <td>0.992335</td>\n",
       "      <td>0.921549</td>\n",
       "      <td>0.918616</td>\n",
       "      <td>0.005664</td>\n",
       "      <td>0.060866</td>\n",
       "      <td>0.774319</td>\n",
       "      <td>0.053562</td>\n",
       "      <td>-0.004155</td>\n",
       "    </tr>\n",
       "    <tr>\n",
       "      <th>MMRCurrentAuctionCleanPrice</th>\n",
       "      <td>0.093831</td>\n",
       "      <td>-0.120812</td>\n",
       "      <td>0.584125</td>\n",
       "      <td>-0.569319</td>\n",
       "      <td>-0.125627</td>\n",
       "      <td>0.077008</td>\n",
       "      <td>0.935734</td>\n",
       "      <td>0.934977</td>\n",
       "      <td>0.855553</td>\n",
       "      <td>0.861568</td>\n",
       "      <td>0.992335</td>\n",
       "      <td>1.000000</td>\n",
       "      <td>0.917949</td>\n",
       "      <td>0.927686</td>\n",
       "      <td>0.010242</td>\n",
       "      <td>0.059317</td>\n",
       "      <td>0.769499</td>\n",
       "      <td>0.048948</td>\n",
       "      <td>0.014166</td>\n",
       "    </tr>\n",
       "    <tr>\n",
       "      <th>MMRCurrentRetailAveragePrice</th>\n",
       "      <td>0.025660</td>\n",
       "      <td>-0.112496</td>\n",
       "      <td>0.608913</td>\n",
       "      <td>-0.520099</td>\n",
       "      <td>-0.124170</td>\n",
       "      <td>0.117720</td>\n",
       "      <td>0.878655</td>\n",
       "      <td>0.872686</td>\n",
       "      <td>0.915954</td>\n",
       "      <td>0.910469</td>\n",
       "      <td>0.921549</td>\n",
       "      <td>0.917949</td>\n",
       "      <td>1.000000</td>\n",
       "      <td>0.990320</td>\n",
       "      <td>0.022579</td>\n",
       "      <td>-0.042925</td>\n",
       "      <td>0.756629</td>\n",
       "      <td>0.108847</td>\n",
       "      <td>0.002755</td>\n",
       "    </tr>\n",
       "    <tr>\n",
       "      <th>MMRCurrentRetailCleanPrice</th>\n",
       "      <td>0.029618</td>\n",
       "      <td>-0.113069</td>\n",
       "      <td>0.580166</td>\n",
       "      <td>-0.497416</td>\n",
       "      <td>-0.141518</td>\n",
       "      <td>0.129434</td>\n",
       "      <td>0.877418</td>\n",
       "      <td>0.879606</td>\n",
       "      <td>0.908002</td>\n",
       "      <td>0.911113</td>\n",
       "      <td>0.918616</td>\n",
       "      <td>0.927686</td>\n",
       "      <td>0.990320</td>\n",
       "      <td>1.000000</td>\n",
       "      <td>0.026061</td>\n",
       "      <td>-0.035734</td>\n",
       "      <td>0.754952</td>\n",
       "      <td>0.099148</td>\n",
       "      <td>0.021220</td>\n",
       "    </tr>\n",
       "    <tr>\n",
       "      <th>BYRNO</th>\n",
       "      <td>-0.032782</td>\n",
       "      <td>0.004729</td>\n",
       "      <td>0.018561</td>\n",
       "      <td>0.009997</td>\n",
       "      <td>0.010137</td>\n",
       "      <td>0.009688</td>\n",
       "      <td>0.028167</td>\n",
       "      <td>0.032612</td>\n",
       "      <td>0.052286</td>\n",
       "      <td>0.053924</td>\n",
       "      <td>0.005664</td>\n",
       "      <td>0.010242</td>\n",
       "      <td>0.022579</td>\n",
       "      <td>0.026061</td>\n",
       "      <td>1.000000</td>\n",
       "      <td>-0.107547</td>\n",
       "      <td>0.035092</td>\n",
       "      <td>-0.243119</td>\n",
       "      <td>0.020265</td>\n",
       "    </tr>\n",
       "    <tr>\n",
       "      <th>VNZIP1</th>\n",
       "      <td>0.712117</td>\n",
       "      <td>-0.065446</td>\n",
       "      <td>0.020544</td>\n",
       "      <td>-0.098151</td>\n",
       "      <td>0.036805</td>\n",
       "      <td>-0.055387</td>\n",
       "      <td>0.042776</td>\n",
       "      <td>0.040791</td>\n",
       "      <td>-0.063901</td>\n",
       "      <td>-0.059167</td>\n",
       "      <td>0.060866</td>\n",
       "      <td>0.059317</td>\n",
       "      <td>-0.042925</td>\n",
       "      <td>-0.035734</td>\n",
       "      <td>-0.107547</td>\n",
       "      <td>1.000000</td>\n",
       "      <td>0.018724</td>\n",
       "      <td>0.024117</td>\n",
       "      <td>-0.020493</td>\n",
       "    </tr>\n",
       "    <tr>\n",
       "      <th>VehBCost</th>\n",
       "      <td>0.052257</td>\n",
       "      <td>-0.118423</td>\n",
       "      <td>0.385799</td>\n",
       "      <td>-0.351737</td>\n",
       "      <td>-0.174199</td>\n",
       "      <td>-0.007124</td>\n",
       "      <td>0.795426</td>\n",
       "      <td>0.786633</td>\n",
       "      <td>0.754192</td>\n",
       "      <td>0.753401</td>\n",
       "      <td>0.774319</td>\n",
       "      <td>0.769499</td>\n",
       "      <td>0.756629</td>\n",
       "      <td>0.754952</td>\n",
       "      <td>0.035092</td>\n",
       "      <td>0.018724</td>\n",
       "      <td>1.000000</td>\n",
       "      <td>0.042366</td>\n",
       "      <td>0.023794</td>\n",
       "    </tr>\n",
       "    <tr>\n",
       "      <th>IsOnlineSale</th>\n",
       "      <td>-0.088285</td>\n",
       "      <td>0.008915</td>\n",
       "      <td>0.140237</td>\n",
       "      <td>-0.101736</td>\n",
       "      <td>0.028566</td>\n",
       "      <td>-0.005880</td>\n",
       "      <td>0.054969</td>\n",
       "      <td>0.049126</td>\n",
       "      <td>0.107583</td>\n",
       "      <td>0.097319</td>\n",
       "      <td>0.053562</td>\n",
       "      <td>0.048948</td>\n",
       "      <td>0.108847</td>\n",
       "      <td>0.099148</td>\n",
       "      <td>-0.243119</td>\n",
       "      <td>0.024117</td>\n",
       "      <td>0.042366</td>\n",
       "      <td>1.000000</td>\n",
       "      <td>-0.028475</td>\n",
       "    </tr>\n",
       "    <tr>\n",
       "      <th>WarrantyCost</th>\n",
       "      <td>-0.017651</td>\n",
       "      <td>0.066842</td>\n",
       "      <td>-0.194767</td>\n",
       "      <td>0.191328</td>\n",
       "      <td>-0.163193</td>\n",
       "      <td>0.402231</td>\n",
       "      <td>0.001598</td>\n",
       "      <td>0.020755</td>\n",
       "      <td>0.006129</td>\n",
       "      <td>0.026233</td>\n",
       "      <td>-0.004155</td>\n",
       "      <td>0.014166</td>\n",
       "      <td>0.002755</td>\n",
       "      <td>0.021220</td>\n",
       "      <td>0.020265</td>\n",
       "      <td>-0.020493</td>\n",
       "      <td>0.023794</td>\n",
       "      <td>-0.028475</td>\n",
       "      <td>1.000000</td>\n",
       "    </tr>\n",
       "  </tbody>\n",
       "</table>\n",
       "</div>"
      ],
      "text/plain": [
       "                                      RefId  IsBadBuy   VehYear  VehicleAge  \\\n",
       "RefId                              1.000000 -0.058917  0.087005   -0.136419   \n",
       "IsBadBuy                          -0.058917  1.000000 -0.140805    0.152069   \n",
       "VehYear                            0.087005 -0.140805  1.000000   -0.956413   \n",
       "VehicleAge                        -0.136419  0.152069 -0.956413    1.000000   \n",
       "WheelTypeID                        0.022189 -0.011643  0.200205   -0.218855   \n",
       "VehOdo                            -0.046968  0.049100 -0.125991    0.178204   \n",
       "MMRAcquisitionAuctionAveragePrice  0.081927 -0.116347  0.601509   -0.586476   \n",
       "MMRAcquisitionAuctionCleanPrice    0.081251 -0.114127  0.568213   -0.554756   \n",
       "MMRAcquisitionRetailAveragePrice   0.005411 -0.089290  0.596729   -0.478138   \n",
       "MMRAcquisitonRetailCleanPrice      0.006895 -0.089309  0.566206   -0.455792   \n",
       "MMRCurrentAuctionAveragePrice      0.094436 -0.123151  0.611392   -0.596844   \n",
       "MMRCurrentAuctionCleanPrice        0.093831 -0.120812  0.584125   -0.569319   \n",
       "MMRCurrentRetailAveragePrice       0.025660 -0.112496  0.608913   -0.520099   \n",
       "MMRCurrentRetailCleanPrice         0.029618 -0.113069  0.580166   -0.497416   \n",
       "BYRNO                             -0.032782  0.004729  0.018561    0.009997   \n",
       "VNZIP1                             0.712117 -0.065446  0.020544   -0.098151   \n",
       "VehBCost                           0.052257 -0.118423  0.385799   -0.351737   \n",
       "IsOnlineSale                      -0.088285  0.008915  0.140237   -0.101736   \n",
       "WarrantyCost                      -0.017651  0.066842 -0.194767    0.191328   \n",
       "\n",
       "                                   WheelTypeID    VehOdo  \\\n",
       "RefId                                 0.022189 -0.046968   \n",
       "IsBadBuy                             -0.011643  0.049100   \n",
       "VehYear                               0.200205 -0.125991   \n",
       "VehicleAge                           -0.218855  0.178204   \n",
       "WheelTypeID                           1.000000 -0.205021   \n",
       "VehOdo                               -0.205021  1.000000   \n",
       "MMRAcquisitionAuctionAveragePrice    -0.114883  0.070888   \n",
       "MMRAcquisitionAuctionCleanPrice      -0.137920  0.088068   \n",
       "MMRAcquisitionRetailAveragePrice     -0.126472  0.130316   \n",
       "MMRAcquisitonRetailCleanPrice        -0.146556  0.142008   \n",
       "MMRCurrentAuctionAveragePrice        -0.102249  0.060168   \n",
       "MMRCurrentAuctionCleanPrice          -0.125627  0.077008   \n",
       "MMRCurrentRetailAveragePrice         -0.124170  0.117720   \n",
       "MMRCurrentRetailCleanPrice           -0.141518  0.129434   \n",
       "BYRNO                                 0.010137  0.009688   \n",
       "VNZIP1                                0.036805 -0.055387   \n",
       "VehBCost                             -0.174199 -0.007124   \n",
       "IsOnlineSale                          0.028566 -0.005880   \n",
       "WarrantyCost                         -0.163193  0.402231   \n",
       "\n",
       "                                   MMRAcquisitionAuctionAveragePrice  \\\n",
       "RefId                                                       0.081927   \n",
       "IsBadBuy                                                   -0.116347   \n",
       "VehYear                                                     0.601509   \n",
       "VehicleAge                                                 -0.586476   \n",
       "WheelTypeID                                                -0.114883   \n",
       "VehOdo                                                      0.070888   \n",
       "MMRAcquisitionAuctionAveragePrice                           1.000000   \n",
       "MMRAcquisitionAuctionCleanPrice                             0.991998   \n",
       "MMRAcquisitionRetailAveragePrice                            0.911158   \n",
       "MMRAcquisitonRetailCleanPrice                               0.912530   \n",
       "MMRCurrentAuctionAveragePrice                               0.939707   \n",
       "MMRCurrentAuctionCleanPrice                                 0.935734   \n",
       "MMRCurrentRetailAveragePrice                                0.878655   \n",
       "MMRCurrentRetailCleanPrice                                  0.877418   \n",
       "BYRNO                                                       0.028167   \n",
       "VNZIP1                                                      0.042776   \n",
       "VehBCost                                                    0.795426   \n",
       "IsOnlineSale                                                0.054969   \n",
       "WarrantyCost                                                0.001598   \n",
       "\n",
       "                                   MMRAcquisitionAuctionCleanPrice  \\\n",
       "RefId                                                     0.081251   \n",
       "IsBadBuy                                                 -0.114127   \n",
       "VehYear                                                   0.568213   \n",
       "VehicleAge                                               -0.554756   \n",
       "WheelTypeID                                              -0.137920   \n",
       "VehOdo                                                    0.088068   \n",
       "MMRAcquisitionAuctionAveragePrice                         0.991998   \n",
       "MMRAcquisitionAuctionCleanPrice                           1.000000   \n",
       "MMRAcquisitionRetailAveragePrice                          0.904678   \n",
       "MMRAcquisitonRetailCleanPrice                             0.919137   \n",
       "MMRCurrentAuctionAveragePrice                             0.929087   \n",
       "MMRCurrentAuctionCleanPrice                               0.934977   \n",
       "MMRCurrentRetailAveragePrice                              0.872686   \n",
       "MMRCurrentRetailCleanPrice                                0.879606   \n",
       "BYRNO                                                     0.032612   \n",
       "VNZIP1                                                    0.040791   \n",
       "VehBCost                                                  0.786633   \n",
       "IsOnlineSale                                              0.049126   \n",
       "WarrantyCost                                              0.020755   \n",
       "\n",
       "                                   MMRAcquisitionRetailAveragePrice  \\\n",
       "RefId                                                      0.005411   \n",
       "IsBadBuy                                                  -0.089290   \n",
       "VehYear                                                    0.596729   \n",
       "VehicleAge                                                -0.478138   \n",
       "WheelTypeID                                               -0.126472   \n",
       "VehOdo                                                     0.130316   \n",
       "MMRAcquisitionAuctionAveragePrice                          0.911158   \n",
       "MMRAcquisitionAuctionCleanPrice                            0.904678   \n",
       "MMRAcquisitionRetailAveragePrice                           1.000000   \n",
       "MMRAcquisitonRetailCleanPrice                              0.990654   \n",
       "MMRCurrentAuctionAveragePrice                              0.856885   \n",
       "MMRCurrentAuctionCleanPrice                                0.855553   \n",
       "MMRCurrentRetailAveragePrice                               0.915954   \n",
       "MMRCurrentRetailCleanPrice                                 0.908002   \n",
       "BYRNO                                                      0.052286   \n",
       "VNZIP1                                                    -0.063901   \n",
       "VehBCost                                                   0.754192   \n",
       "IsOnlineSale                                               0.107583   \n",
       "WarrantyCost                                               0.006129   \n",
       "\n",
       "                                   MMRAcquisitonRetailCleanPrice  \\\n",
       "RefId                                                   0.006895   \n",
       "IsBadBuy                                               -0.089309   \n",
       "VehYear                                                 0.566206   \n",
       "VehicleAge                                             -0.455792   \n",
       "WheelTypeID                                            -0.146556   \n",
       "VehOdo                                                  0.142008   \n",
       "MMRAcquisitionAuctionAveragePrice                       0.912530   \n",
       "MMRAcquisitionAuctionCleanPrice                         0.919137   \n",
       "MMRAcquisitionRetailAveragePrice                        0.990654   \n",
       "MMRAcquisitonRetailCleanPrice                           1.000000   \n",
       "MMRCurrentAuctionAveragePrice                           0.855041   \n",
       "MMRCurrentAuctionCleanPrice                             0.861568   \n",
       "MMRCurrentRetailAveragePrice                            0.910469   \n",
       "MMRCurrentRetailCleanPrice                              0.911113   \n",
       "BYRNO                                                   0.053924   \n",
       "VNZIP1                                                 -0.059167   \n",
       "VehBCost                                                0.753401   \n",
       "IsOnlineSale                                            0.097319   \n",
       "WarrantyCost                                            0.026233   \n",
       "\n",
       "                                   MMRCurrentAuctionAveragePrice  \\\n",
       "RefId                                                   0.094436   \n",
       "IsBadBuy                                               -0.123151   \n",
       "VehYear                                                 0.611392   \n",
       "VehicleAge                                             -0.596844   \n",
       "WheelTypeID                                            -0.102249   \n",
       "VehOdo                                                  0.060168   \n",
       "MMRAcquisitionAuctionAveragePrice                       0.939707   \n",
       "MMRAcquisitionAuctionCleanPrice                         0.929087   \n",
       "MMRAcquisitionRetailAveragePrice                        0.856885   \n",
       "MMRAcquisitonRetailCleanPrice                           0.855041   \n",
       "MMRCurrentAuctionAveragePrice                           1.000000   \n",
       "MMRCurrentAuctionCleanPrice                             0.992335   \n",
       "MMRCurrentRetailAveragePrice                            0.921549   \n",
       "MMRCurrentRetailCleanPrice                              0.918616   \n",
       "BYRNO                                                   0.005664   \n",
       "VNZIP1                                                  0.060866   \n",
       "VehBCost                                                0.774319   \n",
       "IsOnlineSale                                            0.053562   \n",
       "WarrantyCost                                           -0.004155   \n",
       "\n",
       "                                   MMRCurrentAuctionCleanPrice  \\\n",
       "RefId                                                 0.093831   \n",
       "IsBadBuy                                             -0.120812   \n",
       "VehYear                                               0.584125   \n",
       "VehicleAge                                           -0.569319   \n",
       "WheelTypeID                                          -0.125627   \n",
       "VehOdo                                                0.077008   \n",
       "MMRAcquisitionAuctionAveragePrice                     0.935734   \n",
       "MMRAcquisitionAuctionCleanPrice                       0.934977   \n",
       "MMRAcquisitionRetailAveragePrice                      0.855553   \n",
       "MMRAcquisitonRetailCleanPrice                         0.861568   \n",
       "MMRCurrentAuctionAveragePrice                         0.992335   \n",
       "MMRCurrentAuctionCleanPrice                           1.000000   \n",
       "MMRCurrentRetailAveragePrice                          0.917949   \n",
       "MMRCurrentRetailCleanPrice                            0.927686   \n",
       "BYRNO                                                 0.010242   \n",
       "VNZIP1                                                0.059317   \n",
       "VehBCost                                              0.769499   \n",
       "IsOnlineSale                                          0.048948   \n",
       "WarrantyCost                                          0.014166   \n",
       "\n",
       "                                   MMRCurrentRetailAveragePrice  \\\n",
       "RefId                                                  0.025660   \n",
       "IsBadBuy                                              -0.112496   \n",
       "VehYear                                                0.608913   \n",
       "VehicleAge                                            -0.520099   \n",
       "WheelTypeID                                           -0.124170   \n",
       "VehOdo                                                 0.117720   \n",
       "MMRAcquisitionAuctionAveragePrice                      0.878655   \n",
       "MMRAcquisitionAuctionCleanPrice                        0.872686   \n",
       "MMRAcquisitionRetailAveragePrice                       0.915954   \n",
       "MMRAcquisitonRetailCleanPrice                          0.910469   \n",
       "MMRCurrentAuctionAveragePrice                          0.921549   \n",
       "MMRCurrentAuctionCleanPrice                            0.917949   \n",
       "MMRCurrentRetailAveragePrice                           1.000000   \n",
       "MMRCurrentRetailCleanPrice                             0.990320   \n",
       "BYRNO                                                  0.022579   \n",
       "VNZIP1                                                -0.042925   \n",
       "VehBCost                                               0.756629   \n",
       "IsOnlineSale                                           0.108847   \n",
       "WarrantyCost                                           0.002755   \n",
       "\n",
       "                                   MMRCurrentRetailCleanPrice     BYRNO  \\\n",
       "RefId                                                0.029618 -0.032782   \n",
       "IsBadBuy                                            -0.113069  0.004729   \n",
       "VehYear                                              0.580166  0.018561   \n",
       "VehicleAge                                          -0.497416  0.009997   \n",
       "WheelTypeID                                         -0.141518  0.010137   \n",
       "VehOdo                                               0.129434  0.009688   \n",
       "MMRAcquisitionAuctionAveragePrice                    0.877418  0.028167   \n",
       "MMRAcquisitionAuctionCleanPrice                      0.879606  0.032612   \n",
       "MMRAcquisitionRetailAveragePrice                     0.908002  0.052286   \n",
       "MMRAcquisitonRetailCleanPrice                        0.911113  0.053924   \n",
       "MMRCurrentAuctionAveragePrice                        0.918616  0.005664   \n",
       "MMRCurrentAuctionCleanPrice                          0.927686  0.010242   \n",
       "MMRCurrentRetailAveragePrice                         0.990320  0.022579   \n",
       "MMRCurrentRetailCleanPrice                           1.000000  0.026061   \n",
       "BYRNO                                                0.026061  1.000000   \n",
       "VNZIP1                                              -0.035734 -0.107547   \n",
       "VehBCost                                             0.754952  0.035092   \n",
       "IsOnlineSale                                         0.099148 -0.243119   \n",
       "WarrantyCost                                         0.021220  0.020265   \n",
       "\n",
       "                                     VNZIP1  VehBCost  IsOnlineSale  \\\n",
       "RefId                              0.712117  0.052257     -0.088285   \n",
       "IsBadBuy                          -0.065446 -0.118423      0.008915   \n",
       "VehYear                            0.020544  0.385799      0.140237   \n",
       "VehicleAge                        -0.098151 -0.351737     -0.101736   \n",
       "WheelTypeID                        0.036805 -0.174199      0.028566   \n",
       "VehOdo                            -0.055387 -0.007124     -0.005880   \n",
       "MMRAcquisitionAuctionAveragePrice  0.042776  0.795426      0.054969   \n",
       "MMRAcquisitionAuctionCleanPrice    0.040791  0.786633      0.049126   \n",
       "MMRAcquisitionRetailAveragePrice  -0.063901  0.754192      0.107583   \n",
       "MMRAcquisitonRetailCleanPrice     -0.059167  0.753401      0.097319   \n",
       "MMRCurrentAuctionAveragePrice      0.060866  0.774319      0.053562   \n",
       "MMRCurrentAuctionCleanPrice        0.059317  0.769499      0.048948   \n",
       "MMRCurrentRetailAveragePrice      -0.042925  0.756629      0.108847   \n",
       "MMRCurrentRetailCleanPrice        -0.035734  0.754952      0.099148   \n",
       "BYRNO                             -0.107547  0.035092     -0.243119   \n",
       "VNZIP1                             1.000000  0.018724      0.024117   \n",
       "VehBCost                           0.018724  1.000000      0.042366   \n",
       "IsOnlineSale                       0.024117  0.042366      1.000000   \n",
       "WarrantyCost                      -0.020493  0.023794     -0.028475   \n",
       "\n",
       "                                   WarrantyCost  \n",
       "RefId                                 -0.017651  \n",
       "IsBadBuy                               0.066842  \n",
       "VehYear                               -0.194767  \n",
       "VehicleAge                             0.191328  \n",
       "WheelTypeID                           -0.163193  \n",
       "VehOdo                                 0.402231  \n",
       "MMRAcquisitionAuctionAveragePrice      0.001598  \n",
       "MMRAcquisitionAuctionCleanPrice        0.020755  \n",
       "MMRAcquisitionRetailAveragePrice       0.006129  \n",
       "MMRAcquisitonRetailCleanPrice          0.026233  \n",
       "MMRCurrentAuctionAveragePrice         -0.004155  \n",
       "MMRCurrentAuctionCleanPrice            0.014166  \n",
       "MMRCurrentRetailAveragePrice           0.002755  \n",
       "MMRCurrentRetailCleanPrice             0.021220  \n",
       "BYRNO                                  0.020265  \n",
       "VNZIP1                                -0.020493  \n",
       "VehBCost                               0.023794  \n",
       "IsOnlineSale                          -0.028475  \n",
       "WarrantyCost                           1.000000  "
      ]
     },
     "execution_count": 29,
     "metadata": {},
     "output_type": "execute_result"
    }
   ],
   "source": [
    "df.corr()"
   ]
  },
  {
   "cell_type": "code",
   "execution_count": 1,
   "metadata": {
    "collapsed": false,
    "scrolled": true
   },
   "outputs": [
    {
     "ename": "NameError",
     "evalue": "name 'pd' is not defined",
     "output_type": "error",
     "traceback": [
      "\u001b[0;31m---------------------------------------------------------------------------\u001b[0m",
      "\u001b[0;31mNameError\u001b[0m                                 Traceback (most recent call last)",
      "\u001b[0;32m<ipython-input-1-93bfca8e28a3>\u001b[0m in \u001b[0;36m<module>\u001b[0;34m()\u001b[0m\n\u001b[0;32m----> 1\u001b[0;31m \u001b[0mpd\u001b[0m\u001b[0;34m.\u001b[0m\u001b[0mscatter_matrix\u001b[0m\u001b[0;34m(\u001b[0m\u001b[0mdf\u001b[0m\u001b[0;34m[\u001b[0m\u001b[0;34m[\u001b[0m\u001b[0;34m'IsBadBuy'\u001b[0m\u001b[0;34m,\u001b[0m\u001b[0;34m'VehicleAge'\u001b[0m\u001b[0;34m,\u001b[0m\u001b[0;34m'VehOdo'\u001b[0m\u001b[0;34m,\u001b[0m\u001b[0;34m'WarrantyCost'\u001b[0m\u001b[0;34m]\u001b[0m\u001b[0;34m]\u001b[0m\u001b[0;34m,\u001b[0m \u001b[0malpha\u001b[0m\u001b[0;34m=\u001b[0m\u001b[0;36m0.2\u001b[0m\u001b[0;34m,\u001b[0m \u001b[0mfigsize\u001b[0m\u001b[0;34m=\u001b[0m\u001b[0;34m(\u001b[0m\u001b[0;36m10\u001b[0m\u001b[0;34m,\u001b[0m \u001b[0;36m10\u001b[0m\u001b[0;34m)\u001b[0m\u001b[0;34m,\u001b[0m \u001b[0mdiagonal\u001b[0m\u001b[0;34m=\u001b[0m\u001b[0;34m'kde'\u001b[0m\u001b[0;34m)\u001b[0m\u001b[0;34m\u001b[0m\u001b[0m\n\u001b[0m",
      "\u001b[0;31mNameError\u001b[0m: name 'pd' is not defined"
     ]
    }
   ],
   "source": [
    "pd.scatter_matrix(df[['IsBadBuy','VehicleAge','VehOdo','WarrantyCost']], alpha=0.2, figsize=(10, 10), diagonal='kde')"
   ]
  },
  {
   "cell_type": "code",
   "execution_count": 31,
   "metadata": {
    "collapsed": false
   },
   "outputs": [
    {
     "data": {
      "text/plain": [
       "<matplotlib.axes._subplots.AxesSubplot at 0x12269b310>"
      ]
     },
     "execution_count": 31,
     "metadata": {},
     "output_type": "execute_result"
    },
    {
     "data": {
      "image/png": "[encoded data removed]",
      "text/plain": [
       "<matplotlib.figure.Figure at 0x11fc18e90>"
      ]
     },
     "metadata": {},
     "output_type": "display_data"
    }
   ],
   "source": [
    "data = sorted(df['PRIMEUNIT'].unique())\n",
    "prime_mapping = dict(zip(data, range(0, len(data) + 1)))\n",
    "df['PRIMEUNIT_Val'] = df['PRIMEUNIT'].map(prime_mapping).astype(int)\n",
    "\n",
    "data = sorted(df['AUCGUART'].unique())\n",
    "aucguart_mapping = dict(zip(data, range(0, len(data) + 1)))\n",
    "df['AUCGUART_Val'] = df['AUCGUART'].map(aucguart_mapping).astype(int)\n",
    "\n",
    "data = sorted(df['PurchDate'].unique())\n",
    "purchdate_mapping = dict(zip(data, range(0, len(data) + 1)))\n",
    "df['PurchDate_Val'] = df['PurchDate'].map(purchdate_mapping).astype(int)\n",
    "\n",
    "fig = plt.figure(figsize=(10, 10))\n",
    "fig_dims = (4, 2)\n",
    "\n",
    "plt.subplot2grid(fig_dims, (0, 0))\n",
    "df['IsBadBuy'].value_counts().plot(kind='bar', title='Good buy or not')\n",
    "\n",
    "plt.subplot2grid(fig_dims, (0, 1))\n",
    "df['PRIMEUNIT_Val'].value_counts().plot(kind='bar', title='Prime Unit')\n",
    "\n",
    "plt.subplot2grid(fig_dims, (1, 0))\n",
    "df['WarrantyCost'].hist()\n",
    "plt.title('Warranty Cost')\n",
    "\n",
    "plt.subplot2grid(fig_dims, (1, 1))\n",
    "df['AUCGUART_Val'].value_counts().plot(kind='bar', title='AUCGUART_Val')\n",
    "\n",
    "plt.subplot2grid(fig_dims, (2, 0))\n",
    "df['VehicleAge'].hist(bins=9)\n",
    "plt.title('Vehicle Age Histogram')\n",
    "\n",
    "plt.subplot2grid(fig_dims, (2, 1))\n",
    "df['VehOdo'].hist()\n",
    "plt.title('VehOdo')\n",
    "\n",
    "plt.subplot2grid(fig_dims, (3, 0))\n",
    "df['VNST'].value_counts().plot(kind='bar', title='VNST')\n",
    "\n",
    "plt.subplot2grid(fig_dims, (3, 1))\n",
    "df['PurchDate'].value_counts().plot(kind='bar', title='VNST')"
   ]
  },
  {
   "cell_type": "code",
   "execution_count": 32,
   "metadata": {
    "collapsed": false
   },
   "outputs": [
    {
     "data": {
      "text/html": [
       "<div>\n",
       "<table border=\"1\" class=\"dataframe\">\n",
       "  <thead>\n",
       "    <tr style=\"text-align: right;\">\n",
       "      <th>IsBadBuy</th>\n",
       "      <th>0</th>\n",
       "      <th>1</th>\n",
       "    </tr>\n",
       "    <tr>\n",
       "      <th>VehicleAge</th>\n",
       "      <th></th>\n",
       "      <th></th>\n",
       "    </tr>\n",
       "  </thead>\n",
       "  <tbody>\n",
       "    <tr>\n",
       "      <th>1</th>\n",
       "      <td>66</td>\n",
       "      <td>6</td>\n",
       "    </tr>\n",
       "    <tr>\n",
       "      <th>2</th>\n",
       "      <td>665</td>\n",
       "      <td>45</td>\n",
       "    </tr>\n",
       "    <tr>\n",
       "      <th>3</th>\n",
       "      <td>1103</td>\n",
       "      <td>110</td>\n",
       "    </tr>\n",
       "    <tr>\n",
       "      <th>4</th>\n",
       "      <td>1149</td>\n",
       "      <td>124</td>\n",
       "    </tr>\n",
       "    <tr>\n",
       "      <th>5</th>\n",
       "      <td>864</td>\n",
       "      <td>138</td>\n",
       "    </tr>\n",
       "    <tr>\n",
       "      <th>6</th>\n",
       "      <td>480</td>\n",
       "      <td>106</td>\n",
       "    </tr>\n",
       "    <tr>\n",
       "      <th>7</th>\n",
       "      <td>259</td>\n",
       "      <td>82</td>\n",
       "    </tr>\n",
       "    <tr>\n",
       "      <th>8</th>\n",
       "      <td>138</td>\n",
       "      <td>42</td>\n",
       "    </tr>\n",
       "    <tr>\n",
       "      <th>9</th>\n",
       "      <td>41</td>\n",
       "      <td>14</td>\n",
       "    </tr>\n",
       "  </tbody>\n",
       "</table>\n",
       "</div>"
      ],
      "text/plain": [
       "IsBadBuy       0    1\n",
       "VehicleAge           \n",
       "1             66    6\n",
       "2            665   45\n",
       "3           1103  110\n",
       "4           1149  124\n",
       "5            864  138\n",
       "6            480  106\n",
       "7            259   82\n",
       "8            138   42\n",
       "9             41   14"
      ]
     },
     "execution_count": 32,
     "metadata": {},
     "output_type": "execute_result"
    }
   ],
   "source": [
    "pclass_xt = pd.crosstab(df['VehicleAge'], df['IsBadBuy'])\n",
    "pclass_xt"
   ]
  },
  {
   "cell_type": "code",
   "execution_count": 33,
   "metadata": {
    "collapsed": false
   },
   "outputs": [
    {
     "data": {
      "text/html": [
       "<div>\n",
       "<table border=\"1\" class=\"dataframe\">\n",
       "  <thead>\n",
       "    <tr style=\"text-align: right;\">\n",
       "      <th>IsBadBuy</th>\n",
       "      <th>0</th>\n",
       "      <th>1</th>\n",
       "    </tr>\n",
       "    <tr>\n",
       "      <th>VehicleAge</th>\n",
       "      <th></th>\n",
       "      <th></th>\n",
       "    </tr>\n",
       "  </thead>\n",
       "  <tbody>\n",
       "    <tr>\n",
       "      <th>1</th>\n",
       "      <td>0.916667</td>\n",
       "      <td>0.083333</td>\n",
       "    </tr>\n",
       "    <tr>\n",
       "      <th>2</th>\n",
       "      <td>0.936620</td>\n",
       "      <td>0.063380</td>\n",
       "    </tr>\n",
       "    <tr>\n",
       "      <th>3</th>\n",
       "      <td>0.909316</td>\n",
       "      <td>0.090684</td>\n",
       "    </tr>\n",
       "    <tr>\n",
       "      <th>4</th>\n",
       "      <td>0.902592</td>\n",
       "      <td>0.097408</td>\n",
       "    </tr>\n",
       "    <tr>\n",
       "      <th>5</th>\n",
       "      <td>0.862275</td>\n",
       "      <td>0.137725</td>\n",
       "    </tr>\n",
       "    <tr>\n",
       "      <th>6</th>\n",
       "      <td>0.819113</td>\n",
       "      <td>0.180887</td>\n",
       "    </tr>\n",
       "    <tr>\n",
       "      <th>7</th>\n",
       "      <td>0.759531</td>\n",
       "      <td>0.240469</td>\n",
       "    </tr>\n",
       "    <tr>\n",
       "      <th>8</th>\n",
       "      <td>0.766667</td>\n",
       "      <td>0.233333</td>\n",
       "    </tr>\n",
       "    <tr>\n",
       "      <th>9</th>\n",
       "      <td>0.745455</td>\n",
       "      <td>0.254545</td>\n",
       "    </tr>\n",
       "  </tbody>\n",
       "</table>\n",
       "</div>"
      ],
      "text/plain": [
       "IsBadBuy           0         1\n",
       "VehicleAge                    \n",
       "1           0.916667  0.083333\n",
       "2           0.936620  0.063380\n",
       "3           0.909316  0.090684\n",
       "4           0.902592  0.097408\n",
       "5           0.862275  0.137725\n",
       "6           0.819113  0.180887\n",
       "7           0.759531  0.240469\n",
       "8           0.766667  0.233333\n",
       "9           0.745455  0.254545"
      ]
     },
     "execution_count": 33,
     "metadata": {},
     "output_type": "execute_result"
    }
   ],
   "source": [
    "pclass_xt_pct = pclass_xt.div(pclass_xt.sum(1).astype(float), axis=0)\n",
    "pclass_xt_pct"
   ]
  },
  {
   "cell_type": "code",
   "execution_count": 34,
   "metadata": {
    "collapsed": false
   },
   "outputs": [
    {
     "data": {
      "text/plain": [
       "<matplotlib.text.Text at 0x1216dfe90>"
      ]
     },
     "execution_count": 34,
     "metadata": {},
     "output_type": "execute_result"
    },
    {
     "data": {
      "image/png": "[encoded data removed]",
      "text/plain": [
       "<matplotlib.figure.Figure at 0x115ec7f90>"
      ]
     },
     "metadata": {},
     "output_type": "display_data"
    }
   ],
   "source": [
    "pclass_xt_pct.plot(kind='bar', stacked=True, title='Bad buy by age veh')\n",
    "plt.xlabel('Vehicle Year')\n",
    "plt.ylabel('IsBadBuy')"
   ]
  },
  {
   "cell_type": "code",
   "execution_count": 35,
   "metadata": {
    "collapsed": false
   },
   "outputs": [
    {
     "name": "stdout",
     "output_type": "stream",
     "text": [
      "{'VOLVO': 27, 'SATURN': 21, 'DODGE': 4, 'SCION': 22, 'ISUZU': 10, 'JEEP': 11, 'HONDA': 7, 'HYUNDAI': 8, 'MAZDA': 14, 'CHEVROLET': 2, 'SUZUKI': 24, 'VOLKSWAGEN': 26, 'MERCURY': 15, 'MINI': 16, 'LINCOLN': 13, 'CHRYSLER': 3, 'GMC': 6, 'CADILLAC': 1, 'FORD': 5, 'SUBARU': 23, 'INFINITI': 9, 'MITSUBISHI': 17, 'PONTIAC': 20, 'NISSAN': 18, 'TOYOTA': 25, 'OLDSMOBILE': 19, 'BUICK': 0, 'KIA': 12}\n"
     ]
    },
    {
     "data": {
      "text/plain": [
       "<matplotlib.axes._subplots.AxesSubplot at 0x12170ba50>"
      ]
     },
     "execution_count": 35,
     "metadata": {},
     "output_type": "execute_result"
    },
    {
     "data": {
      "image/png": "[encoded data removed]",
      "text/plain": [
       "<matplotlib.figure.Figure at 0x11a9d6d50>"
      ]
     },
     "metadata": {},
     "output_type": "display_data"
    }
   ],
   "source": [
    "makes = sorted(df['Make'].unique())\n",
    "make_mapping = dict(zip(makes, range(0, len(makes) + 1)))\n",
    "df['Make_Val'] = df['Make'].map(make_mapping).astype(int)\n",
    "\n",
    "print(make_mapping)\n",
    "\n",
    "make_val_xt = pd.crosstab(df['Make_Val'], df['IsBadBuy'])\n",
    "make_val_xt_pct = make_val_xt.div(make_val_xt.sum(1).astype(float), axis=0)\n",
    "make_val_xt_pct.plot(kind='bar', stacked=True, title='Make')"
   ]
  },
  {
   "cell_type": "code",
   "execution_count": 36,
   "metadata": {
    "collapsed": false
   },
   "outputs": [
    {
     "data": {
      "text/plain": [
       "<matplotlib.axes._subplots.AxesSubplot at 0x1216b4210>"
      ]
     },
     "execution_count": 36,
     "metadata": {},
     "output_type": "execute_result"
    },
    {
     "data": {
      "image/png": "[encoded data removed]",
      "text/plain": [
       "<matplotlib.figure.Figure at 0x12389e6d0>"
      ]
     },
     "metadata": {},
     "output_type": "display_data"
    }
   ],
   "source": [
    "df['Make_Val'].value_counts().plot(kind='bar', title='Make distribution')"
   ]
  },
  {
   "cell_type": "code",
   "execution_count": 37,
   "metadata": {
    "collapsed": false
   },
   "outputs": [
    {
     "name": "stdout",
     "output_type": "stream",
     "text": [
      "{'COMPACT': 0, 'LARGE SUV': 3, 'MEDIUM': 5, 'VAN': 11, 'SPECIALTY': 9, 'CROSSOVER': 1, 'LARGE': 2, 'MEDIUM SUV': 6, 'SMALL TRUCK': 8, 'SPORTS': 10, 'SMALL SUV': 7, 'LARGE TRUCK': 4}\n"
     ]
    },
    {
     "data": {
      "text/plain": [
       "<matplotlib.axes._subplots.AxesSubplot at 0x1257daa50>"
      ]
     },
     "execution_count": 37,
     "metadata": {},
     "output_type": "execute_result"
    },
    {
     "data": {
      "image/png": "[encoded data removed]",
      "text/plain": [
       "<matplotlib.figure.Figure at 0x11f82e950>"
      ]
     },
     "metadata": {},
     "output_type": "display_data"
    }
   ],
   "source": [
    "sizes = sorted(df['Size'].unique())\n",
    "size_mapping = dict(zip(sizes, range(0, len(sizes) + 1)))\n",
    "df['Size_Val'] = df['Size'].map(size_mapping).astype(int)\n",
    "\n",
    "print(size_mapping)\n",
    "\n",
    "size_val_xt = pd.crosstab(df['Size_Val'], df['IsBadBuy'])\n",
    "size_val_xt_pct = size_val_xt.div(size_val_xt.sum(1).astype(float), axis=0)\n",
    "size_val_xt_pct.plot(kind='bar', stacked=True, title='Size')"
   ]
  },
  {
   "cell_type": "code",
   "execution_count": 38,
   "metadata": {
    "collapsed": false
   },
   "outputs": [
    {
     "name": "stdout",
     "output_type": "stream",
     "text": [
      "{'OTHER': 2, 'MANHEIM': 1, 'ADESA': 0}\n"
     ]
    },
    {
     "data": {
      "text/plain": [
       "<matplotlib.axes._subplots.AxesSubplot at 0x125a5ee90>"
      ]
     },
     "execution_count": 38,
     "metadata": {},
     "output_type": "execute_result"
    },
    {
     "data": {
      "image/png": "[encoded data removed]",
      "text/plain": [
       "<matplotlib.figure.Figure at 0x1257e2650>"
      ]
     },
     "metadata": {},
     "output_type": "display_data"
    }
   ],
   "source": [
    "auctions = sorted(df['Auction'].unique())\n",
    "auction_mapping = dict(zip(auctions, range(0, len(auctions) + 1)))\n",
    "df['Auction_Val'] = df['Auction'].map(auction_mapping).astype(int)\n",
    "\n",
    "print(auction_mapping)\n",
    "\n",
    "size_val_xt = pd.crosstab(df['Auction_Val'], df['IsBadBuy'])\n",
    "size_val_xt_pct = size_val_xt.div(size_val_xt.sum(1).astype(float), axis=0)\n",
    "size_val_xt_pct.plot(kind='bar', stacked=True, title='Auction')"
   ]
  },
  {
   "cell_type": "code",
   "execution_count": 39,
   "metadata": {
    "collapsed": false
   },
   "outputs": [
    {
     "name": "stdout",
     "output_type": "stream",
     "text": [
      "{'AMERICAN': 0, 'OTHER': 1, 'OTHER ASIAN': 2, 'TOP LINE ASIAN': 3}\n"
     ]
    },
    {
     "data": {
      "text/plain": [
       "<matplotlib.axes._subplots.AxesSubplot at 0x125b5ca10>"
      ]
     },
     "execution_count": 39,
     "metadata": {},
     "output_type": "execute_result"
    },
    {
     "data": {
      "image/png": "[encoded data removed]",
      "text/plain": [
       "<matplotlib.figure.Figure at 0x1235cac10>"
      ]
     },
     "metadata": {},
     "output_type": "display_data"
    }
   ],
   "source": [
    "nationalities = sorted(df['Nationality'].unique())\n",
    "nationality_mapping = dict(zip(nationalities, range(0, len(nationalities) + 1)))\n",
    "df['Nationality_Val'] = df['Nationality'].map(nationality_mapping).astype(int)\n",
    "\n",
    "print(nationality_mapping)\n",
    "\n",
    "size_val_xt = pd.crosstab(df['Nationality_Val'], df['IsBadBuy'])\n",
    "size_val_xt_pct = size_val_xt.div(size_val_xt.sum(1).astype(float), axis=0)\n",
    "size_val_xt_pct.plot(kind='bar', stacked=True, title='Nationality')"
   ]
  },
  {
   "cell_type": "code",
   "execution_count": 40,
   "metadata": {
    "collapsed": false
   },
   "outputs": [
    {
     "name": "stdout",
     "output_type": "stream",
     "text": [
      "{'GM': 2, 'OTHER': 3, 'CHRYSLER': 0, 'FORD': 1}\n"
     ]
    },
    {
     "data": {
      "text/plain": [
       "<matplotlib.axes._subplots.AxesSubplot at 0x118fb1110>"
      ]
     },
     "execution_count": 40,
     "metadata": {},
     "output_type": "execute_result"
    },
    {
     "data": {
      "image/png": "[encoded data removed]",
      "text/plain": [
       "<matplotlib.figure.Figure at 0x125d11190>"
      ]
     },
     "metadata": {},
     "output_type": "display_data"
    }
   ],
   "source": [
    "topthree = sorted(df['TopThreeAmericanName'].unique())\n",
    "topthree_mapping = dict(zip(topthree, range(0, len(topthree) + 1)))\n",
    "df['TopThreeAmericanName_Val'] = df['TopThreeAmericanName'].map(topthree_mapping).astype(int)\n",
    "\n",
    "print(topthree_mapping)\n",
    "\n",
    "size_val_xt = pd.crosstab(df['Nationality_Val'], df['IsBadBuy'])\n",
    "size_val_xt_pct = size_val_xt.div(size_val_xt.sum(1).astype(float), axis=0)\n",
    "size_val_xt_pct.plot(kind='bar', stacked=True, title='Nationality')"
   ]
  },
  {
   "cell_type": "code",
   "execution_count": 41,
   "metadata": {
    "collapsed": false
   },
   "outputs": [
    {
     "name": "stdout",
     "output_type": "stream",
     "text": [
      "{nan: 0, 'Alloy': 1, 'Special': 3, 'Covers': 2}\n"
     ]
    },
    {
     "data": {
      "text/plain": [
       "<matplotlib.axes._subplots.AxesSubplot at 0x125815e90>"
      ]
     },
     "execution_count": 41,
     "metadata": {},
     "output_type": "execute_result"
    },
    {
     "data": {
      "image/png": "[encoded data removed]",
      "text/plain": [
       "<matplotlib.figure.Figure at 0x11b7304d0>"
      ]
     },
     "metadata": {},
     "output_type": "display_data"
    }
   ],
   "source": [
    "wheel = sorted(df['WheelType'].unique())\n",
    "wheel_mapping = dict(zip(wheel, range(0, len(wheel) + 1)))\n",
    "df['WheelType_Val'] = df['WheelType'].map(wheel_mapping).astype(int)\n",
    "\n",
    "print(wheel_mapping)\n",
    "\n",
    "size_val_xt = pd.crosstab(df['WheelType_Val'], df['IsBadBuy'])\n",
    "size_val_xt_pct = size_val_xt.div(size_val_xt.sum(1).astype(float), axis=0)\n",
    "size_val_xt_pct.plot(kind='bar', stacked=True, title='Wheel')"
   ]
  },
  {
   "cell_type": "code",
   "execution_count": 42,
   "metadata": {
    "collapsed": false
   },
   "outputs": [
    {
     "name": "stdout",
     "output_type": "stream",
     "text": [
      "{'AUTO': 0, 'MANUAL': 1}\n"
     ]
    },
    {
     "data": {
      "text/plain": [
       "<matplotlib.axes._subplots.AxesSubplot at 0x126863c10>"
      ]
     },
     "execution_count": 42,
     "metadata": {},
     "output_type": "execute_result"
    },
    {
     "data": {
      "image/png": "[encoded data removed]",
      "text/plain": [
       "<matplotlib.figure.Figure at 0x1268243d0>"
      ]
     },
     "metadata": {},
     "output_type": "display_data"
    }
   ],
   "source": [
    "transmissions = sorted(df['Transmission'].unique())\n",
    "transmission_mapping = dict(zip(transmissions, range(0, len(transmissions) + 1)))\n",
    "df['Transmission_Val'] = df['Transmission'].map(transmission_mapping).astype(int)\n",
    "\n",
    "print(transmission_mapping)\n",
    "\n",
    "size_val_xt = pd.crosstab(df['Transmission_Val'], df['IsBadBuy'])\n",
    "size_val_xt_pct = size_val_xt.div(size_val_xt.sum(1).astype(float), axis=0)\n",
    "size_val_xt_pct.plot(kind='bar', stacked=True, title='Transmission')"
   ]
  },
  {
   "cell_type": "code",
   "execution_count": 43,
   "metadata": {
    "collapsed": false
   },
   "outputs": [
    {
     "data": {
      "text/plain": [
       "<matplotlib.axes._subplots.AxesSubplot at 0x126f3a450>"
      ]
     },
     "execution_count": 43,
     "metadata": {},
     "output_type": "execute_result"
    },
    {
     "data": {
      "image/png": "[encoded data removed]",
      "text/plain": [
       "<matplotlib.figure.Figure at 0x125d7c190>"
      ]
     },
     "metadata": {},
     "output_type": "display_data"
    }
   ],
   "source": [
    "size_val_xt = pd.crosstab(df['IsOnlineSale'], df['IsBadBuy'])\n",
    "size_val_xt_pct = size_val_xt.div(size_val_xt.sum(1).astype(float), axis=0)\n",
    "size_val_xt_pct.plot(kind='bar', stacked=True, title='IsOnlineSale')"
   ]
  },
  {
   "cell_type": "code",
   "execution_count": 44,
   "metadata": {
    "collapsed": false,
    "scrolled": true
   },
   "outputs": [
    {
     "data": {
      "text/plain": [
       "<matplotlib.axes._subplots.AxesSubplot at 0x126ade0d0>"
      ]
     },
     "execution_count": 44,
     "metadata": {},
     "output_type": "execute_result"
    },
    {
     "data": {
      "image/png": "[encoded data removed]",
      "text/plain": [
       "<matplotlib.figure.Figure at 0x127096110>"
      ]
     },
     "metadata": {},
     "output_type": "display_data"
    }
   ],
   "source": [
    "df2 = df[df[\"VNST\"]==\"FL\"]\n",
    "\n",
    "size_val_xt = pd.crosstab(df2['VNZIP1'], df2['IsBadBuy'])\n",
    "size_val_xt_pct = size_val_xt.div(size_val_xt.sum(1).astype(float), axis=0)\n",
    "size_val_xt_pct.plot(kind='bar', stacked=True, title='Zip_Val')"
   ]
  },
  {
   "cell_type": "code",
   "execution_count": 4,
   "metadata": {
    "collapsed": false
   },
   "outputs": [
    {
     "data": {
      "text/html": [
       "<div>\n",
       "<table border=\"1\" class=\"dataframe\">\n",
       "  <thead>\n",
       "    <tr style=\"text-align: right;\">\n",
       "      <th>IsBadBuy</th>\n",
       "      <th>1</th>\n",
       "    </tr>\n",
       "    <tr>\n",
       "      <th>Make</th>\n",
       "      <th></th>\n",
       "    </tr>\n",
       "  </thead>\n",
       "  <tbody>\n",
       "    <tr>\n",
       "      <th>BUICK</th>\n",
       "      <td>14</td>\n",
       "    </tr>\n",
       "    <tr>\n",
       "      <th>CHEVROLET</th>\n",
       "      <td>138</td>\n",
       "    </tr>\n",
       "    <tr>\n",
       "      <th>CHRYSLER</th>\n",
       "      <td>78</td>\n",
       "    </tr>\n",
       "    <tr>\n",
       "      <th>DODGE</th>\n",
       "      <td>101</td>\n",
       "    </tr>\n",
       "    <tr>\n",
       "      <th>FORD</th>\n",
       "      <td>109</td>\n",
       "    </tr>\n",
       "    <tr>\n",
       "      <th>GMC</th>\n",
       "      <td>3</td>\n",
       "    </tr>\n",
       "    <tr>\n",
       "      <th>HONDA</th>\n",
       "      <td>3</td>\n",
       "    </tr>\n",
       "    <tr>\n",
       "      <th>HYUNDAI</th>\n",
       "      <td>23</td>\n",
       "    </tr>\n",
       "    <tr>\n",
       "      <th>INFINITI</th>\n",
       "      <td>1</td>\n",
       "    </tr>\n",
       "    <tr>\n",
       "      <th>ISUZU</th>\n",
       "      <td>1</td>\n",
       "    </tr>\n",
       "    <tr>\n",
       "      <th>JEEP</th>\n",
       "      <td>13</td>\n",
       "    </tr>\n",
       "    <tr>\n",
       "      <th>KIA</th>\n",
       "      <td>16</td>\n",
       "    </tr>\n",
       "    <tr>\n",
       "      <th>LINCOLN</th>\n",
       "      <td>1</td>\n",
       "    </tr>\n",
       "    <tr>\n",
       "      <th>MAZDA</th>\n",
       "      <td>11</td>\n",
       "    </tr>\n",
       "    <tr>\n",
       "      <th>MERCURY</th>\n",
       "      <td>8</td>\n",
       "    </tr>\n",
       "    <tr>\n",
       "      <th>MITSUBISHI</th>\n",
       "      <td>7</td>\n",
       "    </tr>\n",
       "    <tr>\n",
       "      <th>NISSAN</th>\n",
       "      <td>35</td>\n",
       "    </tr>\n",
       "    <tr>\n",
       "      <th>OLDSMOBILE</th>\n",
       "      <td>2</td>\n",
       "    </tr>\n",
       "    <tr>\n",
       "      <th>PONTIAC</th>\n",
       "      <td>56</td>\n",
       "    </tr>\n",
       "    <tr>\n",
       "      <th>SATURN</th>\n",
       "      <td>24</td>\n",
       "    </tr>\n",
       "    <tr>\n",
       "      <th>SUZUKI</th>\n",
       "      <td>15</td>\n",
       "    </tr>\n",
       "    <tr>\n",
       "      <th>TOYOTA</th>\n",
       "      <td>6</td>\n",
       "    </tr>\n",
       "    <tr>\n",
       "      <th>VOLKSWAGEN</th>\n",
       "      <td>2</td>\n",
       "    </tr>\n",
       "  </tbody>\n",
       "</table>\n",
       "</div>"
      ],
      "text/plain": [
       "IsBadBuy      1\n",
       "Make           \n",
       "BUICK        14\n",
       "CHEVROLET   138\n",
       "CHRYSLER     78\n",
       "DODGE       101\n",
       "FORD        109\n",
       "GMC           3\n",
       "HONDA         3\n",
       "HYUNDAI      23\n",
       "INFINITI      1\n",
       "ISUZU         1\n",
       "JEEP         13\n",
       "KIA          16\n",
       "LINCOLN       1\n",
       "MAZDA        11\n",
       "MERCURY       8\n",
       "MITSUBISHI    7\n",
       "NISSAN       35\n",
       "OLDSMOBILE    2\n",
       "PONTIAC      56\n",
       "SATURN       24\n",
       "SUZUKI       15\n",
       "TOYOTA        6\n",
       "VOLKSWAGEN    2"
      ]
     },
     "execution_count": 4,
     "metadata": {},
     "output_type": "execute_result"
    }
   ],
   "source": [
    "df2 = df[df[\"IsBadBuy\"]==1]\n",
    "pclass_xt = pd.crosstab(df2['Make'], df2['IsBadBuy'])\n",
    "pclass_xt"
   ]
  },
  {
   "cell_type": "code",
   "execution_count": null,
   "metadata": {
    "collapsed": true
   },
   "outputs": [],
   "source": []
  }
 ],
 "metadata": {
  "anaconda-cloud": {},
  "kernelspec": {
   "display_name": "Python [conda root]",
   "language": "python",
   "name": "conda-root-py"
  },
  "language_info": {
   "codemirror_mode": {
    "name": "ipython",
    "version": 2
   },
   "file_extension": ".py",
   "mimetype": "text/x-python",
   "name": "python",
   "nbconvert_exporter": "python",
   "pygments_lexer": "ipython2",
   "version": "2.7.12"
  }
 },
 "nbformat": 4,
 "nbformat_minor": 1
}
