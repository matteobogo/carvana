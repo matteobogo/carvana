{
 "cells": [
  {
   "cell_type": "code",
   "execution_count": 30,
   "metadata": {
    "collapsed": false
   },
   "outputs": [],
   "source": [
    "%matplotlib inline\n",
    "import math\n",
    "import random\n",
    "import numpy as np\n",
    "import pandas as pd\n",
    "import scipy.stats as stats\n",
    "import matplotlib.pyplot as plt\n",
    "from collections import defaultdict\n",
    "from scipy.stats.stats import pearsonr\n",
    "\n",
    "from sklearn import tree\n",
    "from sklearn import metrics\n",
    "from sklearn.tree import export_graphviz\n",
    "from sklearn.ensemble import RandomForestClassifier, ExtraTreesClassifier\n",
    "from sklearn.metrics import confusion_matrix\n",
    "from sklearn.cross_validation import train_test_split\n",
    "from sklearn import cross_validation\n",
    "from sklearn.cross_validation import cross_val_score\n",
    "from sklearn import neighbors\n",
    "from sklearn import linear_model\n",
    "from sklearn.naive_bayes import GaussianNB\n",
    "from sklearn import svm"
   ]
  },
  {
   "cell_type": "code",
   "execution_count": null,
   "metadata": {
    "collapsed": false
   },
   "outputs": [],
   "source": [
    " "
   ]
  },
  {
   "cell_type": "code",
   "execution_count": 31,
   "metadata": {
    "collapsed": false
   },
   "outputs": [],
   "source": [
    "def clean_data(df):\n",
    "    df.replace({'Trim' : { np.nan : 'NS'}}, inplace=True)\n",
    "    df.replace({'SubModel' : { np.nan : 'NS'}}, inplace=True)\n",
    "    df.replace({'Color' : { np.nan : 'NS'}}, inplace=True)\n",
    "    df.replace({'Transmission' : { np.nan : 'NS'}}, inplace=True)\n",
    "    df.replace({'WheelTypeID' : { np.nan : 'NS'}}, inplace=True)\n",
    "    df.replace({'WheelType' : { np.nan : 'NS'}}, inplace=True)\n",
    "    df.replace({'Nationality' : { np.nan : 'NS'}}, inplace=True)\n",
    "    df.replace({'Size' : { np.nan : 'NS'}}, inplace=True)\n",
    "    df.replace({'TopThreeAmericanName' : { np.nan : 'NS'}}, inplace=True)\n",
    "    df.replace({'MMRAcquisitionAuctionAveragePrice' : { np.nan : 'NS'}}, inplace=True)\n",
    "    df.replace({'MMRAcquisitionAuctionCleanPrice' : { np.nan : 'NS'}}, inplace=True)\n",
    "    df.replace({'MMRAcquisitionRetailAveragePrice' : { np.nan : 'NS'}}, inplace=True)\n",
    "    df.replace({'MMRAcquisitonRetailCleanPrice' : { np.nan : 'NS'}}, inplace=True)\n",
    "    df.replace({'MMRCurrentAuctionAveragePrice' : { np.nan : 'NS'}}, inplace=True)\n",
    "    df.replace({'MMRCurrentAuctionCleanPrice' : { np.nan : 'NS'}}, inplace=True)\n",
    "    df.replace({'MMRCurrentRetailAveragePrice' : { np.nan : 'NS'}}, inplace=True)\n",
    "    df.replace({'MMRCurrentRetailCleanPrice' : { np.nan : 'NS'}}, inplace=True)\n",
    "    df.replace({'PRIMEUNIT' : { np.nan : 'NS'}}, inplace=True)\n",
    "    df.replace({'AUCGUART' : { np.nan : 'NS'}}, inplace=True)\n",
    "\n",
    "    df['Transmission'] = df['Transmission'].str.upper()\n",
    "\n",
    "    df = df.drop('PurchDate', axis=1)\n",
    "    df = df.drop('VehYear',axis=1)\n",
    "    df = df.drop('WheelTypeID', axis=1)\n",
    "    df = df.drop('TopThreeAmericanName', axis=1)\n",
    "    df = df.drop('BYRNO', axis=1)\n",
    "\n",
    "    auctions = sorted(df['Auction'].unique())\n",
    "    vehicleAges = sorted(df['VehicleAge'].unique())\n",
    "    makes = sorted(df['Make'].unique())\n",
    "    models = sorted(df['Model'].unique())\n",
    "    trims = sorted(df['Trim'].unique())\n",
    "    subModels = sorted(df['SubModel'].unique())\n",
    "    colors = sorted(df['Color'].unique())\n",
    "    transmissions = sorted(df['Transmission'].unique())\n",
    "    wheeltypes = sorted(df['WheelType'].unique())\n",
    "    vehOdos = sorted(df['VehOdo'].unique())\n",
    "    nationalities = sorted(df['Nationality'].unique())\n",
    "    sizes = sorted(df['Size'].unique())\n",
    "    demands = sorted(df['PRIMEUNIT'].unique())\n",
    "    guarantees = sorted(df['AUCGUART'].unique())\n",
    "    zipcodes = sorted(df['VNZIP1'].unique())    #VNZIP1\n",
    "    states = sorted(df['VNST'].unique())        #VNST\n",
    "    vehcosts = sorted(df['VehBCost'].unique())\n",
    "    onlinesales = sorted(df['IsOnlineSale'].unique())\n",
    "    warranties = sorted(df['WarrantyCost'].unique())\n",
    "    \n",
    "    auctionsDictionary = dict(zip(auctions,range(0, len(auctions)+1)))\n",
    "    makesDictionary = dict(zip(makes,range(0, len(makes)+1)))\n",
    "    modelsDictionary = dict(zip(models,range(0, len(models)+1)))\n",
    "    trimsDictionary = dict(zip(trims,range(0, len(trims)+1)))\n",
    "    subModelsDictionary = dict(zip(subModels,range(0, len(subModels)+1)))\n",
    "    colorsDictionary = dict(zip(colors,range(0, len(colors)+1)))\n",
    "    transmissionsDictionary = dict(zip(transmissions,range(0, len(transmissions)+1)))\n",
    "    wheeltypesDictionary = dict(zip(wheeltypes,range(0, len(wheeltypes)+1)))\n",
    "    nationalitiesDictionary = dict(zip(nationalities,range(0, len(nationalities)+1)))\n",
    "    sizesDictionary = dict(zip(sizes,range(0, len(sizes)+1)))\n",
    "    demandsDictionary = dict(zip(demands,range(0, len(demands)+1)))\n",
    "    guaranteesDictionary = dict(zip(guarantees,range(0, len(guarantees)+1)))\n",
    "    vehcostsDictionary = dict(zip(vehcosts,range(0, len(vehcosts)+1)))  #not object but mapped as dictionary\n",
    "    zipcodesDictionary = dict(zip(zipcodes,range(0, len(zipcodes)+1)))  #not object but mapped as dictionary\n",
    "    statesDictionary = dict(zip(states,range(0, len(states)+1)))\n",
    "    warrantiesDictionary = dict(zip(warranties,range(0, len(warranties)+1)))\n",
    "    \n",
    "    df['AuctionVal'] = df['Auction'].map(auctionsDictionary)\n",
    "    df['MakeVal'] = df['Make'].map(makesDictionary)\n",
    "    df['ModelVal'] = df['Model'].map(modelsDictionary)\n",
    "    df['TrimVal'] = df['Trim'].map(trimsDictionary)\n",
    "    df['SubModelVal'] = df['SubModel'].map(subModelsDictionary)\n",
    "    df['ColorVal'] = df['Color'].map(colorsDictionary)\n",
    "    df['TransmissionVal'] = df['Transmission'].map(transmissionsDictionary)\n",
    "    df['WheelTypeVal'] = df['WheelType'].map(wheeltypesDictionary)\n",
    "    df['NationalityVal'] = df['Nationality'].map(nationalitiesDictionary)\n",
    "    df['SizeVal'] = df['Size'].map(sizesDictionary)\n",
    "    df['PRIMEUNITVal'] = df['PRIMEUNIT'].map(demandsDictionary)\n",
    "    df['AUCGUARTVal'] = df['AUCGUART'].map(guaranteesDictionary)\n",
    "    df['VehBCostVal'] = df['VehBCost'].map(vehcostsDictionary)\n",
    "    df['VNZIP1Val'] = df['VNZIP1'].map(zipcodesDictionary)\n",
    "    df['VNSTVal'] = df['VNST'].map(statesDictionary)\n",
    "    df['WarrantyCostVal'] = df['WarrantyCost'].map(warrantiesDictionary)\n",
    "\n",
    "    dfFeatureSelection = df.drop(['RefId','MMRAcquisitionAuctionAveragePrice','MMRAcquisitionAuctionCleanPrice','MMRAcquisitionRetailAveragePrice',\n",
    "                                 'MMRAcquisitonRetailCleanPrice','MMRCurrentAuctionAveragePrice','MMRCurrentAuctionCleanPrice','MMRCurrentRetailAveragePrice',\n",
    "                                 'MMRCurrentRetailCleanPrice'], axis=1)\n",
    "\n",
    "    dfFeatureSelection = dfFeatureSelection.drop(['Auction','Make','Model','Trim','SubModel','Color','Transmission','WheelType','Nationality','Size',\n",
    "                                  'PRIMEUNIT','AUCGUART','VehBCost','VNZIP1','VNST','WarrantyCost'], axis=1)\n",
    "\n",
    "    nAttributesRanking = len(dfFeatureSelection.columns)\n",
    "    \n",
    "    return df"
   ]
  },
  {
   "cell_type": "code",
   "execution_count": 32,
   "metadata": {
    "collapsed": false
   },
   "outputs": [
    {
     "name": "stderr",
     "output_type": "stream",
     "text": [
      "/Users/Italo/anaconda/lib/python2.7/site-packages/ipykernel/__main__.py:13: SettingWithCopyWarning: \n",
      "A value is trying to be set on a copy of a slice from a DataFrame\n",
      "\n",
      "See the caveats in the documentation: http://pandas.pydata.org/pandas-docs/stable/indexing.html#indexing-view-versus-copy\n"
     ]
    }
   ],
   "source": [
    "df = pd.read_csv(\"training.csv\") \n",
    "df2 = pd.read_csv(\"test.csv\")\n",
    "\n",
    "test_id = df2['RefId']\n",
    "\n",
    "df = clean_data(df)\n",
    "df2 = clean_data(df2)\n",
    "\n",
    "# Divide the array in two\n",
    "#df_goodbuy = df[df['IsBadBuy'].map(lambda x: x == 0)]\n",
    "#df_badbuy = df[df['IsBadBuy'].map(lambda x: x == 1)]\n",
    "\n",
    "#df_goodbuy.drop(df_goodbuy.index[[1,3]], inplace=True)\n",
    "#df_goodbuy = df_goodbuy.sample(frac=1)\n",
    "#df_goodbuy = df_goodbuy[:][:len(df_badbuy)]\n",
    "\n",
    "#frames = [df_goodbuy, df_badbuy]\n",
    "#df = pd.concat(frames)"
   ]
  },
  {
   "cell_type": "code",
   "execution_count": 33,
   "metadata": {
    "collapsed": false
   },
   "outputs": [],
   "source": [
    "df_train = pd.concat([\n",
    "    df['IsBadBuy'],\n",
    "    df['VehicleAge'],\n",
    "    df['VehOdo'],\n",
    "    #df['IsOnlineSale'],\n",
    "    df['AuctionVal'],\n",
    "    df['MakeVal'],\n",
    "    #df['ModelVal'],\n",
    "    #df['TrimVal'],\n",
    "    #df['SubModelVal'],\n",
    "    #df['ColorVal'],\n",
    "    #df['TransmissionVal'],\n",
    "    df['WheelTypeVal'],\n",
    "    df['NationalityVal'],\n",
    "    #df['SizeVal'],\n",
    "    #df['PRIMEUNITVal'],\n",
    "    #df['AUCGUARTVal'],\n",
    "    df['VehBCostVal'],\n",
    "    #df['VNZIP1Val'],\n",
    "    df['VNSTVal'],\n",
    "    df['WarrantyCostVal']\n",
    "    ],\n",
    "    axis=1)\n",
    "\n",
    "df_test = pd.concat([\n",
    "    df2['VehicleAge'],\n",
    "    df2['VehOdo'],\n",
    "    #df2['IsOnlineSale'],\n",
    "    df2['AuctionVal'],\n",
    "    df2['MakeVal'],\n",
    "    #df2['ModelVal'],\n",
    "    #df2['TrimVal'],\n",
    "    #df2['SubModelVal'],\n",
    "    #df2['ColorVal'],\n",
    "    #df2['TransmissionVal'],\n",
    "    df2['WheelTypeVal'],\n",
    "    df2['NationalityVal'],\n",
    "    #df2['SizeVal'],\n",
    "    #df2['PRIMEUNITVal'],\n",
    "    #df2['AUCGUARTVal'],\n",
    "    df2['VehBCostVal'],\n",
    "    #df2['VNZIP1Val'],\n",
    "    df2['VNSTVal'],\n",
    "    df2['WarrantyCostVal']\n",
    "    ],\n",
    "    axis=1)"
   ]
  },
  {
   "cell_type": "code",
   "execution_count": 34,
   "metadata": {
    "collapsed": false
   },
   "outputs": [],
   "source": [
    "#Convert the DataFrame to a numpy array:\n",
    "train_data = df_train.values"
   ]
  },
  {
   "cell_type": "code",
   "execution_count": 35,
   "metadata": {
    "collapsed": true
   },
   "outputs": [],
   "source": [
    "# Training data features, skip the first column 'Survived'\n",
    "train_features = train_data[:, 1:]\n",
    "\n",
    "# 'Survived' column values\n",
    "train_target = train_data[:, 0]\n",
    "\n",
    "test_features = df_test.values"
   ]
  },
  {
   "cell_type": "code",
   "execution_count": 36,
   "metadata": {
    "collapsed": false
   },
   "outputs": [
    {
     "data": {
      "text/plain": [
       "array([    3, 53973,     1,     4,     1,     0,   808,     5,    67])"
      ]
     },
     "execution_count": 36,
     "metadata": {},
     "output_type": "execute_result"
    }
   ],
   "source": [
    "train_features[0]"
   ]
  },
  {
   "cell_type": "code",
   "execution_count": 37,
   "metadata": {
    "collapsed": false
   },
   "outputs": [
    {
     "data": {
      "text/plain": [
       "0"
      ]
     },
     "execution_count": 37,
     "metadata": {},
     "output_type": "execute_result"
    }
   ],
   "source": [
    "train_target[1]"
   ]
  },
  {
   "cell_type": "code",
   "execution_count": 38,
   "metadata": {
    "collapsed": false
   },
   "outputs": [],
   "source": [
    "# Fit the model to our training data\n",
    "clf = tree.DecisionTreeClassifier(criterion='gini', splitter='best', max_depth=None, \n",
    "                                  min_samples_split=2, min_samples_leaf=2)\n",
    "clf = clf.fit(train_features, train_target)"
   ]
  },
  {
   "cell_type": "code",
   "execution_count": 39,
   "metadata": {
    "collapsed": false
   },
   "outputs": [
    {
     "data": {
      "text/plain": [
       "array([ 0.0870657 ,  0.23553514,  0.02891212,  0.05981487,  0.15886905,\n",
       "        0.00509981,  0.22535592,  0.0998303 ,  0.0995171 ])"
      ]
     },
     "execution_count": 39,
     "metadata": {},
     "output_type": "execute_result"
    }
   ],
   "source": [
    "clf.feature_importances_"
   ]
  },
  {
   "cell_type": "code",
   "execution_count": 40,
   "metadata": {
    "collapsed": false
   },
   "outputs": [
    {
     "name": "stdout",
     "output_type": "stream",
     "text": [
      "0.934252561647\n",
      "0.930759803922\n",
      "0.930620296111\n",
      "0.930759803922\n",
      "(array([ 0.89530723,  0.97319789]), array([ 0.9756016,  0.885918 ]), array([ 0.93373141,  0.92750919]), array([8976, 8976]))\n"
     ]
    }
   ],
   "source": [
    "pred_target = clf.predict(train_features)\n",
    "\n",
    "print metrics.precision_score(train_target, pred_target, average='weighted')\n",
    "print metrics.recall_score(train_target, pred_target, average='weighted')\n",
    "print metrics.f1_score(train_target, pred_target, average='weighted')\n",
    "print metrics.accuracy_score(train_target, pred_target)\n",
    "print metrics.precision_recall_fscore_support(train_target, pred_target)"
   ]
  },
  {
   "cell_type": "code",
   "execution_count": 41,
   "metadata": {
    "collapsed": false
   },
   "outputs": [
    {
     "data": {
      "text/plain": [
       "17952"
      ]
     },
     "execution_count": 41,
     "metadata": {},
     "output_type": "execute_result"
    }
   ],
   "source": [
    "len(train_data)"
   ]
  },
  {
   "cell_type": "code",
   "execution_count": 42,
   "metadata": {
    "collapsed": false
   },
   "outputs": [],
   "source": [
    "clf = tree.DecisionTreeClassifier(criterion='gini', splitter='best', max_depth=7, \n",
    "                                  min_samples_split=2, min_samples_leaf=10) #, class_weight='balanced')\n",
    "\n",
    "clf = tree.DecisionTreeClassifier(class_weight=None, criterion='gini', max_depth=6,\n",
    "            max_features='auto', max_leaf_nodes=None,\n",
    "            min_impurity_split=1e-07, min_samples_leaf=1,\n",
    "            min_samples_split=2, min_weight_fraction_leaf=0.0,\n",
    "            presort=False, random_state=288500278, splitter='best')\n",
    "\n",
    "clf = RandomForestClassifier(n_estimators=30, \n",
    "                             criterion='gini',\n",
    "                             max_features=None,\n",
    "                             max_depth=None, \n",
    "                             min_samples_split=2,\n",
    "                             min_samples_leaf=5,\n",
    "                             bootstrap=True,\n",
    "                             oob_score=False,\n",
    "                             random_state=None,\n",
    "                             class_weight=None) #balanced\n",
    "\n",
    "clf = tree.DecisionTreeClassifier(criterion='gini', splitter='best', max_depth=4, \n",
    "                                  #min_samples_split=2, min_samples_leaf=10, \n",
    "                                  class_weight=None # 'balanced'\n",
    "                                 )\n",
    "\n",
    "clf = RandomForestClassifier(bootstrap=True, class_weight=None, criterion='gini',\n",
    "            max_depth=4, max_features='auto', max_leaf_nodes=None,\n",
    "            min_impurity_split=1e-07, min_samples_leaf=1,\n",
    "            min_samples_split=2, min_weight_fraction_leaf=0.0,\n",
    "            n_estimators=20, n_jobs=1, oob_score=False, random_state=None,\n",
    "            verbose=0, warm_start=False)\n",
    "\n",
    "\n",
    "\n",
    "clf=clf.fit(train_features, train_target)"
   ]
  },
  {
   "cell_type": "code",
   "execution_count": 43,
   "metadata": {
    "collapsed": false
   },
   "outputs": [],
   "source": [
    "train_pred = clf.predict(train_features)\n",
    "test_pred = clf.predict(test_features)\n",
    "\n",
    "test = np.arange(73015, 121722, dtype=np.int)\n",
    "tmp = pd.concat([\n",
    "    pd.DataFrame(test_id),\n",
    "    pd.DataFrame(test_pred)\n",
    "    ],\n",
    "    axis=1)\n",
    "\n",
    "tmp.to_csv(\"foo.csv\", sep=\",\", index=False)"
   ]
  },
  {
   "cell_type": "code",
   "execution_count": null,
   "metadata": {
    "collapsed": true
   },
   "outputs": [],
   "source": []
  },
  {
   "cell_type": "code",
   "execution_count": null,
   "metadata": {
    "collapsed": false
   },
   "outputs": [],
   "source": []
  },
  {
   "cell_type": "code",
   "execution_count": null,
   "metadata": {
    "collapsed": false
   },
   "outputs": [],
   "source": []
  },
  {
   "cell_type": "code",
   "execution_count": null,
   "metadata": {
    "collapsed": false
   },
   "outputs": [],
   "source": []
  },
  {
   "cell_type": "code",
   "execution_count": null,
   "metadata": {
    "collapsed": true
   },
   "outputs": [],
   "source": []
  }
 ],
 "metadata": {
  "anaconda-cloud": {},
  "kernelspec": {
   "display_name": "Python [default]",
   "language": "python",
   "name": "python2"
  },
  "language_info": {
   "codemirror_mode": {
    "name": "ipython",
    "version": 2
   },
   "file_extension": ".py",
   "mimetype": "text/x-python",
   "name": "python",
   "nbconvert_exporter": "python",
   "pygments_lexer": "ipython2",
   "version": "2.7.12"
  }
 },
 "nbformat": 4,
 "nbformat_minor": 0
}
