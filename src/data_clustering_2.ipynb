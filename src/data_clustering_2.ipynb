{
 "cells": [
  {
   "cell_type": "code",
   "execution_count": 82,
   "metadata": {
    "collapsed": true
   },
   "outputs": [],
   "source": [
    "%matplotlib inline\n",
    "import math\n",
    "import numpy as np\n",
    "import pandas as pd\n",
    "import scipy.stats as stats\n",
    "import matplotlib.pyplot as plt\n",
    "from collections import defaultdict\n",
    "from scipy.stats.stats import pearsonr"
   ]
  },
  {
   "cell_type": "code",
   "execution_count": 83,
   "metadata": {
    "collapsed": true
   },
   "outputs": [],
   "source": [
    "df = pd.read_csv(\"training.csv\")"
   ]
  },
  {
   "cell_type": "code",
   "execution_count": 84,
   "metadata": {
    "collapsed": true
   },
   "outputs": [],
   "source": [
    "ages = sorted(df['VehicleAge'].unique())\n",
    "ages_mapping = dict(zip(ages, range(0, len(ages) + 1)))\n",
    "df['VehicleAge_Val'] = df['VehicleAge'].map(ages_mapping).astype(int)"
   ]
  },
  {
   "cell_type": "code",
   "execution_count": 85,
   "metadata": {
    "collapsed": true
   },
   "outputs": [],
   "source": [
    "aucguarts = sorted(df['AUCGUART'].unique())\n",
    "aucguart_mapping = dict(zip(aucguarts, range(0, len(aucguarts) + 1)))\n",
    "df['AUCGUART_Val'] = df['AUCGUART'].map(aucguart_mapping).astype(int)"
   ]
  },
  {
   "cell_type": "code",
   "execution_count": 86,
   "metadata": {
    "collapsed": false
   },
   "outputs": [
    {
     "data": {
      "text/plain": [
       "{nan: 0, 'GREEN': 1, 'RED': 2}"
      ]
     },
     "execution_count": 86,
     "metadata": {},
     "output_type": "execute_result"
    }
   ],
   "source": [
    "#Assume nan to be 'YELLOW'\n",
    "aucguart_mapping"
   ]
  },
  {
   "cell_type": "code",
   "execution_count": 87,
   "metadata": {
    "collapsed": false
   },
   "outputs": [],
   "source": [
    "df.replace({'VNZIP1' : { np.nan : 48796}}, inplace=True)\n",
    "df.replace({'VehBCost' : { np.nan : 6802}}, inplace=True)\n",
    "df.replace({'WarrantyCost' : { np.nan : 1297}}, inplace=True)"
   ]
  },
  {
   "cell_type": "code",
   "execution_count": 88,
   "metadata": {
    "collapsed": false
   },
   "outputs": [
    {
     "data": {
      "text/plain": [
       "PurchDate               object\n",
       "Auction                 object\n",
       "Make                    object\n",
       "Model                   object\n",
       "Trim                    object\n",
       "SubModel                object\n",
       "Color                   object\n",
       "Transmission            object\n",
       "WheelType               object\n",
       "Nationality             object\n",
       "Size                    object\n",
       "TopThreeAmericanName    object\n",
       "PRIMEUNIT               object\n",
       "AUCGUART                object\n",
       "VNST                    object\n",
       "dtype: object"
      ]
     },
     "execution_count": 88,
     "metadata": {},
     "output_type": "execute_result"
    }
   ],
   "source": [
    "df.dtypes[df.dtypes.map(lambda x: x == 'object')]"
   ]
  },
  {
   "cell_type": "code",
   "execution_count": 89,
   "metadata": {
    "collapsed": false
   },
   "outputs": [
    {
     "data": {
      "text/plain": [
       "IsBadBuy            int64\n",
       "VehicleAge          int64\n",
       "VehOdo              int64\n",
       "VNZIP1            float64\n",
       "VehBCost          float64\n",
       "WarrantyCost      float64\n",
       "VehicleAge_Val      int64\n",
       "AUCGUART_Val        int64\n",
       "dtype: object"
      ]
     },
     "execution_count": 89,
     "metadata": {},
     "output_type": "execute_result"
    }
   ],
   "source": [
    "df_train = df.drop(['PurchDate','Auction','Make','Model','Trim','SubModel','Color','Transmission','WheelType','Nationality','Size','TopThreeAmericanName','PRIMEUNIT','AUCGUART','VNST'], axis=1)\n",
    "df_train = df_train.drop(['RefId','VehYear','WheelTypeID','MMRAcquisitionAuctionAveragePrice','MMRAcquisitionAuctionCleanPrice','MMRAcquisitionRetailAveragePrice','MMRAcquisitonRetailCleanPrice','MMRCurrentAuctionAveragePrice','MMRCurrentAuctionCleanPrice','MMRCurrentRetailAveragePrice','MMRCurrentRetailCleanPrice','BYRNO','IsOnlineSale'], axis=1)\n",
    "df_train.dtypes"
   ]
  },
  {
   "cell_type": "code",
   "execution_count": 90,
   "metadata": {
    "collapsed": true
   },
   "outputs": [],
   "source": [
    "from sklearn import preprocessing"
   ]
  },
  {
   "cell_type": "code",
   "execution_count": 91,
   "metadata": {
    "collapsed": false
   },
   "outputs": [
    {
     "data": {
      "text/html": [
       "<div>\n",
       "<table border=\"1\" class=\"dataframe\">\n",
       "  <thead>\n",
       "    <tr style=\"text-align: right;\">\n",
       "      <th></th>\n",
       "      <th>IsBadBuy</th>\n",
       "      <th>VehicleAge</th>\n",
       "      <th>VehOdo</th>\n",
       "      <th>VNZIP1</th>\n",
       "      <th>VehBCost</th>\n",
       "      <th>WarrantyCost</th>\n",
       "      <th>VehicleAge_Val</th>\n",
       "      <th>AUCGUART_Val</th>\n",
       "    </tr>\n",
       "  </thead>\n",
       "  <tbody>\n",
       "    <tr>\n",
       "      <th>0</th>\n",
       "      <td>0</td>\n",
       "      <td>3</td>\n",
       "      <td>89046</td>\n",
       "      <td>33619.0</td>\n",
       "      <td>7100.0</td>\n",
       "      <td>1113.0</td>\n",
       "      <td>2</td>\n",
       "      <td>0</td>\n",
       "    </tr>\n",
       "    <tr>\n",
       "      <th>1</th>\n",
       "      <td>0</td>\n",
       "      <td>5</td>\n",
       "      <td>93593</td>\n",
       "      <td>33619.0</td>\n",
       "      <td>7600.0</td>\n",
       "      <td>1053.0</td>\n",
       "      <td>4</td>\n",
       "      <td>0</td>\n",
       "    </tr>\n",
       "    <tr>\n",
       "      <th>2</th>\n",
       "      <td>0</td>\n",
       "      <td>4</td>\n",
       "      <td>73807</td>\n",
       "      <td>33619.0</td>\n",
       "      <td>4900.0</td>\n",
       "      <td>1389.0</td>\n",
       "      <td>3</td>\n",
       "      <td>0</td>\n",
       "    </tr>\n",
       "    <tr>\n",
       "      <th>3</th>\n",
       "      <td>0</td>\n",
       "      <td>5</td>\n",
       "      <td>65617</td>\n",
       "      <td>33619.0</td>\n",
       "      <td>4100.0</td>\n",
       "      <td>630.0</td>\n",
       "      <td>4</td>\n",
       "      <td>0</td>\n",
       "    </tr>\n",
       "    <tr>\n",
       "      <th>4</th>\n",
       "      <td>0</td>\n",
       "      <td>4</td>\n",
       "      <td>69367</td>\n",
       "      <td>33619.0</td>\n",
       "      <td>4000.0</td>\n",
       "      <td>1020.0</td>\n",
       "      <td>3</td>\n",
       "      <td>0</td>\n",
       "    </tr>\n",
       "  </tbody>\n",
       "</table>\n",
       "</div>"
      ],
      "text/plain": [
       "   IsBadBuy  VehicleAge  VehOdo   VNZIP1  VehBCost  WarrantyCost  \\\n",
       "0         0           3   89046  33619.0    7100.0        1113.0   \n",
       "1         0           5   93593  33619.0    7600.0        1053.0   \n",
       "2         0           4   73807  33619.0    4900.0        1389.0   \n",
       "3         0           5   65617  33619.0    4100.0         630.0   \n",
       "4         0           4   69367  33619.0    4000.0        1020.0   \n",
       "\n",
       "   VehicleAge_Val  AUCGUART_Val  \n",
       "0               2             0  \n",
       "1               4             0  \n",
       "2               3             0  \n",
       "3               4             0  \n",
       "4               3             0  "
      ]
     },
     "execution_count": 91,
     "metadata": {},
     "output_type": "execute_result"
    }
   ],
   "source": [
    "df_train.head()"
   ]
  },
  {
   "cell_type": "code",
   "execution_count": 92,
   "metadata": {
    "collapsed": false
   },
   "outputs": [
    {
     "name": "stderr",
     "output_type": "stream",
     "text": [
      "/Users/Italo/anaconda/lib/python2.7/site-packages/sklearn/preprocessing/data.py:321: DeprecationWarning: Passing 1d arrays as data is deprecated in 0.17 and will raise ValueError in 0.19. Reshape your data either using X.reshape(-1, 1) if your data has a single feature or X.reshape(1, -1) if it contains a single sample.\n",
      "  warnings.warn(DEPRECATION_MSG_1D, DeprecationWarning)\n",
      "/Users/Italo/anaconda/lib/python2.7/site-packages/sklearn/preprocessing/data.py:356: DeprecationWarning: Passing 1d arrays as data is deprecated in 0.17 and will raise ValueError in 0.19. Reshape your data either using X.reshape(-1, 1) if your data has a single feature or X.reshape(1, -1) if it contains a single sample.\n",
      "  warnings.warn(DEPRECATION_MSG_1D, DeprecationWarning)\n",
      "/Users/Italo/anaconda/lib/python2.7/site-packages/sklearn/preprocessing/data.py:321: DeprecationWarning: Passing 1d arrays as data is deprecated in 0.17 and will raise ValueError in 0.19. Reshape your data either using X.reshape(-1, 1) if your data has a single feature or X.reshape(1, -1) if it contains a single sample.\n",
      "  warnings.warn(DEPRECATION_MSG_1D, DeprecationWarning)\n",
      "/Users/Italo/anaconda/lib/python2.7/site-packages/sklearn/preprocessing/data.py:356: DeprecationWarning: Passing 1d arrays as data is deprecated in 0.17 and will raise ValueError in 0.19. Reshape your data either using X.reshape(-1, 1) if your data has a single feature or X.reshape(1, -1) if it contains a single sample.\n",
      "  warnings.warn(DEPRECATION_MSG_1D, DeprecationWarning)\n",
      "/Users/Italo/anaconda/lib/python2.7/site-packages/sklearn/preprocessing/data.py:321: DeprecationWarning: Passing 1d arrays as data is deprecated in 0.17 and will raise ValueError in 0.19. Reshape your data either using X.reshape(-1, 1) if your data has a single feature or X.reshape(1, -1) if it contains a single sample.\n",
      "  warnings.warn(DEPRECATION_MSG_1D, DeprecationWarning)\n",
      "/Users/Italo/anaconda/lib/python2.7/site-packages/sklearn/preprocessing/data.py:356: DeprecationWarning: Passing 1d arrays as data is deprecated in 0.17 and will raise ValueError in 0.19. Reshape your data either using X.reshape(-1, 1) if your data has a single feature or X.reshape(1, -1) if it contains a single sample.\n",
      "  warnings.warn(DEPRECATION_MSG_1D, DeprecationWarning)\n",
      "/Users/Italo/anaconda/lib/python2.7/site-packages/sklearn/preprocessing/data.py:321: DeprecationWarning: Passing 1d arrays as data is deprecated in 0.17 and will raise ValueError in 0.19. Reshape your data either using X.reshape(-1, 1) if your data has a single feature or X.reshape(1, -1) if it contains a single sample.\n",
      "  warnings.warn(DEPRECATION_MSG_1D, DeprecationWarning)\n",
      "/Users/Italo/anaconda/lib/python2.7/site-packages/sklearn/preprocessing/data.py:356: DeprecationWarning: Passing 1d arrays as data is deprecated in 0.17 and will raise ValueError in 0.19. Reshape your data either using X.reshape(-1, 1) if your data has a single feature or X.reshape(1, -1) if it contains a single sample.\n",
      "  warnings.warn(DEPRECATION_MSG_1D, DeprecationWarning)\n",
      "/Users/Italo/anaconda/lib/python2.7/site-packages/sklearn/preprocessing/data.py:321: DeprecationWarning: Passing 1d arrays as data is deprecated in 0.17 and will raise ValueError in 0.19. Reshape your data either using X.reshape(-1, 1) if your data has a single feature or X.reshape(1, -1) if it contains a single sample.\n",
      "  warnings.warn(DEPRECATION_MSG_1D, DeprecationWarning)\n",
      "/Users/Italo/anaconda/lib/python2.7/site-packages/sklearn/preprocessing/data.py:356: DeprecationWarning: Passing 1d arrays as data is deprecated in 0.17 and will raise ValueError in 0.19. Reshape your data either using X.reshape(-1, 1) if your data has a single feature or X.reshape(1, -1) if it contains a single sample.\n",
      "  warnings.warn(DEPRECATION_MSG_1D, DeprecationWarning)\n",
      "/Users/Italo/anaconda/lib/python2.7/site-packages/sklearn/preprocessing/data.py:321: DeprecationWarning: Passing 1d arrays as data is deprecated in 0.17 and will raise ValueError in 0.19. Reshape your data either using X.reshape(-1, 1) if your data has a single feature or X.reshape(1, -1) if it contains a single sample.\n",
      "  warnings.warn(DEPRECATION_MSG_1D, DeprecationWarning)\n",
      "/Users/Italo/anaconda/lib/python2.7/site-packages/sklearn/preprocessing/data.py:356: DeprecationWarning: Passing 1d arrays as data is deprecated in 0.17 and will raise ValueError in 0.19. Reshape your data either using X.reshape(-1, 1) if your data has a single feature or X.reshape(1, -1) if it contains a single sample.\n",
      "  warnings.warn(DEPRECATION_MSG_1D, DeprecationWarning)\n",
      "/Users/Italo/anaconda/lib/python2.7/site-packages/sklearn/preprocessing/data.py:321: DeprecationWarning: Passing 1d arrays as data is deprecated in 0.17 and will raise ValueError in 0.19. Reshape your data either using X.reshape(-1, 1) if your data has a single feature or X.reshape(1, -1) if it contains a single sample.\n",
      "  warnings.warn(DEPRECATION_MSG_1D, DeprecationWarning)\n",
      "/Users/Italo/anaconda/lib/python2.7/site-packages/sklearn/preprocessing/data.py:356: DeprecationWarning: Passing 1d arrays as data is deprecated in 0.17 and will raise ValueError in 0.19. Reshape your data either using X.reshape(-1, 1) if your data has a single feature or X.reshape(1, -1) if it contains a single sample.\n",
      "  warnings.warn(DEPRECATION_MSG_1D, DeprecationWarning)\n",
      "/Users/Italo/anaconda/lib/python2.7/site-packages/sklearn/preprocessing/data.py:321: DeprecationWarning: Passing 1d arrays as data is deprecated in 0.17 and will raise ValueError in 0.19. Reshape your data either using X.reshape(-1, 1) if your data has a single feature or X.reshape(1, -1) if it contains a single sample.\n",
      "  warnings.warn(DEPRECATION_MSG_1D, DeprecationWarning)\n",
      "/Users/Italo/anaconda/lib/python2.7/site-packages/sklearn/preprocessing/data.py:356: DeprecationWarning: Passing 1d arrays as data is deprecated in 0.17 and will raise ValueError in 0.19. Reshape your data either using X.reshape(-1, 1) if your data has a single feature or X.reshape(1, -1) if it contains a single sample.\n",
      "  warnings.warn(DEPRECATION_MSG_1D, DeprecationWarning)\n"
     ]
    }
   ],
   "source": [
    "min_max_scaler = preprocessing.MinMaxScaler()\n",
    "for k in df_train.columns:\n",
    "    df_train[k] = min_max_scaler.fit_transform(df_train[k].values.astype(float))"
   ]
  },
  {
   "cell_type": "code",
   "execution_count": 93,
   "metadata": {
    "collapsed": false
   },
   "outputs": [
    {
     "data": {
      "text/html": [
       "<div>\n",
       "<table border=\"1\" class=\"dataframe\">\n",
       "  <thead>\n",
       "    <tr style=\"text-align: right;\">\n",
       "      <th></th>\n",
       "      <th>IsBadBuy</th>\n",
       "      <th>VehicleAge</th>\n",
       "      <th>VehOdo</th>\n",
       "      <th>VNZIP1</th>\n",
       "      <th>VehBCost</th>\n",
       "      <th>WarrantyCost</th>\n",
       "      <th>VehicleAge_Val</th>\n",
       "      <th>AUCGUART_Val</th>\n",
       "    </tr>\n",
       "  </thead>\n",
       "  <tbody>\n",
       "    <tr>\n",
       "      <th>0</th>\n",
       "      <td>0.0</td>\n",
       "      <td>0.250</td>\n",
       "      <td>0.788667</td>\n",
       "      <td>0.375018</td>\n",
       "      <td>0.496939</td>\n",
       "      <td>0.107479</td>\n",
       "      <td>0.250</td>\n",
       "      <td>0.0</td>\n",
       "    </tr>\n",
       "    <tr>\n",
       "      <th>1</th>\n",
       "      <td>0.0</td>\n",
       "      <td>0.500</td>\n",
       "      <td>0.834406</td>\n",
       "      <td>0.375018</td>\n",
       "      <td>0.547959</td>\n",
       "      <td>0.097573</td>\n",
       "      <td>0.500</td>\n",
       "      <td>0.0</td>\n",
       "    </tr>\n",
       "    <tr>\n",
       "      <th>2</th>\n",
       "      <td>0.0</td>\n",
       "      <td>0.375</td>\n",
       "      <td>0.635376</td>\n",
       "      <td>0.375018</td>\n",
       "      <td>0.272449</td>\n",
       "      <td>0.153046</td>\n",
       "      <td>0.375</td>\n",
       "      <td>0.0</td>\n",
       "    </tr>\n",
       "    <tr>\n",
       "      <th>3</th>\n",
       "      <td>0.0</td>\n",
       "      <td>0.500</td>\n",
       "      <td>0.552992</td>\n",
       "      <td>0.375018</td>\n",
       "      <td>0.190816</td>\n",
       "      <td>0.027737</td>\n",
       "      <td>0.500</td>\n",
       "      <td>0.0</td>\n",
       "    </tr>\n",
       "    <tr>\n",
       "      <th>4</th>\n",
       "      <td>0.0</td>\n",
       "      <td>0.375</td>\n",
       "      <td>0.590713</td>\n",
       "      <td>0.375018</td>\n",
       "      <td>0.180612</td>\n",
       "      <td>0.092125</td>\n",
       "      <td>0.375</td>\n",
       "      <td>0.0</td>\n",
       "    </tr>\n",
       "  </tbody>\n",
       "</table>\n",
       "</div>"
      ],
      "text/plain": [
       "   IsBadBuy  VehicleAge    VehOdo    VNZIP1  VehBCost  WarrantyCost  \\\n",
       "0       0.0       0.250  0.788667  0.375018  0.496939      0.107479   \n",
       "1       0.0       0.500  0.834406  0.375018  0.547959      0.097573   \n",
       "2       0.0       0.375  0.635376  0.375018  0.272449      0.153046   \n",
       "3       0.0       0.500  0.552992  0.375018  0.190816      0.027737   \n",
       "4       0.0       0.375  0.590713  0.375018  0.180612      0.092125   \n",
       "\n",
       "   VehicleAge_Val  AUCGUART_Val  \n",
       "0           0.250           0.0  \n",
       "1           0.500           0.0  \n",
       "2           0.375           0.0  \n",
       "3           0.500           0.0  \n",
       "4           0.375           0.0  "
      ]
     },
     "execution_count": 93,
     "metadata": {},
     "output_type": "execute_result"
    }
   ],
   "source": [
    "df_train.head()"
   ]
  },
  {
   "cell_type": "code",
   "execution_count": 94,
   "metadata": {
    "collapsed": false
   },
   "outputs": [
    {
     "data": {
      "text/plain": [
       "array([[ 0.        ,  0.25      ,  0.78866736, ...,  0.10747895,\n",
       "         0.25      ,  0.        ],\n",
       "       [ 0.        ,  0.5       ,  0.83440631, ...,  0.09757306,\n",
       "         0.5       ,  0.        ],\n",
       "       [ 0.        ,  0.375     ,  0.63537601, ...,  0.15304606,\n",
       "         0.375     ,  0.        ],\n",
       "       ..., \n",
       "       [ 0.        ,  0.375     ,  0.51911238, ...,  0.12431897,\n",
       "         0.375     ,  0.        ],\n",
       "       [ 0.        ,  0.375     ,  0.35197964, ...,  0.06141654,\n",
       "         0.375     ,  0.        ],\n",
       "       [ 0.        ,  0.5       ,  0.73101839, ...,  0.13785702,\n",
       "         0.5       ,  0.        ]])"
      ]
     },
     "execution_count": 94,
     "metadata": {},
     "output_type": "execute_result"
    }
   ],
   "source": [
    "# Convert the DataFrame to a numpy array:\n",
    "train_data = df_train.values\n",
    "train_data"
   ]
  },
  {
   "cell_type": "code",
   "execution_count": 95,
   "metadata": {
    "collapsed": true
   },
   "outputs": [],
   "source": [
    "from sklearn.metrics import *\n",
    "from sklearn.cluster import KMeans\n",
    "from sklearn.cluster import DBSCAN\n",
    "from sklearn.cluster import AgglomerativeClustering\n",
    "from sklearn.neighbors import kneighbors_graph"
   ]
  },
  {
   "cell_type": "code",
   "execution_count": 96,
   "metadata": {
    "collapsed": true
   },
   "outputs": [],
   "source": [
    "kmeans = KMeans(n_clusters = 3)"
   ]
  },
  {
   "cell_type": "code",
   "execution_count": 97,
   "metadata": {
    "collapsed": false
   },
   "outputs": [
    {
     "data": {
      "text/plain": [
       "KMeans(algorithm='auto', copy_x=True, init='k-means++', max_iter=300,\n",
       "    n_clusters=3, n_init=10, n_jobs=1, precompute_distances='auto',\n",
       "    random_state=None, tol=0.0001, verbose=0)"
      ]
     },
     "execution_count": 97,
     "metadata": {},
     "output_type": "execute_result"
    }
   ],
   "source": [
    "kmeans.fit(train_data)"
   ]
  },
  {
   "cell_type": "code",
   "execution_count": 98,
   "metadata": {
    "collapsed": false
   },
   "outputs": [
    {
     "data": {
      "text/plain": [
       "[4.8711035205428743e-15,\n",
       " 0.2685103763630009,\n",
       " 0.59514937632788356,\n",
       " 0.64326513316613865,\n",
       " 0.5204957396254315,\n",
       " 0.1254909175356107,\n",
       " 0.2685103763630009,\n",
       " 0.032360182905381778]"
      ]
     },
     "execution_count": 98,
     "metadata": {},
     "output_type": "execute_result"
    }
   ],
   "source": [
    "list(kmeans.cluster_centers_[0])"
   ]
  },
  {
   "cell_type": "code",
   "execution_count": 99,
   "metadata": {
    "collapsed": false
   },
   "outputs": [
    {
     "data": {
      "text/plain": [
       "[<matplotlib.lines.Line2D at 0x11598ef50>]"
      ]
     },
     "execution_count": 99,
     "metadata": {},
     "output_type": "execute_result"
    },
    {
     "data": {
      "image/png": "[encoded data removed]",
      "text/plain": [
       "<matplotlib.figure.Figure at 0x115d58290>"
      ]
     },
     "metadata": {},
     "output_type": "display_data"
    }
   ],
   "source": [
    "sse_list = list()\n",
    "max_k = 50\n",
    "for k in range(2,max_k):\n",
    "    kmeans = KMeans(init='k-means++', n_clusters=k, n_init=10, max_iter=100)\n",
    "    kmeans.fit(train_data)\n",
    "    sse = kmeans.inertia_\n",
    "    sse_list.append(sse)\n",
    "plt.plot(range(2,max_k), sse_list)"
   ]
  },
  {
   "cell_type": "code",
   "execution_count": 111,
   "metadata": {
    "collapsed": false
   },
   "outputs": [
    {
     "name": "stdout",
     "output_type": "stream",
     "text": [
      "centers [[ -6.10622664e-16   2.50341064e-01   5.97288057e-01   9.13615086e-01\n",
      "    5.34147479e-01   1.29090151e-01   2.50341064e-01   2.91433544e-16]\n",
      " [  3.46944695e-16   4.44872276e-01   6.26322649e-01   3.96621061e-01\n",
      "    4.70853356e-01   1.25990171e-01   4.44872276e-01  -8.74300632e-16]\n",
      " [ -8.04911693e-16   1.95012788e-01   5.99998280e-01   4.32427499e-01\n",
      "    5.43576126e-01   1.30626623e-01   1.95012788e-01  -5.55111512e-16]\n",
      " [  1.00000000e+00   3.27266484e-01   5.87601000e-01   5.38756145e-01\n",
      "    4.75936309e-01   1.13390737e-01   3.27266484e-01   1.37362637e-03]\n",
      " [  4.16333634e-16   5.18895349e-01   5.85854960e-01   9.39952133e-01\n",
      "    4.01217032e-01   1.32822626e-01   5.18895349e-01   6.64451827e-03]\n",
      " [  1.00000000e+00   6.86468647e-01   6.99886654e-01   4.83974771e-01\n",
      "    3.32267461e-01   2.05743457e-01   6.86468647e-01   9.90099010e-03]\n",
      " [  4.30211422e-16   7.42083333e-01   6.63584158e-01   4.06905072e-01\n",
      "    3.33050170e-01   1.80077046e-01   7.42083333e-01   3.91666667e-02]\n",
      " [  1.04083409e-15   3.55061350e-01   6.57754128e-01   5.56944164e-01\n",
      "    5.01820145e-01   1.27954676e-01   3.55061350e-01   5.07668712e-01]]\n",
      "labels {0: 733, 1: 1330, 2: 1173, 3: 364, 4: 602, 5: 303, 6: 601, 7: 326}\n",
      "sse 553.664647368\n",
      "silhouette 0.230391978425\n"
     ]
    }
   ],
   "source": [
    "kmeans = KMeans(init='k-means++', n_clusters=8, n_init=10, max_iter=100)\n",
    "kmeans.fit(train_data)\n",
    "hist, bins = np.histogram(kmeans.labels_, bins=range(0, len(set(kmeans.labels_)) + 1))\n",
    "print 'centers', kmeans.cluster_centers_\n",
    "print 'labels', dict(zip(bins, hist))\n",
    "print 'sse', kmeans.inertia_\n",
    "print 'silhouette', silhouette_score(train_data, kmeans.labels_)"
   ]
  },
  {
   "cell_type": "code",
   "execution_count": 112,
   "metadata": {
    "collapsed": false
   },
   "outputs": [],
   "source": [
    "df_clusters = df_train\n",
    "df_clusters['Labels'] = kmeans.labels_"
   ]
  },
  {
   "cell_type": "code",
   "execution_count": 113,
   "metadata": {
    "collapsed": false
   },
   "outputs": [
    {
     "data": {
      "text/plain": [
       "<matplotlib.legend.Legend at 0x11b8c4ad0>"
      ]
     },
     "execution_count": 113,
     "metadata": {},
     "output_type": "execute_result"
    },
    {
     "data": {
      "image/png": "[encoded data removed]",
      "text/plain": [
       "<matplotlib.figure.Figure at 0x11ac6b8d0>"
      ]
     },
     "metadata": {},
     "output_type": "display_data"
    }
   ],
   "source": [
    "for i in range(0, 8):\n",
    "    plt.plot(range(0, 7), kmeans.cluster_centers_[i][:-1], label='Cluster %s' % i, linewidth=2)\n",
    "plt.xticks(range(0, 7), list(df_train.columns)[:-1])\n",
    "plt.legend()"
   ]
  },
  {
   "cell_type": "code",
   "execution_count": 114,
   "metadata": {
    "collapsed": false
   },
   "outputs": [
    {
     "data": {
      "text/html": [
       "<div>\n",
       "<table border=\"1\" class=\"dataframe\">\n",
       "  <thead>\n",
       "    <tr style=\"text-align: right;\">\n",
       "      <th></th>\n",
       "      <th>IsBadBuy</th>\n",
       "      <th>VehicleAge</th>\n",
       "      <th>VehOdo</th>\n",
       "      <th>VNZIP1</th>\n",
       "      <th>VehBCost</th>\n",
       "      <th>WarrantyCost</th>\n",
       "      <th>VehicleAge_Val</th>\n",
       "      <th>AUCGUART_Val</th>\n",
       "      <th>Labels</th>\n",
       "    </tr>\n",
       "  </thead>\n",
       "  <tbody>\n",
       "    <tr>\n",
       "      <th>0</th>\n",
       "      <td>0.0</td>\n",
       "      <td>0.250</td>\n",
       "      <td>0.788667</td>\n",
       "      <td>0.375018</td>\n",
       "      <td>0.496939</td>\n",
       "      <td>0.107479</td>\n",
       "      <td>0.250</td>\n",
       "      <td>0.0</td>\n",
       "      <td>2</td>\n",
       "    </tr>\n",
       "    <tr>\n",
       "      <th>1</th>\n",
       "      <td>0.0</td>\n",
       "      <td>0.500</td>\n",
       "      <td>0.834406</td>\n",
       "      <td>0.375018</td>\n",
       "      <td>0.547959</td>\n",
       "      <td>0.097573</td>\n",
       "      <td>0.500</td>\n",
       "      <td>0.0</td>\n",
       "      <td>1</td>\n",
       "    </tr>\n",
       "    <tr>\n",
       "      <th>2</th>\n",
       "      <td>0.0</td>\n",
       "      <td>0.375</td>\n",
       "      <td>0.635376</td>\n",
       "      <td>0.375018</td>\n",
       "      <td>0.272449</td>\n",
       "      <td>0.153046</td>\n",
       "      <td>0.375</td>\n",
       "      <td>0.0</td>\n",
       "      <td>1</td>\n",
       "    </tr>\n",
       "    <tr>\n",
       "      <th>3</th>\n",
       "      <td>0.0</td>\n",
       "      <td>0.500</td>\n",
       "      <td>0.552992</td>\n",
       "      <td>0.375018</td>\n",
       "      <td>0.190816</td>\n",
       "      <td>0.027737</td>\n",
       "      <td>0.500</td>\n",
       "      <td>0.0</td>\n",
       "      <td>1</td>\n",
       "    </tr>\n",
       "    <tr>\n",
       "      <th>4</th>\n",
       "      <td>0.0</td>\n",
       "      <td>0.375</td>\n",
       "      <td>0.590713</td>\n",
       "      <td>0.375018</td>\n",
       "      <td>0.180612</td>\n",
       "      <td>0.092125</td>\n",
       "      <td>0.375</td>\n",
       "      <td>0.0</td>\n",
       "      <td>1</td>\n",
       "    </tr>\n",
       "  </tbody>\n",
       "</table>\n",
       "</div>"
      ],
      "text/plain": [
       "   IsBadBuy  VehicleAge    VehOdo    VNZIP1  VehBCost  WarrantyCost  \\\n",
       "0       0.0       0.250  0.788667  0.375018  0.496939      0.107479   \n",
       "1       0.0       0.500  0.834406  0.375018  0.547959      0.097573   \n",
       "2       0.0       0.375  0.635376  0.375018  0.272449      0.153046   \n",
       "3       0.0       0.500  0.552992  0.375018  0.190816      0.027737   \n",
       "4       0.0       0.375  0.590713  0.375018  0.180612      0.092125   \n",
       "\n",
       "   VehicleAge_Val  AUCGUART_Val  Labels  \n",
       "0           0.250           0.0       2  \n",
       "1           0.500           0.0       1  \n",
       "2           0.375           0.0       1  \n",
       "3           0.500           0.0       1  \n",
       "4           0.375           0.0       1  "
      ]
     },
     "execution_count": 114,
     "metadata": {},
     "output_type": "execute_result"
    }
   ],
   "source": [
    "df_clusters.head()"
   ]
  },
  {
   "cell_type": "code",
   "execution_count": 119,
   "metadata": {
    "collapsed": false
   },
   "outputs": [
    {
     "data": {
      "text/html": [
       "<div>\n",
       "<table border=\"1\" class=\"dataframe\">\n",
       "  <thead>\n",
       "    <tr style=\"text-align: right;\">\n",
       "      <th>Labels</th>\n",
       "      <th>0</th>\n",
       "      <th>1</th>\n",
       "      <th>2</th>\n",
       "      <th>3</th>\n",
       "      <th>4</th>\n",
       "      <th>5</th>\n",
       "      <th>6</th>\n",
       "      <th>7</th>\n",
       "    </tr>\n",
       "    <tr>\n",
       "      <th>VehicleAge</th>\n",
       "      <th></th>\n",
       "      <th></th>\n",
       "      <th></th>\n",
       "      <th></th>\n",
       "      <th></th>\n",
       "      <th></th>\n",
       "      <th></th>\n",
       "      <th></th>\n",
       "    </tr>\n",
       "  </thead>\n",
       "  <tbody>\n",
       "    <tr>\n",
       "      <th>0.000</th>\n",
       "      <td>9</td>\n",
       "      <td>0</td>\n",
       "      <td>45</td>\n",
       "      <td>6</td>\n",
       "      <td>0</td>\n",
       "      <td>0</td>\n",
       "      <td>0</td>\n",
       "      <td>12</td>\n",
       "    </tr>\n",
       "    <tr>\n",
       "      <th>0.125</th>\n",
       "      <td>173</td>\n",
       "      <td>0</td>\n",
       "      <td>432</td>\n",
       "      <td>45</td>\n",
       "      <td>0</td>\n",
       "      <td>0</td>\n",
       "      <td>0</td>\n",
       "      <td>60</td>\n",
       "    </tr>\n",
       "    <tr>\n",
       "      <th>0.250</th>\n",
       "      <td>358</td>\n",
       "      <td>0</td>\n",
       "      <td>690</td>\n",
       "      <td>110</td>\n",
       "      <td>0</td>\n",
       "      <td>0</td>\n",
       "      <td>0</td>\n",
       "      <td>55</td>\n",
       "    </tr>\n",
       "    <tr>\n",
       "      <th>0.375</th>\n",
       "      <td>193</td>\n",
       "      <td>682</td>\n",
       "      <td>6</td>\n",
       "      <td>124</td>\n",
       "      <td>185</td>\n",
       "      <td>0</td>\n",
       "      <td>0</td>\n",
       "      <td>83</td>\n",
       "    </tr>\n",
       "    <tr>\n",
       "      <th>0.500</th>\n",
       "      <td>0</td>\n",
       "      <td>554</td>\n",
       "      <td>0</td>\n",
       "      <td>79</td>\n",
       "      <td>231</td>\n",
       "      <td>59</td>\n",
       "      <td>3</td>\n",
       "      <td>76</td>\n",
       "    </tr>\n",
       "    <tr>\n",
       "      <th>0.625</th>\n",
       "      <td>0</td>\n",
       "      <td>94</td>\n",
       "      <td>0</td>\n",
       "      <td>0</td>\n",
       "      <td>109</td>\n",
       "      <td>106</td>\n",
       "      <td>239</td>\n",
       "      <td>38</td>\n",
       "    </tr>\n",
       "    <tr>\n",
       "      <th>0.750</th>\n",
       "      <td>0</td>\n",
       "      <td>0</td>\n",
       "      <td>0</td>\n",
       "      <td>0</td>\n",
       "      <td>64</td>\n",
       "      <td>82</td>\n",
       "      <td>194</td>\n",
       "      <td>1</td>\n",
       "    </tr>\n",
       "    <tr>\n",
       "      <th>0.875</th>\n",
       "      <td>0</td>\n",
       "      <td>0</td>\n",
       "      <td>0</td>\n",
       "      <td>0</td>\n",
       "      <td>13</td>\n",
       "      <td>42</td>\n",
       "      <td>124</td>\n",
       "      <td>1</td>\n",
       "    </tr>\n",
       "    <tr>\n",
       "      <th>1.000</th>\n",
       "      <td>0</td>\n",
       "      <td>0</td>\n",
       "      <td>0</td>\n",
       "      <td>0</td>\n",
       "      <td>0</td>\n",
       "      <td>14</td>\n",
       "      <td>41</td>\n",
       "      <td>0</td>\n",
       "    </tr>\n",
       "  </tbody>\n",
       "</table>\n",
       "</div>"
      ],
      "text/plain": [
       "Labels        0    1    2    3    4    5    6   7\n",
       "VehicleAge                                       \n",
       "0.000         9    0   45    6    0    0    0  12\n",
       "0.125       173    0  432   45    0    0    0  60\n",
       "0.250       358    0  690  110    0    0    0  55\n",
       "0.375       193  682    6  124  185    0    0  83\n",
       "0.500         0  554    0   79  231   59    3  76\n",
       "0.625         0   94    0    0  109  106  239  38\n",
       "0.750         0    0    0    0   64   82  194   1\n",
       "0.875         0    0    0    0   13   42  124   1\n",
       "1.000         0    0    0    0    0   14   41   0"
      ]
     },
     "execution_count": 119,
     "metadata": {},
     "output_type": "execute_result"
    }
   ],
   "source": [
    "pclass_xt = pd.crosstab(df_clusters['VehicleAge'], df_clusters['Labels'])\n",
    "pclass_xt"
   ]
  },
  {
   "cell_type": "code",
   "execution_count": 120,
   "metadata": {
    "collapsed": false
   },
   "outputs": [
    {
     "data": {
      "text/plain": [
       "<matplotlib.text.Text at 0x11ac5ee10>"
      ]
     },
     "execution_count": 120,
     "metadata": {},
     "output_type": "execute_result"
    },
    {
     "data": {
      "image/png": "[encoded data removed]",
      "text/plain": [
       "<matplotlib.figure.Figure at 0x11d1f6310>"
      ]
     },
     "metadata": {},
     "output_type": "display_data"
    }
   ],
   "source": [
    "pclass_xt_pct = pclass_xt.div(pclass_xt.sum(1).astype(float), axis=0)\n",
    "pclass_xt_pct.plot(kind='bar', stacked=True, title='Cluster Label Rate by Passenger Classes')\n",
    "plt.xlabel('')\n",
    "plt.ylabel('Cluster Label')"
   ]
  },
  {
   "cell_type": "code",
   "execution_count": 121,
   "metadata": {
    "collapsed": false
   },
   "outputs": [
    {
     "data": {
      "text/html": [
       "<div>\n",
       "<table border=\"1\" class=\"dataframe\">\n",
       "  <thead>\n",
       "    <tr style=\"text-align: right;\">\n",
       "      <th></th>\n",
       "      <th>IsBadBuy</th>\n",
       "      <th>VehicleAge</th>\n",
       "      <th>VehOdo</th>\n",
       "      <th>VNZIP1</th>\n",
       "      <th>VehBCost</th>\n",
       "      <th>WarrantyCost</th>\n",
       "      <th>VehicleAge_Val</th>\n",
       "      <th>AUCGUART_Val</th>\n",
       "      <th>Labels</th>\n",
       "    </tr>\n",
       "  </thead>\n",
       "  <tbody>\n",
       "    <tr>\n",
       "      <th>count</th>\n",
       "      <td>5432.000000</td>\n",
       "      <td>5432.000000</td>\n",
       "      <td>5432.000000</td>\n",
       "      <td>5432.000000</td>\n",
       "      <td>5432.000000</td>\n",
       "      <td>5432.000000</td>\n",
       "      <td>5432.000000</td>\n",
       "      <td>5432.000000</td>\n",
       "      <td>5432.000000</td>\n",
       "    </tr>\n",
       "    <tr>\n",
       "      <th>mean</th>\n",
       "      <td>0.122791</td>\n",
       "      <td>0.405905</td>\n",
       "      <td>0.619746</td>\n",
       "      <td>0.559486</td>\n",
       "      <td>0.466628</td>\n",
       "      <td>0.137863</td>\n",
       "      <td>0.405905</td>\n",
       "      <td>0.036175</td>\n",
       "      <td>2.683910</td>\n",
       "    </tr>\n",
       "    <tr>\n",
       "      <th>std</th>\n",
       "      <td>0.328227</td>\n",
       "      <td>0.208007</td>\n",
       "      <td>0.143750</td>\n",
       "      <td>0.260800</td>\n",
       "      <td>0.176804</td>\n",
       "      <td>0.097855</td>\n",
       "      <td>0.208007</td>\n",
       "      <td>0.131659</td>\n",
       "      <td>2.144924</td>\n",
       "    </tr>\n",
       "    <tr>\n",
       "      <th>min</th>\n",
       "      <td>0.000000</td>\n",
       "      <td>0.000000</td>\n",
       "      <td>0.000000</td>\n",
       "      <td>0.000000</td>\n",
       "      <td>0.000000</td>\n",
       "      <td>0.000000</td>\n",
       "      <td>0.000000</td>\n",
       "      <td>0.000000</td>\n",
       "      <td>0.000000</td>\n",
       "    </tr>\n",
       "    <tr>\n",
       "      <th>25%</th>\n",
       "      <td>0.000000</td>\n",
       "      <td>0.250000</td>\n",
       "      <td>0.528840</td>\n",
       "      <td>0.375018</td>\n",
       "      <td>0.333673</td>\n",
       "      <td>0.064553</td>\n",
       "      <td>0.250000</td>\n",
       "      <td>0.000000</td>\n",
       "      <td>1.000000</td>\n",
       "    </tr>\n",
       "    <tr>\n",
       "      <th>50%</th>\n",
       "      <td>0.000000</td>\n",
       "      <td>0.375000</td>\n",
       "      <td>0.634370</td>\n",
       "      <td>0.513406</td>\n",
       "      <td>0.472959</td>\n",
       "      <td>0.124319</td>\n",
       "      <td>0.375000</td>\n",
       "      <td>0.000000</td>\n",
       "      <td>2.000000</td>\n",
       "    </tr>\n",
       "    <tr>\n",
       "      <th>75%</th>\n",
       "      <td>0.000000</td>\n",
       "      <td>0.500000</td>\n",
       "      <td>0.725322</td>\n",
       "      <td>0.842931</td>\n",
       "      <td>0.586224</td>\n",
       "      <td>0.192835</td>\n",
       "      <td>0.500000</td>\n",
       "      <td>0.000000</td>\n",
       "      <td>4.000000</td>\n",
       "    </tr>\n",
       "    <tr>\n",
       "      <th>max</th>\n",
       "      <td>1.000000</td>\n",
       "      <td>1.000000</td>\n",
       "      <td>1.000000</td>\n",
       "      <td>1.000000</td>\n",
       "      <td>1.000000</td>\n",
       "      <td>1.000000</td>\n",
       "      <td>1.000000</td>\n",
       "      <td>1.000000</td>\n",
       "      <td>7.000000</td>\n",
       "    </tr>\n",
       "  </tbody>\n",
       "</table>\n",
       "</div>"
      ],
      "text/plain": [
       "          IsBadBuy   VehicleAge       VehOdo       VNZIP1     VehBCost  \\\n",
       "count  5432.000000  5432.000000  5432.000000  5432.000000  5432.000000   \n",
       "mean      0.122791     0.405905     0.619746     0.559486     0.466628   \n",
       "std       0.328227     0.208007     0.143750     0.260800     0.176804   \n",
       "min       0.000000     0.000000     0.000000     0.000000     0.000000   \n",
       "25%       0.000000     0.250000     0.528840     0.375018     0.333673   \n",
       "50%       0.000000     0.375000     0.634370     0.513406     0.472959   \n",
       "75%       0.000000     0.500000     0.725322     0.842931     0.586224   \n",
       "max       1.000000     1.000000     1.000000     1.000000     1.000000   \n",
       "\n",
       "       WarrantyCost  VehicleAge_Val  AUCGUART_Val       Labels  \n",
       "count   5432.000000     5432.000000   5432.000000  5432.000000  \n",
       "mean       0.137863        0.405905      0.036175     2.683910  \n",
       "std        0.097855        0.208007      0.131659     2.144924  \n",
       "min        0.000000        0.000000      0.000000     0.000000  \n",
       "25%        0.064553        0.250000      0.000000     1.000000  \n",
       "50%        0.124319        0.375000      0.000000     2.000000  \n",
       "75%        0.192835        0.500000      0.000000     4.000000  \n",
       "max        1.000000        1.000000      1.000000     7.000000  "
      ]
     },
     "execution_count": 121,
     "metadata": {},
     "output_type": "execute_result"
    }
   ],
   "source": [
    "df_clusters.describe()"
   ]
  },
  {
   "cell_type": "code",
   "execution_count": 122,
   "metadata": {
    "collapsed": false
   },
   "outputs": [
    {
     "data": {
      "text/html": [
       "<div>\n",
       "<table border=\"1\" class=\"dataframe\">\n",
       "  <thead>\n",
       "    <tr style=\"text-align: right;\">\n",
       "      <th></th>\n",
       "      <th>IsBadBuy</th>\n",
       "      <th>VehicleAge</th>\n",
       "      <th>VehOdo</th>\n",
       "      <th>VNZIP1</th>\n",
       "      <th>VehBCost</th>\n",
       "      <th>WarrantyCost</th>\n",
       "      <th>VehicleAge_Val</th>\n",
       "      <th>AUCGUART_Val</th>\n",
       "      <th>Labels</th>\n",
       "    </tr>\n",
       "  </thead>\n",
       "  <tbody>\n",
       "    <tr>\n",
       "      <th>count</th>\n",
       "      <td>364.0</td>\n",
       "      <td>364.000000</td>\n",
       "      <td>364.000000</td>\n",
       "      <td>364.000000</td>\n",
       "      <td>364.000000</td>\n",
       "      <td>364.000000</td>\n",
       "      <td>364.000000</td>\n",
       "      <td>364.000000</td>\n",
       "      <td>364.0</td>\n",
       "    </tr>\n",
       "    <tr>\n",
       "      <th>mean</th>\n",
       "      <td>1.0</td>\n",
       "      <td>0.327266</td>\n",
       "      <td>0.587601</td>\n",
       "      <td>0.538756</td>\n",
       "      <td>0.475936</td>\n",
       "      <td>0.113391</td>\n",
       "      <td>0.327266</td>\n",
       "      <td>0.001374</td>\n",
       "      <td>3.0</td>\n",
       "    </tr>\n",
       "    <tr>\n",
       "      <th>std</th>\n",
       "      <td>0.0</td>\n",
       "      <td>0.126186</td>\n",
       "      <td>0.140095</td>\n",
       "      <td>0.250978</td>\n",
       "      <td>0.156074</td>\n",
       "      <td>0.086888</td>\n",
       "      <td>0.126186</td>\n",
       "      <td>0.026207</td>\n",
       "      <td>0.0</td>\n",
       "    </tr>\n",
       "    <tr>\n",
       "      <th>min</th>\n",
       "      <td>1.0</td>\n",
       "      <td>0.000000</td>\n",
       "      <td>0.059369</td>\n",
       "      <td>0.177962</td>\n",
       "      <td>0.134184</td>\n",
       "      <td>0.000000</td>\n",
       "      <td>0.000000</td>\n",
       "      <td>0.000000</td>\n",
       "      <td>3.0</td>\n",
       "    </tr>\n",
       "    <tr>\n",
       "      <th>25%</th>\n",
       "      <td>1.0</td>\n",
       "      <td>0.250000</td>\n",
       "      <td>0.491651</td>\n",
       "      <td>0.375018</td>\n",
       "      <td>0.354082</td>\n",
       "      <td>0.056298</td>\n",
       "      <td>0.250000</td>\n",
       "      <td>0.000000</td>\n",
       "      <td>3.0</td>\n",
       "    </tr>\n",
       "    <tr>\n",
       "      <th>50%</th>\n",
       "      <td>1.0</td>\n",
       "      <td>0.375000</td>\n",
       "      <td>0.599701</td>\n",
       "      <td>0.513406</td>\n",
       "      <td>0.476276</td>\n",
       "      <td>0.095097</td>\n",
       "      <td>0.375000</td>\n",
       "      <td>0.000000</td>\n",
       "      <td>3.0</td>\n",
       "    </tr>\n",
       "    <tr>\n",
       "      <th>75%</th>\n",
       "      <td>1.0</td>\n",
       "      <td>0.375000</td>\n",
       "      <td>0.691217</td>\n",
       "      <td>0.701067</td>\n",
       "      <td>0.573724</td>\n",
       "      <td>0.156678</td>\n",
       "      <td>0.375000</td>\n",
       "      <td>0.000000</td>\n",
       "      <td>3.0</td>\n",
       "    </tr>\n",
       "    <tr>\n",
       "      <th>max</th>\n",
       "      <td>1.0</td>\n",
       "      <td>0.500000</td>\n",
       "      <td>0.871273</td>\n",
       "      <td>1.000000</td>\n",
       "      <td>0.985204</td>\n",
       "      <td>0.764405</td>\n",
       "      <td>0.500000</td>\n",
       "      <td>0.500000</td>\n",
       "      <td>3.0</td>\n",
       "    </tr>\n",
       "  </tbody>\n",
       "</table>\n",
       "</div>"
      ],
      "text/plain": [
       "       IsBadBuy  VehicleAge      VehOdo      VNZIP1    VehBCost  WarrantyCost  \\\n",
       "count     364.0  364.000000  364.000000  364.000000  364.000000    364.000000   \n",
       "mean        1.0    0.327266    0.587601    0.538756    0.475936      0.113391   \n",
       "std         0.0    0.126186    0.140095    0.250978    0.156074      0.086888   \n",
       "min         1.0    0.000000    0.059369    0.177962    0.134184      0.000000   \n",
       "25%         1.0    0.250000    0.491651    0.375018    0.354082      0.056298   \n",
       "50%         1.0    0.375000    0.599701    0.513406    0.476276      0.095097   \n",
       "75%         1.0    0.375000    0.691217    0.701067    0.573724      0.156678   \n",
       "max         1.0    0.500000    0.871273    1.000000    0.985204      0.764405   \n",
       "\n",
       "       VehicleAge_Val  AUCGUART_Val  Labels  \n",
       "count      364.000000    364.000000   364.0  \n",
       "mean         0.327266      0.001374     3.0  \n",
       "std          0.126186      0.026207     0.0  \n",
       "min          0.000000      0.000000     3.0  \n",
       "25%          0.250000      0.000000     3.0  \n",
       "50%          0.375000      0.000000     3.0  \n",
       "75%          0.375000      0.000000     3.0  \n",
       "max          0.500000      0.500000     3.0  "
      ]
     },
     "execution_count": 122,
     "metadata": {},
     "output_type": "execute_result"
    }
   ],
   "source": [
    "df_clusters[df_clusters['Labels']==3].describe()"
   ]
  },
  {
   "cell_type": "code",
   "execution_count": 123,
   "metadata": {
    "collapsed": true
   },
   "outputs": [],
   "source": [
    "# hierarchical clustering\n",
    "connectivity = kneighbors_graph(train_data, n_neighbors=100, include_self=False)\n",
    "connectivity = 0.5 * (connectivity + connectivity.T)"
   ]
  },
  {
   "cell_type": "code",
   "execution_count": 124,
   "metadata": {
    "collapsed": false
   },
   "outputs": [
    {
     "name": "stdout",
     "output_type": "stream",
     "text": [
      "ward\n",
      "labels {0: 667, 1: 1910, 2: 1321, 3: 725, 4: 380, 5: 429}\n",
      "silhouette 0.266980466016\n"
     ]
    }
   ],
   "source": [
    "print 'ward'\n",
    "ward = AgglomerativeClustering(n_clusters=6, linkage='ward', affinity='euclidean',\n",
    "                                   connectivity=connectivity)\n",
    "ward.fit(train_data)\n",
    "\n",
    "hist, bins = np.histogram(ward.labels_, bins=range(0, len(set(ward.labels_)) + 1))\n",
    "print 'labels', dict(zip(bins, hist))\n",
    "print 'silhouette', silhouette_score(train_data, ward.labels_)"
   ]
  },
  {
   "cell_type": "code",
   "execution_count": 125,
   "metadata": {
    "collapsed": false
   },
   "outputs": [
    {
     "name": "stdout",
     "output_type": "stream",
     "text": [
      "average linkage\n",
      "labels {0: 5, 1: 659, 2: 7, 3: 3, 4: 4757, 5: 1}\n",
      "silhouette 0.376368960171\n"
     ]
    }
   ],
   "source": [
    "print 'average linkage'\n",
    "average_linkage = AgglomerativeClustering(n_clusters=6, linkage='average', affinity='manhattan',\n",
    "                                              connectivity=connectivity)\n",
    "average_linkage.fit(train_data)\n",
    "\n",
    "hist, bins = np.histogram(average_linkage.labels_, \n",
    "                          bins=range(0, len(set(average_linkage.labels_)) + 1))\n",
    "\n",
    "print 'labels', dict(zip(bins, hist))\n",
    "print 'silhouette', silhouette_score(train_data, average_linkage.labels_)"
   ]
  },
  {
   "cell_type": "code",
   "execution_count": 126,
   "metadata": {
    "collapsed": false
   },
   "outputs": [
    {
     "name": "stdout",
     "output_type": "stream",
     "text": [
      "complete linkage\n",
      "labels {0: 4742, 1: 23, 2: 248, 3: 135, 4: 283, 5: 1}\n",
      "silhouette 0.351127824099\n"
     ]
    }
   ],
   "source": [
    "print 'complete linkage'\n",
    "complete_linkage = AgglomerativeClustering(n_clusters=6, linkage='complete', affinity='l1',\n",
    "                                              connectivity=connectivity)\n",
    "complete_linkage.fit(train_data)\n",
    "hist, bins = np.histogram(complete_linkage.labels_, \n",
    "                          bins=range(0, len(set(complete_linkage.labels_)) + 1))\n",
    "\n",
    "print 'labels', dict(zip(bins, hist))\n",
    "print 'silhouette', silhouette_score(train_data, complete_linkage.labels_)"
   ]
  },
  {
   "cell_type": "code",
   "execution_count": 127,
   "metadata": {
    "collapsed": true
   },
   "outputs": [],
   "source": [
    "from scipy.stats import mode\n",
    "from scipy.spatial.distance import pdist\n",
    "from scipy.cluster.hierarchy import linkage, dendrogram"
   ]
  },
  {
   "cell_type": "code",
   "execution_count": 128,
   "metadata": {
    "collapsed": false
   },
   "outputs": [
    {
     "data": {
      "image/png": "[encoded data removed]",
      "text/plain": [
       "<matplotlib.figure.Figure at 0x11b3def10>"
      ]
     },
     "metadata": {},
     "output_type": "display_data"
    }
   ],
   "source": [
    "# average linkage and dendogram using scipy\n",
    "data_dist = pdist(train_data, metric='euclidean')\n",
    "data_link = linkage(data_dist, method='average', metric='euclidean')\n",
    "res = dendrogram(data_link)"
   ]
  },
  {
   "cell_type": "code",
   "execution_count": 129,
   "metadata": {
    "collapsed": false
   },
   "outputs": [
    {
     "name": "stdout",
     "output_type": "stream",
     "text": [
      "dbscan\n",
      "labels {0: 4322, 1: 580, 2: 280, 3: 3, 4: 8, 5: 0, -1: 239}\n",
      "silhouette 0.172097684561\n"
     ]
    }
   ],
   "source": [
    "# density based clustering\n",
    "print 'dbscan'\n",
    "\n",
    "dbscan = DBSCAN(eps=0.2, min_samples=5, metric='euclidean')\n",
    "dbscan.fit(train_data)\n",
    "\n",
    "hist, bins = np.histogram(dbscan.labels_, bins=range(-1, len(set(dbscan.labels_)) + 1))\n",
    "\n",
    "print 'labels', dict(zip(bins, hist))\n",
    "print 'silhouette', silhouette_score(train_data, dbscan.labels_)"
   ]
  },
  {
   "cell_type": "code",
   "execution_count": 130,
   "metadata": {
    "collapsed": true
   },
   "outputs": [],
   "source": [
    "df_clusters = df_train\n",
    "df_clusters['Labels'] = dbscan.labels_"
   ]
  },
  {
   "cell_type": "code",
   "execution_count": 131,
   "metadata": {
    "collapsed": false
   },
   "outputs": [
    {
     "data": {
      "text/html": [
       "<div>\n",
       "<table border=\"1\" class=\"dataframe\">\n",
       "  <thead>\n",
       "    <tr style=\"text-align: right;\">\n",
       "      <th>Labels</th>\n",
       "      <th>-1</th>\n",
       "      <th>0</th>\n",
       "      <th>1</th>\n",
       "      <th>2</th>\n",
       "      <th>3</th>\n",
       "      <th>4</th>\n",
       "    </tr>\n",
       "    <tr>\n",
       "      <th>IsBadBuy</th>\n",
       "      <th></th>\n",
       "      <th></th>\n",
       "      <th></th>\n",
       "      <th></th>\n",
       "      <th></th>\n",
       "      <th></th>\n",
       "    </tr>\n",
       "  </thead>\n",
       "  <tbody>\n",
       "    <tr>\n",
       "      <th>0.0</th>\n",
       "      <td>160</td>\n",
       "      <td>4322</td>\n",
       "      <td>0</td>\n",
       "      <td>280</td>\n",
       "      <td>3</td>\n",
       "      <td>0</td>\n",
       "    </tr>\n",
       "    <tr>\n",
       "      <th>1.0</th>\n",
       "      <td>79</td>\n",
       "      <td>0</td>\n",
       "      <td>580</td>\n",
       "      <td>0</td>\n",
       "      <td>0</td>\n",
       "      <td>8</td>\n",
       "    </tr>\n",
       "  </tbody>\n",
       "</table>\n",
       "</div>"
      ],
      "text/plain": [
       "Labels     -1     0    1    2   3   4\n",
       "IsBadBuy                             \n",
       "0.0       160  4322    0  280   3   0\n",
       "1.0        79     0  580    0   0   8"
      ]
     },
     "execution_count": 131,
     "metadata": {},
     "output_type": "execute_result"
    }
   ],
   "source": [
    "pclass_xt = pd.crosstab(df_clusters['IsBadBuy'], df_clusters['Labels'])\n",
    "pclass_xt"
   ]
  },
  {
   "cell_type": "code",
   "execution_count": 132,
   "metadata": {
    "collapsed": false
   },
   "outputs": [
    {
     "data": {
      "text/plain": [
       "<matplotlib.text.Text at 0x12618f410>"
      ]
     },
     "execution_count": 132,
     "metadata": {},
     "output_type": "execute_result"
    },
    {
     "data": {
      "image/png": "[encoded data removed]",
      "text/plain": [
       "<matplotlib.figure.Figure at 0x11d24ea10>"
      ]
     },
     "metadata": {},
     "output_type": "display_data"
    }
   ],
   "source": [
    "pclass_xt_pct = pclass_xt.div(pclass_xt.sum(1).astype(float), axis=0)\n",
    "pclass_xt_pct.plot(kind='bar', stacked=True, title='Cluster Label Rate by Passenger Classes')\n",
    "plt.xlabel('Is Bad Buy')\n",
    "plt.ylabel('Cluster Label')"
   ]
  },
  {
   "cell_type": "code",
   "execution_count": null,
   "metadata": {
    "collapsed": true
   },
   "outputs": [],
   "source": []
  }
 ],
 "metadata": {
  "anaconda-cloud": {},
  "kernelspec": {
   "display_name": "Python [conda root]",
   "language": "python",
   "name": "conda-root-py"
  },
  "language_info": {
   "codemirror_mode": {
    "name": "ipython",
    "version": 2
   },
   "file_extension": ".py",
   "mimetype": "text/x-python",
   "name": "python",
   "nbconvert_exporter": "python",
   "pygments_lexer": "ipython2",
   "version": "2.7.12"
  }
 },
 "nbformat": 4,
 "nbformat_minor": 1
}
