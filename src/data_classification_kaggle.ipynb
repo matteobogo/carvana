{
 "cells": [
  {
   "cell_type": "code",
   "execution_count": 39,
   "metadata": {
    "collapsed": false
   },
   "outputs": [],
   "source": [
    "%matplotlib inline\n",
    "import math\n",
    "import random\n",
    "import numpy as np\n",
    "import pandas as pd\n",
    "import scipy.stats as stats\n",
    "import matplotlib.pyplot as plt\n",
    "from collections import defaultdict\n",
    "from scipy.stats.stats import pearsonr\n",
    "\n",
    "from sklearn import tree\n",
    "from sklearn import metrics\n",
    "from sklearn.tree import export_graphviz\n",
    "from sklearn.ensemble import RandomForestClassifier, ExtraTreesClassifier\n",
    "from sklearn.metrics import confusion_matrix\n",
    "from sklearn.cross_validation import train_test_split\n",
    "from sklearn import cross_validation\n",
    "from sklearn.cross_validation import cross_val_score\n",
    "from sklearn import neighbors\n",
    "from sklearn import linear_model\n",
    "from sklearn.naive_bayes import GaussianNB\n",
    "from sklearn import svm"
   ]
  },
  {
   "cell_type": "code",
   "execution_count": null,
   "metadata": {
    "collapsed": false
   },
   "outputs": [],
   "source": [
    " "
   ]
  },
  {
   "cell_type": "code",
   "execution_count": 40,
   "metadata": {
    "collapsed": false
   },
   "outputs": [],
   "source": [
    "def clean_data(df):\n",
    "    df.replace({'Trim' : { np.nan : 'NS'}}, inplace=True)\n",
    "    df.replace({'SubModel' : { np.nan : 'NS'}}, inplace=True)\n",
    "    df.replace({'Color' : { np.nan : 'NS'}}, inplace=True)\n",
    "    df.replace({'Transmission' : { np.nan : 'NS'}}, inplace=True)\n",
    "    df.replace({'WheelTypeID' : { np.nan : 'NS'}}, inplace=True)\n",
    "    df.replace({'WheelType' : { np.nan : 'NS'}}, inplace=True)\n",
    "    df.replace({'Nationality' : { np.nan : 'NS'}}, inplace=True)\n",
    "    df.replace({'Size' : { np.nan : 'NS'}}, inplace=True)\n",
    "    df.replace({'TopThreeAmericanName' : { np.nan : 'NS'}}, inplace=True)\n",
    "    df.replace({'MMRAcquisitionAuctionAveragePrice' : { np.nan : 'NS'}}, inplace=True)\n",
    "    df.replace({'MMRAcquisitionAuctionCleanPrice' : { np.nan : 'NS'}}, inplace=True)\n",
    "    df.replace({'MMRAcquisitionRetailAveragePrice' : { np.nan : 'NS'}}, inplace=True)\n",
    "    df.replace({'MMRAcquisitonRetailCleanPrice' : { np.nan : 'NS'}}, inplace=True)\n",
    "    df.replace({'MMRCurrentAuctionAveragePrice' : { np.nan : 'NS'}}, inplace=True)\n",
    "    df.replace({'MMRCurrentAuctionCleanPrice' : { np.nan : 'NS'}}, inplace=True)\n",
    "    df.replace({'MMRCurrentRetailAveragePrice' : { np.nan : 'NS'}}, inplace=True)\n",
    "    df.replace({'MMRCurrentRetailCleanPrice' : { np.nan : 'NS'}}, inplace=True)\n",
    "    df.replace({'PRIMEUNIT' : { np.nan : 'NS'}}, inplace=True)\n",
    "    df.replace({'AUCGUART' : { np.nan : 'NS'}}, inplace=True)\n",
    "\n",
    "    df['Transmission'] = df['Transmission'].str.upper()\n",
    "\n",
    "    df = df.drop('PurchDate', axis=1)\n",
    "    df = df.drop('VehYear',axis=1)\n",
    "    df = df.drop('WheelTypeID', axis=1)\n",
    "    df = df.drop('TopThreeAmericanName', axis=1)\n",
    "    df = df.drop('BYRNO', axis=1)\n",
    "\n",
    "    auctions = sorted(df['Auction'].unique())\n",
    "    vehicleAges = sorted(df['VehicleAge'].unique())\n",
    "    makes = sorted(df['Make'].unique())\n",
    "    models = sorted(df['Model'].unique())\n",
    "    trims = sorted(df['Trim'].unique())\n",
    "    subModels = sorted(df['SubModel'].unique())\n",
    "    colors = sorted(df['Color'].unique())\n",
    "    transmissions = sorted(df['Transmission'].unique())\n",
    "    wheeltypes = sorted(df['WheelType'].unique())\n",
    "    vehOdos = sorted(df['VehOdo'].unique())\n",
    "    nationalities = sorted(df['Nationality'].unique())\n",
    "    sizes = sorted(df['Size'].unique())\n",
    "    demands = sorted(df['PRIMEUNIT'].unique())\n",
    "    guarantees = sorted(df['AUCGUART'].unique())\n",
    "    zipcodes = sorted(df['VNZIP1'].unique())    #VNZIP1\n",
    "    states = sorted(df['VNST'].unique())        #VNST\n",
    "    vehcosts = sorted(df['VehBCost'].unique())\n",
    "    onlinesales = sorted(df['IsOnlineSale'].unique())\n",
    "    warranties = sorted(df['WarrantyCost'].unique())\n",
    "    \n",
    "    auctionsDictionary = dict(zip(auctions,range(0, len(auctions)+1)))\n",
    "    makesDictionary = dict(zip(makes,range(0, len(makes)+1)))\n",
    "    modelsDictionary = dict(zip(models,range(0, len(models)+1)))\n",
    "    trimsDictionary = dict(zip(trims,range(0, len(trims)+1)))\n",
    "    subModelsDictionary = dict(zip(subModels,range(0, len(subModels)+1)))\n",
    "    colorsDictionary = dict(zip(colors,range(0, len(colors)+1)))\n",
    "    transmissionsDictionary = dict(zip(transmissions,range(0, len(transmissions)+1)))\n",
    "    wheeltypesDictionary = dict(zip(wheeltypes,range(0, len(wheeltypes)+1)))\n",
    "    nationalitiesDictionary = dict(zip(nationalities,range(0, len(nationalities)+1)))\n",
    "    sizesDictionary = dict(zip(sizes,range(0, len(sizes)+1)))\n",
    "    demandsDictionary = dict(zip(demands,range(0, len(demands)+1)))\n",
    "    guaranteesDictionary = dict(zip(guarantees,range(0, len(guarantees)+1)))\n",
    "    vehcostsDictionary = dict(zip(vehcosts,range(0, len(vehcosts)+1)))  #not object but mapped as dictionary\n",
    "    zipcodesDictionary = dict(zip(zipcodes,range(0, len(zipcodes)+1)))  #not object but mapped as dictionary\n",
    "    statesDictionary = dict(zip(states,range(0, len(states)+1)))\n",
    "    warrantiesDictionary = dict(zip(warranties,range(0, len(warranties)+1)))\n",
    "    \n",
    "    df['AuctionVal'] = df['Auction'].map(auctionsDictionary)\n",
    "    df['MakeVal'] = df['Make'].map(makesDictionary)\n",
    "    df['ModelVal'] = df['Model'].map(modelsDictionary)\n",
    "    df['TrimVal'] = df['Trim'].map(trimsDictionary)\n",
    "    df['SubModelVal'] = df['SubModel'].map(subModelsDictionary)\n",
    "    df['ColorVal'] = df['Color'].map(colorsDictionary)\n",
    "    df['TransmissionVal'] = df['Transmission'].map(transmissionsDictionary)\n",
    "    df['WheelTypeVal'] = df['WheelType'].map(wheeltypesDictionary)\n",
    "    df['NationalityVal'] = df['Nationality'].map(nationalitiesDictionary)\n",
    "    df['SizeVal'] = df['Size'].map(sizesDictionary)\n",
    "    df['PRIMEUNITVal'] = df['PRIMEUNIT'].map(demandsDictionary)\n",
    "    df['AUCGUARTVal'] = df['AUCGUART'].map(guaranteesDictionary)\n",
    "    df['VehBCostVal'] = df['VehBCost'].map(vehcostsDictionary)\n",
    "    df['VNZIP1Val'] = df['VNZIP1'].map(zipcodesDictionary)\n",
    "    df['VNSTVal'] = df['VNST'].map(statesDictionary)\n",
    "    df['WarrantyCostVal'] = df['WarrantyCost'].map(warrantiesDictionary)\n",
    "\n",
    "    dfFeatureSelection = df.drop(['RefId','MMRAcquisitionAuctionAveragePrice','MMRAcquisitionAuctionCleanPrice','MMRAcquisitionRetailAveragePrice',\n",
    "                                 'MMRAcquisitonRetailCleanPrice','MMRCurrentAuctionAveragePrice','MMRCurrentAuctionCleanPrice','MMRCurrentRetailAveragePrice',\n",
    "                                 'MMRCurrentRetailCleanPrice'], axis=1)\n",
    "\n",
    "    dfFeatureSelection = dfFeatureSelection.drop(['Auction','Make','Model','Trim','SubModel','Color','Transmission','WheelType','Nationality','Size',\n",
    "                                  'PRIMEUNIT','AUCGUART','VehBCost','VNZIP1','VNST','WarrantyCost'], axis=1)\n",
    "\n",
    "    nAttributesRanking = len(dfFeatureSelection.columns)\n",
    "    \n",
    "    return df"
   ]
  },
  {
   "cell_type": "code",
   "execution_count": 54,
   "metadata": {
    "collapsed": false
   },
   "outputs": [
    {
     "data": {
      "text/html": [
       "<div>\n",
       "<table border=\"1\" class=\"dataframe\">\n",
       "  <thead>\n",
       "    <tr style=\"text-align: right;\">\n",
       "      <th></th>\n",
       "      <th>RefId</th>\n",
       "      <th>IsBadBuy</th>\n",
       "      <th>Auction</th>\n",
       "      <th>VehicleAge</th>\n",
       "      <th>Make</th>\n",
       "      <th>Model</th>\n",
       "      <th>Trim</th>\n",
       "      <th>SubModel</th>\n",
       "      <th>Color</th>\n",
       "      <th>Transmission</th>\n",
       "      <th>...</th>\n",
       "      <th>TransmissionVal</th>\n",
       "      <th>WheelTypeVal</th>\n",
       "      <th>NationalityVal</th>\n",
       "      <th>SizeVal</th>\n",
       "      <th>PRIMEUNITVal</th>\n",
       "      <th>AUCGUARTVal</th>\n",
       "      <th>VehBCostVal</th>\n",
       "      <th>VNZIP1Val</th>\n",
       "      <th>VNSTVal</th>\n",
       "      <th>WarrantyCostVal</th>\n",
       "    </tr>\n",
       "  </thead>\n",
       "  <tbody>\n",
       "    <tr>\n",
       "      <th>11458</th>\n",
       "      <td>11467</td>\n",
       "      <td>0</td>\n",
       "      <td>MANHEIM</td>\n",
       "      <td>8</td>\n",
       "      <td>MERCURY</td>\n",
       "      <td>SABLE</td>\n",
       "      <td>GS</td>\n",
       "      <td>4D SEDAN GS</td>\n",
       "      <td>SILVER</td>\n",
       "      <td>AUTO</td>\n",
       "      <td>...</td>\n",
       "      <td>0</td>\n",
       "      <td>1</td>\n",
       "      <td>0</td>\n",
       "      <td>5</td>\n",
       "      <td>1</td>\n",
       "      <td>1</td>\n",
       "      <td>379</td>\n",
       "      <td>21</td>\n",
       "      <td>19</td>\n",
       "      <td>110</td>\n",
       "    </tr>\n",
       "    <tr>\n",
       "      <th>35931</th>\n",
       "      <td>35954</td>\n",
       "      <td>0</td>\n",
       "      <td>MANHEIM</td>\n",
       "      <td>2</td>\n",
       "      <td>DODGE</td>\n",
       "      <td>CARAVAN GRAND FWD V6</td>\n",
       "      <td>SE</td>\n",
       "      <td>MINIVAN 3.3L FFV SE</td>\n",
       "      <td>SILVER</td>\n",
       "      <td>AUTO</td>\n",
       "      <td>...</td>\n",
       "      <td>0</td>\n",
       "      <td>1</td>\n",
       "      <td>0</td>\n",
       "      <td>12</td>\n",
       "      <td>1</td>\n",
       "      <td>1</td>\n",
       "      <td>1168</td>\n",
       "      <td>13</td>\n",
       "      <td>34</td>\n",
       "      <td>179</td>\n",
       "    </tr>\n",
       "    <tr>\n",
       "      <th>63274</th>\n",
       "      <td>63305</td>\n",
       "      <td>0</td>\n",
       "      <td>MANHEIM</td>\n",
       "      <td>7</td>\n",
       "      <td>ACURA</td>\n",
       "      <td>3.2 CL</td>\n",
       "      <td>S</td>\n",
       "      <td>2D COUPE TYPE S NAVIGATION AUTO</td>\n",
       "      <td>SILVER</td>\n",
       "      <td>AUTO</td>\n",
       "      <td>...</td>\n",
       "      <td>0</td>\n",
       "      <td>0</td>\n",
       "      <td>3</td>\n",
       "      <td>10</td>\n",
       "      <td>1</td>\n",
       "      <td>1</td>\n",
       "      <td>1070</td>\n",
       "      <td>23</td>\n",
       "      <td>19</td>\n",
       "      <td>212</td>\n",
       "    </tr>\n",
       "    <tr>\n",
       "      <th>46971</th>\n",
       "      <td>46995</td>\n",
       "      <td>0</td>\n",
       "      <td>MANHEIM</td>\n",
       "      <td>3</td>\n",
       "      <td>DODGE</td>\n",
       "      <td>MAGNUM V6 2.7L V6 MP</td>\n",
       "      <td>SE</td>\n",
       "      <td>WAGON 2.7L</td>\n",
       "      <td>WHITE</td>\n",
       "      <td>AUTO</td>\n",
       "      <td>...</td>\n",
       "      <td>0</td>\n",
       "      <td>1</td>\n",
       "      <td>0</td>\n",
       "      <td>10</td>\n",
       "      <td>1</td>\n",
       "      <td>1</td>\n",
       "      <td>1188</td>\n",
       "      <td>92</td>\n",
       "      <td>32</td>\n",
       "      <td>114</td>\n",
       "    </tr>\n",
       "    <tr>\n",
       "      <th>9817</th>\n",
       "      <td>9826</td>\n",
       "      <td>0</td>\n",
       "      <td>MANHEIM</td>\n",
       "      <td>7</td>\n",
       "      <td>HONDA</td>\n",
       "      <td>CIVIC</td>\n",
       "      <td>LX</td>\n",
       "      <td>4D SEDAN LX AUTO</td>\n",
       "      <td>MAROON</td>\n",
       "      <td>AUTO</td>\n",
       "      <td>...</td>\n",
       "      <td>0</td>\n",
       "      <td>1</td>\n",
       "      <td>4</td>\n",
       "      <td>0</td>\n",
       "      <td>1</td>\n",
       "      <td>1</td>\n",
       "      <td>912</td>\n",
       "      <td>12</td>\n",
       "      <td>14</td>\n",
       "      <td>44</td>\n",
       "    </tr>\n",
       "  </tbody>\n",
       "</table>\n",
       "<p>5 rows × 45 columns</p>\n",
       "</div>"
      ],
      "text/plain": [
       "       RefId  IsBadBuy  Auction  VehicleAge     Make                 Model  \\\n",
       "11458  11467         0  MANHEIM           8  MERCURY                 SABLE   \n",
       "35931  35954         0  MANHEIM           2    DODGE  CARAVAN GRAND FWD V6   \n",
       "63274  63305         0  MANHEIM           7    ACURA                3.2 CL   \n",
       "46971  46995         0  MANHEIM           3    DODGE  MAGNUM V6 2.7L V6 MP   \n",
       "9817    9826         0  MANHEIM           7    HONDA                 CIVIC   \n",
       "\n",
       "      Trim                         SubModel   Color Transmission  \\\n",
       "11458   GS                      4D SEDAN GS  SILVER         AUTO   \n",
       "35931   SE              MINIVAN 3.3L FFV SE  SILVER         AUTO   \n",
       "63274    S  2D COUPE TYPE S NAVIGATION AUTO  SILVER         AUTO   \n",
       "46971   SE                       WAGON 2.7L   WHITE         AUTO   \n",
       "9817    LX                 4D SEDAN LX AUTO  MAROON         AUTO   \n",
       "\n",
       "            ...       TransmissionVal  WheelTypeVal NationalityVal SizeVal  \\\n",
       "11458       ...                     0             1              0       5   \n",
       "35931       ...                     0             1              0      12   \n",
       "63274       ...                     0             0              3      10   \n",
       "46971       ...                     0             1              0      10   \n",
       "9817        ...                     0             1              4       0   \n",
       "\n",
       "      PRIMEUNITVal AUCGUARTVal VehBCostVal VNZIP1Val VNSTVal WarrantyCostVal  \n",
       "11458            1           1         379        21      19             110  \n",
       "35931            1           1        1168        13      34             179  \n",
       "63274            1           1        1070        23      19             212  \n",
       "46971            1           1        1188        92      32             114  \n",
       "9817             1           1         912        12      14              44  \n",
       "\n",
       "[5 rows x 45 columns]"
      ]
     },
     "execution_count": 54,
     "metadata": {},
     "output_type": "execute_result"
    }
   ],
   "source": [
    "df = pd.read_csv(\"training.csv\") \n",
    "df2 = pd.read_csv(\"test.csv\")\n",
    "\n",
    "test_id = df2['RefId']\n",
    "\n",
    "df = clean_data(df)\n",
    "df2 = clean_data(df2)\n",
    "\n",
    "# Divide the array in two\n",
    "df_goodbuy = df[df['IsBadBuy'].map(lambda x: x == 0)]\n",
    "df_badbuy = df[df['IsBadBuy'].map(lambda x: x == 1)]\n",
    "\n",
    "#df_goodbuy.drop(df_goodbuy.index[[1,3]], inplace=True)\n",
    "df_goodbuy = df_goodbuy.sample(frac=1)\n",
    "df_goodbuy = df_goodbuy[:][:len(df_badbuy)]\n",
    "\n",
    "frames = [df_goodbuy, df_badbuy]\n",
    "df = pd.concat(frames)"
   ]
  },
  {
   "cell_type": "code",
   "execution_count": 42,
   "metadata": {
    "collapsed": false
   },
   "outputs": [],
   "source": [
    "df_train = pd.concat([\n",
    "    df['IsBadBuy'],     # mah?! e' il target\n",
    "    df['VehicleAge'],\n",
    "    df['VehOdo'],\n",
    "    df['IsOnlineSale'],\n",
    "    df['AuctionVal'],\n",
    "    df['MakeVal'],\n",
    "    df['ModelVal'],\n",
    "    df['TrimVal'],\n",
    "    df['SubModelVal'],\n",
    "    df['ColorVal'],\n",
    "    df['TransmissionVal'],\n",
    "    df['WheelTypeVal'],\n",
    "    df['NationalityVal'],\n",
    "    df['SizeVal'],\n",
    "    df['PRIMEUNITVal'],\n",
    "    df['AUCGUARTVal'],\n",
    "    df['VehBCostVal'],\n",
    "    df['VNZIP1Val'],\n",
    "    df['VNSTVal'],\n",
    "    df['WarrantyCostVal']\n",
    "    ],\n",
    "    axis=1)\n",
    "\n",
    "df_test = pd.concat([\n",
    "    df2['VehicleAge'],\n",
    "    df2['VehOdo'],\n",
    "    df2['IsOnlineSale'],\n",
    "    df2['AuctionVal'],\n",
    "    df2['MakeVal'],\n",
    "    df2['ModelVal'],\n",
    "    df2['TrimVal'],\n",
    "    df2['SubModelVal'],\n",
    "    df2['ColorVal'],\n",
    "    df2['TransmissionVal'],\n",
    "    df2['WheelTypeVal'],\n",
    "    df2['NationalityVal'],\n",
    "    df2['SizeVal'],\n",
    "    df2['PRIMEUNITVal'],\n",
    "    df2['AUCGUARTVal'],\n",
    "    df2['VehBCostVal'],\n",
    "    df2['VNZIP1Val'],\n",
    "    df2['VNSTVal'],\n",
    "    df2['WarrantyCostVal']\n",
    "    ],\n",
    "    axis=1)"
   ]
  },
  {
   "cell_type": "code",
   "execution_count": 43,
   "metadata": {
    "collapsed": false
   },
   "outputs": [],
   "source": [
    "#Convert the DataFrame to a numpy array:\n",
    "train_data = df_train.values"
   ]
  },
  {
   "cell_type": "code",
   "execution_count": 44,
   "metadata": {
    "collapsed": true
   },
   "outputs": [],
   "source": [
    "# Training data features, skip the first column 'Survived'\n",
    "train_features = train_data[:, 1:]\n",
    "\n",
    "# 'Survived' column values\n",
    "train_target = train_data[:, 0]\n",
    "\n",
    "test_features = df_test.values"
   ]
  },
  {
   "cell_type": "code",
   "execution_count": 45,
   "metadata": {
    "collapsed": false
   },
   "outputs": [
    {
     "data": {
      "text/plain": [
       "array([    3, 89046,     0,     0,    17,   586,   133,   221,    13,\n",
       "           0,     0,     3,     5,     1,     1,  1019,    47,     5,    70])"
      ]
     },
     "execution_count": 45,
     "metadata": {},
     "output_type": "execute_result"
    }
   ],
   "source": [
    "train_features[0]"
   ]
  },
  {
   "cell_type": "code",
   "execution_count": 46,
   "metadata": {
    "collapsed": false
   },
   "outputs": [
    {
     "data": {
      "text/plain": [
       "0"
      ]
     },
     "execution_count": 46,
     "metadata": {},
     "output_type": "execute_result"
    }
   ],
   "source": [
    "train_target[1]"
   ]
  },
  {
   "cell_type": "code",
   "execution_count": 47,
   "metadata": {
    "collapsed": false
   },
   "outputs": [],
   "source": [
    "# Fit the model to our training data\n",
    "clf = tree.DecisionTreeClassifier(criterion='gini', splitter='best', max_depth=None, \n",
    "                                  min_samples_split=2, min_samples_leaf=2)\n",
    "clf = clf.fit(train_features, train_target)"
   ]
  },
  {
   "cell_type": "code",
   "execution_count": 48,
   "metadata": {
    "collapsed": false
   },
   "outputs": [
    {
     "data": {
      "text/plain": [
       "array([  1.33316066e-02,   4.35522554e-02,   3.32985930e-03,\n",
       "         1.01405368e-01,   8.92028203e-03,   2.15009294e-02,\n",
       "         1.40849889e-02,   1.56878465e-02,   1.39215454e-02,\n",
       "         3.06124581e-04,   1.30552988e-01,   8.49781273e-04,\n",
       "         4.38255140e-03,   2.08463393e-03,   0.00000000e+00,\n",
       "         3.30356162e-02,   4.47874471e-01,   1.24582610e-01,\n",
       "         2.05965417e-02])"
      ]
     },
     "execution_count": 48,
     "metadata": {},
     "output_type": "execute_result"
    }
   ],
   "source": [
    "clf.feature_importances_"
   ]
  },
  {
   "cell_type": "code",
   "execution_count": 49,
   "metadata": {
    "collapsed": false
   },
   "outputs": [
    {
     "name": "stdout",
     "output_type": "stream",
     "text": [
      "0.978597036691\n",
      "0.97816399287\n",
      "0.978159052342\n",
      "0.97816399287\n",
      "(array([ 0.96420074,  0.99299334]), array([ 0.9932041 ,  0.96312389]), array([ 0.97848754,  0.97783056]), array([8976, 8976]))\n"
     ]
    }
   ],
   "source": [
    "pred_target = clf.predict(train_features)\n",
    "\n",
    "print metrics.precision_score(train_target, pred_target, average='weighted')\n",
    "print metrics.recall_score(train_target, pred_target, average='weighted')\n",
    "print metrics.f1_score(train_target, pred_target, average='weighted')\n",
    "print metrics.accuracy_score(train_target, pred_target)\n",
    "print metrics.precision_recall_fscore_support(train_target, pred_target)"
   ]
  },
  {
   "cell_type": "code",
   "execution_count": 50,
   "metadata": {
    "collapsed": false
   },
   "outputs": [
    {
     "data": {
      "text/plain": [
       "17952"
      ]
     },
     "execution_count": 50,
     "metadata": {},
     "output_type": "execute_result"
    }
   ],
   "source": [
    "len(train_data)"
   ]
  },
  {
   "cell_type": "code",
   "execution_count": 51,
   "metadata": {
    "collapsed": false
   },
   "outputs": [],
   "source": [
    "clf = tree.DecisionTreeClassifier(criterion='gini', splitter='best', max_depth=7, \n",
    "                                  min_samples_split=2, min_samples_leaf=10) #, class_weight='balanced')\n",
    "\n",
    "clf = tree.DecisionTreeClassifier(class_weight=None, criterion='gini', max_depth=6,\n",
    "            max_features='auto', max_leaf_nodes=None,\n",
    "            min_impurity_split=1e-07, min_samples_leaf=1,\n",
    "            min_samples_split=2, min_weight_fraction_leaf=0.0,\n",
    "            presort=False, random_state=288500278, splitter='best')\n",
    "\n",
    "clf = RandomForestClassifier(n_estimators=30, \n",
    "                             criterion='gini',\n",
    "                             max_features=None,\n",
    "                             max_depth=None, \n",
    "                             min_samples_split=2,\n",
    "                             min_samples_leaf=5,\n",
    "                             bootstrap=True,\n",
    "                             oob_score=False,\n",
    "                             random_state=None,\n",
    "                             class_weight=None) #balanced\n",
    "\n",
    "clf=clf.fit(train_features, train_target)"
   ]
  },
  {
   "cell_type": "code",
   "execution_count": 52,
   "metadata": {
    "collapsed": false
   },
   "outputs": [],
   "source": [
    "train_pred = clf.predict(train_features)\n",
    "test_pred = clf.predict(test_features)\n",
    "\n",
    "test = np.arange(73015, 121722, dtype=np.int)\n",
    "tmp = pd.concat([\n",
    "    pd.DataFrame(test_id),\n",
    "    pd.DataFrame(test_pred)\n",
    "    ],\n",
    "    axis=1)\n",
    "\n",
    "tmp.to_csv(\"foo.csv\", sep=\",\", index=False)"
   ]
  },
  {
   "cell_type": "code",
   "execution_count": null,
   "metadata": {
    "collapsed": true
   },
   "outputs": [],
   "source": []
  },
  {
   "cell_type": "code",
   "execution_count": null,
   "metadata": {
    "collapsed": false
   },
   "outputs": [],
   "source": []
  },
  {
   "cell_type": "code",
   "execution_count": null,
   "metadata": {
    "collapsed": false
   },
   "outputs": [],
   "source": []
  },
  {
   "cell_type": "code",
   "execution_count": null,
   "metadata": {
    "collapsed": false
   },
   "outputs": [],
   "source": []
  },
  {
   "cell_type": "code",
   "execution_count": null,
   "metadata": {
    "collapsed": true
   },
   "outputs": [],
   "source": []
  }
 ],
 "metadata": {
  "anaconda-cloud": {},
  "kernelspec": {
   "display_name": "Python [default]",
   "language": "python",
   "name": "python2"
  },
  "language_info": {
   "codemirror_mode": {
    "name": "ipython",
    "version": 2
   },
   "file_extension": ".py",
   "mimetype": "text/x-python",
   "name": "python",
   "nbconvert_exporter": "python",
   "pygments_lexer": "ipython2",
   "version": "2.7.12"
  }
 },
 "nbformat": 4,
 "nbformat_minor": 0
}
